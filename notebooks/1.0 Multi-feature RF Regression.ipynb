{
 "cells": [
  {
   "cell_type": "markdown",
   "id": "4b03d9e9",
   "metadata": {},
   "source": [
    "This notebook uses multiple predictors and a random forest model to predict peat depth across the Fens. The Google Earth Engine framework is used for processing and combining predictors. In the future, we will use the 'feature importance' from the random forest model to decide on which predictors to take forward for use in ML models. We will also export the train/test data (easiest as tabular) to PyTorch to compare the RF model against more complex machine learning algorithms. We can also use trained models to make peat depth predictions across the Fens. \n"
   ]
  },
  {
   "cell_type": "markdown",
   "id": "de782842",
   "metadata": {},
   "source": [
    "# Predictor List "
   ]
  },
  {
   "cell_type": "markdown",
   "id": "522f65dd",
   "metadata": {},
   "source": [
    "Currently implemented preditors:\n",
    "1. Sentinel-2 with cloud removal (2 options): all bands \n",
    "2. NATMAP vector soil map\n",
    "\n",
    "\n",
    "To be implemented: \n",
    "1. Rest of LandIS datasets \n",
    "2. Sentinel-2 relevant metrics such as NDVI or thermal-related\n",
    "3. Sentinel-1 (SAR)\n",
    "4. Landcover type (e.g. type of crops grown)\n",
    "5. Lidar-derived metrics\n",
    "6. Roddons (e.g. distance to)\n",
    "7. Distance to watercourses/ditches\n",
    "8. Geology\n",
    "9. Any wastage features from Holman paper "
   ]
  },
  {
   "cell_type": "markdown",
   "id": "0bb53f66",
   "metadata": {
    "heading_collapsed": true
   },
   "source": [
    "# Setup"
   ]
  },
  {
   "cell_type": "code",
   "execution_count": 1,
   "id": "28372d0d",
   "metadata": {
    "hidden": true
   },
   "outputs": [
    {
     "name": "stderr",
     "output_type": "stream",
     "text": [
      "/Users/hamishcampbell/opt/miniconda3/envs/geospatial/lib/python3.8/site-packages/scipy/__init__.py:146: UserWarning: A NumPy version >=1.16.5 and <1.23.0 is required for this version of SciPy (detected version 1.24.1\n",
      "  warnings.warn(f\"A NumPy version >={np_minversion} and <{np_maxversion}\"\n"
     ]
    }
   ],
   "source": [
    "# necessary imports \n",
    "import ee\n",
    "import geemap\n",
    "import matplotlib.pyplot as plt\n",
    "from sklearn.metrics import r2_score, mean_squared_error\n",
    "\n",
    "# if error with geopandas then try running:\n",
    "# pip install --upgrade --force-reinstall shapely"
   ]
  },
  {
   "cell_type": "code",
   "execution_count": 48,
   "id": "de19730f",
   "metadata": {
    "hidden": true
   },
   "outputs": [],
   "source": [
    "# data and file paths\n",
    "path_depths = \"/Users/hamishcampbell/Documents/Cambridge/PhD/1st Year/Code/depth-mapping/Data/Ground Truth/depth_samples.shp\" \n",
    "path_fenOutline = \"/Users/hamishcampbell/Documents/Cambridge/PhD/1st Year/Code/depth-mapping/Data/CLR/NCA_46_The_Fens.shp\"\n",
    "path_vector = \"projects/ee-depthmapping-hrac2/assets/Rasterised_NATMAPvector\"\n",
    "path_lidar = \"projects/ee-depthmapping-hrac2/assets/test_lidar\""
   ]
  },
  {
   "cell_type": "code",
   "execution_count": 3,
   "id": "7266711c",
   "metadata": {
    "hidden": true
   },
   "outputs": [],
   "source": [
    "# initialise Google Earth Engine\n",
    "\n",
    "# NOTE: first run only\n",
    "#ee.Authenticate()\n",
    "\n",
    "ee.Initialize()"
   ]
  },
  {
   "cell_type": "code",
   "execution_count": 4,
   "id": "33ecb1f6",
   "metadata": {
    "hidden": true
   },
   "outputs": [],
   "source": [
    "# load the Fens outline shape file into GEE\n",
    "fenOutline = ee.FeatureCollection(geemap.shp_to_ee(path_fenOutline))\n",
    "\n",
    "# load the depth measurements shape file into GEE\n",
    "depths = geemap.shp_to_ee(path_depths)"
   ]
  },
  {
   "cell_type": "markdown",
   "id": "ca29bd1e",
   "metadata": {
    "heading_collapsed": true
   },
   "source": [
    "# Sentinel-2"
   ]
  },
  {
   "cell_type": "markdown",
   "id": "6a6f973c",
   "metadata": {
    "heading_collapsed": true,
    "hidden": true
   },
   "source": [
    "### Cloud removal option 1 - \"Mean Composite\""
   ]
  },
  {
   "cell_type": "markdown",
   "id": "7bcff2ca",
   "metadata": {
    "hidden": true
   },
   "source": [
    "This cloud removal method finds all the non-cloudy pixels in the area of interest, within the time interval specified, and calculates the mean value of each pixel. The \"CLD_PRB_THRESH\" variable is used to specify what percentage of cloud is allowable before a pixel is labelled as cloudy (100 means nothing is labelled cloudy and so all pixels are used for mean calculation). The pixel cloudiness values are given by 's2cloudless' which is a seperate algorithm whose result can be obtained through GEE (provides a cloud probability value of 0-100).  "
   ]
  },
  {
   "cell_type": "code",
   "execution_count": 5,
   "id": "6bccb62b",
   "metadata": {
    "hidden": true
   },
   "outputs": [],
   "source": [
    "# cloud masking paramters to control aggression - values chosen to find best balance between cloud-removal and few\n",
    "# NA data points\n",
    "AOI = fenOutline\n",
    "START_DATE = '2022-04-01'\n",
    "END_DATE = '2022-07-01'\n",
    "CLOUD_FILTER = 60                 # tiles with more than this percentage are removed from analysis\n",
    "CLD_PRB_THRESH = 40               # pixels greater than this are considered clouds \n",
    "NIR_DRK_THRESH = 0.15             # used for cloud shadow detection\n",
    "CLD_PRJ_DIST = 1\n",
    "BUFFER = 50 "
   ]
  },
  {
   "cell_type": "code",
   "execution_count": 6,
   "id": "fff4baab",
   "metadata": {
    "hidden": true
   },
   "outputs": [],
   "source": [
    "# Function to attach an s2cloudless tile to each of the sentinel tiles that denotes which pixels are likely to be clouds\n",
    "def attach_cld_msk_to_sen(aoi, start_date, end_date):\n",
    "    # Import and filter Sentinel-2 imagery\n",
    "    s2_images = (ee.ImageCollection('COPERNICUS/S2_SR_HARMONIZED')\n",
    "        .filterBounds(aoi)\n",
    "        .filterDate(start_date, end_date)\n",
    "        .filter(ee.Filter.lte('CLOUDY_PIXEL_PERCENTAGE', CLOUD_FILTER)))\n",
    "\n",
    "    # Import and filter s2cloudless pixel values\n",
    "    s2_cloudless = (ee.ImageCollection('COPERNICUS/S2_CLOUD_PROBABILITY')\n",
    "        .filterBounds(aoi)\n",
    "        .filterDate(start_date, end_date))\n",
    "\n",
    "    # Join the filtered s2cloudless collection to the Sentinel collection by the 'system:index' (time) property\n",
    "    return ee.ImageCollection(ee.Join.saveFirst('s2cloudless').apply(**{\n",
    "        'primary': s2_images,\n",
    "        'secondary': s2_cloudless,\n",
    "        'condition': ee.Filter.equals(**{\n",
    "            'leftField': 'system:index',\n",
    "            'rightField': 'system:index'\n",
    "        })\n",
    "    }))"
   ]
  },
  {
   "cell_type": "code",
   "execution_count": 7,
   "id": "1188af31",
   "metadata": {
    "hidden": true
   },
   "outputs": [],
   "source": [
    "# get Sentinel tiles with s2cloudless tiles attached\n",
    "sentinel_with_s2cloudless = attach_cld_msk_to_sen(AOI, START_DATE, END_DATE)"
   ]
  },
  {
   "cell_type": "code",
   "execution_count": 8,
   "id": "7f45030c",
   "metadata": {
    "hidden": true
   },
   "outputs": [],
   "source": [
    "# Function to add band with cloud mask information to Sentinel imagery\n",
    "def add_cloud_bands(img):\n",
    "    # Get s2cloudless image, subset the probability band.\n",
    "    cld_prb = ee.Image(img.get('s2cloudless')).select('probability')\n",
    "\n",
    "    # Condition s2cloudless by the probability threshold value.\n",
    "    is_cloud = cld_prb.gt(CLD_PRB_THRESH).rename('clouds')\n",
    "\n",
    "    # Add the cloud probability layer and cloud mask as image bands.\n",
    "    return img.addBands(ee.Image([cld_prb, is_cloud]))\n",
    "\n",
    "\n",
    "# Function to add band with cloud shadow mask information to Sentinel imagery\n",
    "def add_shadow_bands(img):\n",
    "    # Identify water pixels from the SCL band\n",
    "    not_water = img.select('SCL').neq(6)\n",
    "\n",
    "    # Identify dark NIR pixels that are not water (potential cloud shadow pixels)\n",
    "    SR_BAND_SCALE = 1e4\n",
    "    dark_pixels = img.select('B8').lt(NIR_DRK_THRESH*SR_BAND_SCALE).multiply(not_water).rename('dark_pixels')\n",
    "\n",
    "    # Determine the direction to project cloud shadow from clouds (assumes UTM projection)\n",
    "    shadow_azimuth = ee.Number(90).subtract(ee.Number(img.get('MEAN_SOLAR_AZIMUTH_ANGLE')));\n",
    "\n",
    "    # Project shadows from clouds for the distance specified by the CLD_PRJ_DIST input\n",
    "    cld_proj = (img.select('clouds').directionalDistanceTransform(shadow_azimuth, CLD_PRJ_DIST*10)\n",
    "        .reproject(**{'crs': img.select(0).projection(), 'scale': 100})\n",
    "        .select('distance')\n",
    "        .mask()\n",
    "        .rename('cloud_transform'))\n",
    "\n",
    "    # Identify the intersection of dark pixels with cloud shadow projection.\n",
    "    shadows = cld_proj.multiply(dark_pixels).rename('shadows')\n",
    "\n",
    "    # Add dark pixels, cloud projection, and identified shadows as image bands.\n",
    "    return img.addBands(ee.Image([dark_pixels, cld_proj, shadows]))\n",
    "\n",
    "\n",
    "# Function to execute the addition of cloud and shadow bands to imagery and add combined mask\n",
    "def add_cld_shdw_mask(img):\n",
    "    # Add cloud component bands.\n",
    "    img_cloud = add_cloud_bands(img)\n",
    "\n",
    "    # Add cloud shadow component bands.\n",
    "    img_cloud_shadow = add_shadow_bands(img_cloud)\n",
    "\n",
    "    # Combine cloud and shadow mask, set cloud and shadow as value 1, else 0.\n",
    "    is_cld_shdw = img_cloud_shadow.select('clouds').add(img_cloud_shadow.select('shadows')).gt(0)\n",
    "\n",
    "    # Remove small cloud-shadow patches and dilate remaining pixels by BUFFER input.\n",
    "    # 20 m scale is for speed, and assumes clouds don't require 10 m precision.\n",
    "    is_cld_shdw = (is_cld_shdw.focalMin(2).focalMax(BUFFER*2/20)\n",
    "        .reproject(**{'crs': img.select([0]).projection(), 'scale': 20})\n",
    "        .rename('cloudmask'))\n",
    "\n",
    "    # Add the final cloud-shadow mask to the image.\n",
    "    return img_cloud_shadow.addBands(is_cld_shdw)\n",
    "\n",
    "\n",
    "# Function to actually mask the images using the mask bands to remove clouds/shadows\n",
    "def apply_cld_shdw_mask(img):\n",
    "    # Subset the cloudmask band and invert it so clouds/shadow are 0, else 1.\n",
    "    not_cld_shdw = img.select('cloudmask').Not()\n",
    "\n",
    "    # Subset reflectance bands and update their masks, return the result.\n",
    "    return img.select('B.*').updateMask(not_cld_shdw)"
   ]
  },
  {
   "cell_type": "code",
   "execution_count": 9,
   "id": "dbc8a9e9",
   "metadata": {
    "hidden": true
   },
   "outputs": [],
   "source": [
    "# Apply all of the cloud/shadow mask functions to mask Sentinel imagery, and then calculate the mean composite image \n",
    "# from all the non-cloudy pixels at each point (mask determines which values get used in mean calculation)\n",
    "sen_algorithm1 = (sentinel_with_s2cloudless.map(add_cld_shdw_mask)\n",
    "                                           .map(apply_cld_shdw_mask)\n",
    "                                           .mean())"
   ]
  },
  {
   "cell_type": "markdown",
   "id": "154cf115",
   "metadata": {
    "heading_collapsed": true,
    "hidden": true
   },
   "source": [
    "### Cloud removal option 2 - \"Prioritise Contiguous Tiles\""
   ]
  },
  {
   "cell_type": "code",
   "execution_count": 10,
   "id": "d90ee537",
   "metadata": {
    "hidden": true
   },
   "outputs": [],
   "source": [
    "# get all surface reflectance Sentinel-2 imagery \n",
    "sen = ee.ImageCollection(\"COPERNICUS/S2_SR_HARMONIZED\")\n",
    "\n",
    "# select a start and end date for imagery composite to be made up of \n",
    "start_date = '2022-06-01'\n",
    "end_date = '2022-07-01'\n",
    "\n",
    "# keep only the data that meets some basic criteria\n",
    "sen_filtered = (sen.filterBounds(fenOutline)\n",
    "    .filterDate(start_date, end_date)               # temporally limited \n",
    "    .sort('CLOUD_COVERAGE_ASSESSMENT', False))      # sort tiles by cloud cover "
   ]
  },
  {
   "cell_type": "code",
   "execution_count": 11,
   "id": "e8c7dcf1",
   "metadata": {
    "hidden": true
   },
   "outputs": [],
   "source": [
    "# Write a function that alters the pixel validity mask of a tile according to if cloud is present or not\n",
    "def check_cloud_absence(tile): \n",
    "    # if MSK_CLDPRB less than 10 => low chance of cloud => let mask remain valid at that pixel\n",
    "    # if medium-high chance of cloud (>10) => update mask to say pixel is invalid (mask = 0)\n",
    "    return tile.updateMask(tile.select('MSK_CLDPRB').lte(10))"
   ]
  },
  {
   "cell_type": "code",
   "execution_count": 12,
   "id": "c3e7abee",
   "metadata": {
    "hidden": true
   },
   "outputs": [],
   "source": [
    "# obtain a (mostly) cloud-free mosaic for each quarter \n",
    "quarterly_mosaics = []\n",
    "filter_start = ee.Date('2022-01-01')\n",
    "\n",
    "for quarter in range(0,4):\n",
    "    \n",
    "    # keep only tiles from the quarter being studied\n",
    "    quarterly_sen = sen_filtered.filterDate(filter_start, filter_start.advance(3,'month'))\n",
    "    \n",
    "    # Update the pixel validity mask to include condition on cloud absence\n",
    "    quarterly_sen = quarterly_sen.map(check_cloud_absence)\n",
    "        \n",
    "    # stitch the most cloud-free tiles together and replace remaining cloud pixels with those from next tile with presence\n",
    "    # NOTE: by sorting on cloud presence we keep complete image as temporally contiguous as possible\n",
    "    quarterly_mosaic = quarterly_sen.mosaic()\n",
    "    \n",
    "    # store the results required\n",
    "    quarterly_mosaics.append(quarterly_mosaic)\n",
    "    \n",
    "    # repeat for next quarter\n",
    "    filter_start = filter_start.advance(3,'month')\n",
    "    "
   ]
  },
  {
   "cell_type": "code",
   "execution_count": 13,
   "id": "2e77b0ae",
   "metadata": {
    "hidden": true
   },
   "outputs": [],
   "source": [
    "# select the quarter of the year to use for modelling (1/2/3/4)\n",
    "quarter = 2\n",
    "sen_algorithm2 = quarterly_mosaics[quarter-1]"
   ]
  },
  {
   "cell_type": "markdown",
   "id": "3db33e3d",
   "metadata": {
    "heading_collapsed": true,
    "hidden": true
   },
   "source": [
    "### Selection and Plotting"
   ]
  },
  {
   "cell_type": "code",
   "execution_count": 14,
   "id": "ec44b123",
   "metadata": {
    "hidden": true
   },
   "outputs": [],
   "source": [
    "# select which of the cloud algorithms we want to use\n",
    "sen = sen_algorithm1"
   ]
  },
  {
   "cell_type": "code",
   "execution_count": 15,
   "id": "443e5d49",
   "metadata": {
    "hidden": true
   },
   "outputs": [],
   "source": [
    "# select all the useful Sentinel bands and rename them for interpretability\n",
    "sen = sen.select(['B2', 'B3', 'B4', 'B5', 'B6', 'B7', 'B8', 'B8A', 'B11', 'B12'],\n",
    "                  ['Blue', 'Green', 'Red', 'REdge1', 'REdge2', 'REdge3', 'NIR', 'REdge4', 'SWIR1', 'SWIR2'])"
   ]
  },
  {
   "cell_type": "code",
   "execution_count": 16,
   "id": "f9087e72",
   "metadata": {
    "hidden": true
   },
   "outputs": [
    {
     "data": {
      "application/vnd.jupyter.widget-view+json": {
       "model_id": "dcccca7b945f45eba1e78136e20636f5",
       "version_major": 2,
       "version_minor": 0
      },
      "text/plain": [
       "Map(center=[52.70465287691509, 0.062270855934294995], controls=(WidgetControl(options=['position', 'transparen…"
      ]
     },
     "metadata": {},
     "output_type": "display_data"
    }
   ],
   "source": [
    "# plot the result (method 1 takes quite a while to render - zoom in and out to speed up)\n",
    "Map = geemap.Map()\n",
    "visParams = {\n",
    "  'bands': ['Red', 'Green', 'Blue'],\n",
    "  'max': 3000,\n",
    "  'min': 0,\n",
    "}\n",
    "Map.centerObject(fenOutline, 8)\n",
    "Map.addLayer(sen.clip(fenOutline), visParams, 'Sentinel 2')\n",
    "Map\n",
    "\n",
    "# plot the Fens outline in red\n",
    "style = {\n",
    "    'color': 'red',\n",
    "    'fillColor': '00000000'\n",
    "}\n",
    "Map.centerObject(fenOutline, 8)\n",
    "Map.addLayer(fenOutline.style(**style), {}, 'Fen Outline')\n",
    "\n",
    "# plot the points at which ground-truth measurements were taken on the map in blue\n",
    "style = {\n",
    "    'color': 'blue',\n",
    "    'pointSize': 2,\n",
    "    'pointShape': 'circle'\n",
    "}\n",
    "Map.addLayer(depths.style(**style), {}, 'Depth Measurements')\n",
    "Map"
   ]
  },
  {
   "cell_type": "markdown",
   "id": "897b40fa",
   "metadata": {},
   "source": [
    "# NATMAP Predictors"
   ]
  },
  {
   "cell_type": "markdown",
   "id": "6f2cc053",
   "metadata": {},
   "source": [
    "## NATMAP Vector"
   ]
  },
  {
   "cell_type": "code",
   "execution_count": 17,
   "id": "f700d18a",
   "metadata": {},
   "outputs": [],
   "source": [
    "# load the raster image from the GEE assets location (cannot load local raster files unlike with .shp files)\n",
    "NATMAP_vector = ee.Image(path_vector)\n",
    "NATMAP_vector = NATMAP_vector.rename(['SOILTYPE'])\n",
    "NATMAP_vector = NATMAP_vector.cast({'SOILTYPE': 'uint16'})"
   ]
  },
  {
   "cell_type": "code",
   "execution_count": 18,
   "id": "61687236",
   "metadata": {},
   "outputs": [
    {
     "data": {
      "application/vnd.jupyter.widget-view+json": {
       "model_id": "d3fcdb0cdc0d4f2da4836831b906c068",
       "version_major": 2,
       "version_minor": 0
      },
      "text/plain": [
       "Map(center=[52.70465287691509, 0.062270855934294995], controls=(WidgetControl(options=['position', 'transparen…"
      ]
     },
     "metadata": {},
     "output_type": "display_data"
    }
   ],
   "source": [
    "# plot this categorical soil data on a new map\n",
    "Map = geemap.Map()\n",
    "visParams = {\n",
    "    'min': 0,\n",
    "    'max': 76,\n",
    "}\n",
    "Map.addLayer(NATMAP_vector.select('SOILTYPE'), visParams, 'Soil Map')\n",
    "Map.centerObject(fenOutline, 8)\n",
    "Map"
   ]
  },
  {
   "cell_type": "markdown",
   "id": "c8085495",
   "metadata": {},
   "source": [
    "# Lidar"
   ]
  },
  {
   "cell_type": "code",
   "execution_count": 62,
   "id": "a5249ad0",
   "metadata": {},
   "outputs": [],
   "source": [
    "# load the raster image from the GEE assets location \n",
    "lidar = ee.Image(path_lidar)\n",
    "lidar = lidar.rename(['elevation'])"
   ]
  },
  {
   "cell_type": "code",
   "execution_count": 64,
   "id": "fa190b06",
   "metadata": {},
   "outputs": [
    {
     "data": {
      "application/vnd.jupyter.widget-view+json": {
       "model_id": "cb4579d9068e4b61924c2f8c7a22049f",
       "version_major": 2,
       "version_minor": 0
      },
      "text/plain": [
       "Map(center=[52.70465287691509, 0.062270855934294995], controls=(WidgetControl(options=['position', 'transparen…"
      ]
     },
     "metadata": {},
     "output_type": "display_data"
    }
   ],
   "source": [
    "# plot this categorical soil data on a new map\n",
    "Map = geemap.Map()\n",
    "visParams = {\n",
    "    'min': -10,\n",
    "    'max': 30,\n",
    "}\n",
    "Map.addLayer(lidar.select('elevation'), visParams, 'Lidar')\n",
    "Map.centerObject(fenOutline, 8)\n",
    "Map"
   ]
  },
  {
   "cell_type": "markdown",
   "id": "f672c7b7",
   "metadata": {},
   "source": [
    "# Combining Predictors"
   ]
  },
  {
   "cell_type": "markdown",
   "id": "92b95247",
   "metadata": {},
   "source": [
    "We need to make a general data layer stack (one image with bands corresponding to predictors)"
   ]
  },
  {
   "cell_type": "code",
   "execution_count": 19,
   "id": "d6e6c9e6",
   "metadata": {},
   "outputs": [],
   "source": [
    "# start with Sentinel-2 data\n",
    "predictor_stack = sen.clip(fenOutline) \n",
    "\n",
    "# add the soil map data\n",
    "predictor_stack = predictor_stack.addBands(NATMAP_vector)"
   ]
  },
  {
   "cell_type": "markdown",
   "id": "bd30b834",
   "metadata": {},
   "source": [
    "Note: we have decided that it is best if all predictors have a 10m resolution. This projection seems to display as 10m on plots best so we trust it but shouldn't make too much difference. This reprojection only works for making datasets smaller resolution. If we need to increase the resolution then we need to take e.g. mean of points - generally we will try deal with this in QGIS for e.g. lidar dataset. This command applies to all bands (predictors):"
   ]
  },
  {
   "cell_type": "code",
   "execution_count": 20,
   "id": "7a9d87e8",
   "metadata": {},
   "outputs": [],
   "source": [
    "# make sure all the predictors are using a spatial resolution of 10m (this crs uses metres and is for UK area)\n",
    "predictor_stack = predictor_stack.reproject('EPSG:3040', scale=10) "
   ]
  },
  {
   "cell_type": "code",
   "execution_count": 21,
   "id": "f1a596e3",
   "metadata": {},
   "outputs": [
    {
     "data": {
      "text/html": [
       "<div><style>:root {\n",
       "  --font-color-primary: var(--jp-content-font-color0, rgba(0, 0, 0, 1));\n",
       "  --font-color-secondary: var(--jp-content-font-color2, rgba(0, 0, 0, 0.6));\n",
       "  --font-color-accent: rgba(123, 31, 162, 1);\n",
       "  --border-color: var(--jp-border-color2, #e0e0e0);\n",
       "  --background-color: var(--jp-layout-color0, white);\n",
       "  --background-color-row-even: var(--jp-layout-color1, white);\n",
       "  --background-color-row-odd: var(--jp-layout-color2, #eeeeee);\n",
       "}\n",
       "\n",
       "html[theme=\"dark\"],\n",
       "body[data-theme=\"dark\"],\n",
       "body.vscode-dark {\n",
       "  --font-color-primary: rgba(255, 255, 255, 1);\n",
       "  --font-color-secondary: rgba(255, 255, 255, 0.6);\n",
       "  --font-color-accent: rgb(173, 132, 190);\n",
       "  --border-color: #2e2e2e;\n",
       "  --background-color: #111111;\n",
       "  --background-color-row-even: #111111;\n",
       "  --background-color-row-odd: #313131;\n",
       "}\n",
       "\n",
       ".ee {\n",
       "  padding: 1em;\n",
       "  line-height: 1.5em;\n",
       "  min-width: 300px;\n",
       "  max-width: 1200px;\n",
       "  overflow-y: scroll;\n",
       "  max-height: 600px;\n",
       "  border: 1px solid var(--border-color);\n",
       "  font-family: monospace;\n",
       "}\n",
       "\n",
       ".ee li {\n",
       "  list-style-type: none;\n",
       "}\n",
       "\n",
       ".ee ul {\n",
       "  padding-left: 1.5em !important;\n",
       "  margin: 0;\n",
       "}\n",
       "\n",
       ".ee > ul {\n",
       "  padding-left: 0 !important;\n",
       "}\n",
       "\n",
       ".ee-open,\n",
       ".ee-shut {\n",
       "  color: var(--font-color-secondary);\n",
       "  cursor: pointer;\n",
       "  margin: 0;\n",
       "}\n",
       "\n",
       ".ee-open:hover,\n",
       ".ee-shut:hover {\n",
       "  color: var(--font-color-primary);\n",
       "}\n",
       "\n",
       ".ee-k {\n",
       "  color: var(--font-color-accent);\n",
       "  margin-right: 6px;\n",
       "}\n",
       "\n",
       ".ee-v {\n",
       "  color: var(--font-color-primary);\n",
       "}\n",
       "\n",
       ".ee-toggle {\n",
       "  display: none;\n",
       "}\n",
       "\n",
       ".ee-shut + ul {\n",
       "  display: none;\n",
       "}\n",
       "\n",
       ".ee-open + ul {\n",
       "  display: block;\n",
       "}\n",
       "\n",
       ".ee-shut::before {\n",
       "  display: inline-block;\n",
       "  content: \"▼\";\n",
       "  margin-right: 6px;\n",
       "  transform: rotate(-90deg);\n",
       "  transition: transform 0.2s;\n",
       "}\n",
       "\n",
       ".ee-open::before {\n",
       "  transform: rotate(0deg);\n",
       "  display: inline-block;\n",
       "  content: \"▼\";\n",
       "  margin-right: 6px;\n",
       "  transition: transform 0.2s;\n",
       "}\n",
       "</style><div class='ee'><ul><li><label class='ee-shut'>Image (11 bands)<input type='checkbox' class='ee-toggle'></label><ul><li><span class='ee-k'>type:</span><span class='ee-v'>Image</span></li><li><label class='ee-shut'>bands: List (11 elements)<input type='checkbox' class='ee-toggle'></label><ul><li><label class='ee-shut'>0: \"Blue\", double, EPSG:3040<input type='checkbox' class='ee-toggle'></label><ul><li><span class='ee-k'>id:</span><span class='ee-v'>Blue</span></li><li><span class='ee-k'>crs:</span><span class='ee-v'>EPSG:3040</span></li><li><label class='ee-shut'>crs_transform: [10, 0, 0, 0, -10, 0]<input type='checkbox' class='ee-toggle'></label><ul><li><span class='ee-k'>0:</span><span class='ee-v'>10</span></li><li><span class='ee-k'>1:</span><span class='ee-v'>0</span></li><li><span class='ee-k'>2:</span><span class='ee-v'>0</span></li><li><span class='ee-k'>3:</span><span class='ee-v'>0</span></li><li><span class='ee-k'>4:</span><span class='ee-v'>-10</span></li><li><span class='ee-k'>5:</span><span class='ee-v'>0</span></li></ul></li><li><label class='ee-shut'>data_type: double<input type='checkbox' class='ee-toggle'></label><ul><li><span class='ee-k'>type:</span><span class='ee-v'>PixelType</span></li><li><span class='ee-k'>max:</span><span class='ee-v'>65535</span></li><li><span class='ee-k'>min:</span><span class='ee-v'>0</span></li><li><span class='ee-k'>precision:</span><span class='ee-v'>double</span></li></ul></li></ul></li><li><label class='ee-shut'>1: \"Green\", double, EPSG:3040<input type='checkbox' class='ee-toggle'></label><ul><li><span class='ee-k'>id:</span><span class='ee-v'>Green</span></li><li><span class='ee-k'>crs:</span><span class='ee-v'>EPSG:3040</span></li><li><label class='ee-shut'>crs_transform: [10, 0, 0, 0, -10, 0]<input type='checkbox' class='ee-toggle'></label><ul><li><span class='ee-k'>0:</span><span class='ee-v'>10</span></li><li><span class='ee-k'>1:</span><span class='ee-v'>0</span></li><li><span class='ee-k'>2:</span><span class='ee-v'>0</span></li><li><span class='ee-k'>3:</span><span class='ee-v'>0</span></li><li><span class='ee-k'>4:</span><span class='ee-v'>-10</span></li><li><span class='ee-k'>5:</span><span class='ee-v'>0</span></li></ul></li><li><label class='ee-shut'>data_type: double<input type='checkbox' class='ee-toggle'></label><ul><li><span class='ee-k'>type:</span><span class='ee-v'>PixelType</span></li><li><span class='ee-k'>max:</span><span class='ee-v'>65535</span></li><li><span class='ee-k'>min:</span><span class='ee-v'>0</span></li><li><span class='ee-k'>precision:</span><span class='ee-v'>double</span></li></ul></li></ul></li><li><label class='ee-shut'>2: \"Red\", double, EPSG:3040<input type='checkbox' class='ee-toggle'></label><ul><li><span class='ee-k'>id:</span><span class='ee-v'>Red</span></li><li><span class='ee-k'>crs:</span><span class='ee-v'>EPSG:3040</span></li><li><label class='ee-shut'>crs_transform: [10, 0, 0, 0, -10, 0]<input type='checkbox' class='ee-toggle'></label><ul><li><span class='ee-k'>0:</span><span class='ee-v'>10</span></li><li><span class='ee-k'>1:</span><span class='ee-v'>0</span></li><li><span class='ee-k'>2:</span><span class='ee-v'>0</span></li><li><span class='ee-k'>3:</span><span class='ee-v'>0</span></li><li><span class='ee-k'>4:</span><span class='ee-v'>-10</span></li><li><span class='ee-k'>5:</span><span class='ee-v'>0</span></li></ul></li><li><label class='ee-shut'>data_type: double<input type='checkbox' class='ee-toggle'></label><ul><li><span class='ee-k'>type:</span><span class='ee-v'>PixelType</span></li><li><span class='ee-k'>max:</span><span class='ee-v'>65535</span></li><li><span class='ee-k'>min:</span><span class='ee-v'>0</span></li><li><span class='ee-k'>precision:</span><span class='ee-v'>double</span></li></ul></li></ul></li><li><label class='ee-shut'>3: \"REdge1\", double, EPSG:3040<input type='checkbox' class='ee-toggle'></label><ul><li><span class='ee-k'>id:</span><span class='ee-v'>REdge1</span></li><li><span class='ee-k'>crs:</span><span class='ee-v'>EPSG:3040</span></li><li><label class='ee-shut'>crs_transform: [10, 0, 0, 0, -10, 0]<input type='checkbox' class='ee-toggle'></label><ul><li><span class='ee-k'>0:</span><span class='ee-v'>10</span></li><li><span class='ee-k'>1:</span><span class='ee-v'>0</span></li><li><span class='ee-k'>2:</span><span class='ee-v'>0</span></li><li><span class='ee-k'>3:</span><span class='ee-v'>0</span></li><li><span class='ee-k'>4:</span><span class='ee-v'>-10</span></li><li><span class='ee-k'>5:</span><span class='ee-v'>0</span></li></ul></li><li><label class='ee-shut'>data_type: double<input type='checkbox' class='ee-toggle'></label><ul><li><span class='ee-k'>type:</span><span class='ee-v'>PixelType</span></li><li><span class='ee-k'>max:</span><span class='ee-v'>65535</span></li><li><span class='ee-k'>min:</span><span class='ee-v'>0</span></li><li><span class='ee-k'>precision:</span><span class='ee-v'>double</span></li></ul></li></ul></li><li><label class='ee-shut'>4: \"REdge2\", double, EPSG:3040<input type='checkbox' class='ee-toggle'></label><ul><li><span class='ee-k'>id:</span><span class='ee-v'>REdge2</span></li><li><span class='ee-k'>crs:</span><span class='ee-v'>EPSG:3040</span></li><li><label class='ee-shut'>crs_transform: [10, 0, 0, 0, -10, 0]<input type='checkbox' class='ee-toggle'></label><ul><li><span class='ee-k'>0:</span><span class='ee-v'>10</span></li><li><span class='ee-k'>1:</span><span class='ee-v'>0</span></li><li><span class='ee-k'>2:</span><span class='ee-v'>0</span></li><li><span class='ee-k'>3:</span><span class='ee-v'>0</span></li><li><span class='ee-k'>4:</span><span class='ee-v'>-10</span></li><li><span class='ee-k'>5:</span><span class='ee-v'>0</span></li></ul></li><li><label class='ee-shut'>data_type: double<input type='checkbox' class='ee-toggle'></label><ul><li><span class='ee-k'>type:</span><span class='ee-v'>PixelType</span></li><li><span class='ee-k'>max:</span><span class='ee-v'>65535</span></li><li><span class='ee-k'>min:</span><span class='ee-v'>0</span></li><li><span class='ee-k'>precision:</span><span class='ee-v'>double</span></li></ul></li></ul></li><li><label class='ee-shut'>5: \"REdge3\", double, EPSG:3040<input type='checkbox' class='ee-toggle'></label><ul><li><span class='ee-k'>id:</span><span class='ee-v'>REdge3</span></li><li><span class='ee-k'>crs:</span><span class='ee-v'>EPSG:3040</span></li><li><label class='ee-shut'>crs_transform: [10, 0, 0, 0, -10, 0]<input type='checkbox' class='ee-toggle'></label><ul><li><span class='ee-k'>0:</span><span class='ee-v'>10</span></li><li><span class='ee-k'>1:</span><span class='ee-v'>0</span></li><li><span class='ee-k'>2:</span><span class='ee-v'>0</span></li><li><span class='ee-k'>3:</span><span class='ee-v'>0</span></li><li><span class='ee-k'>4:</span><span class='ee-v'>-10</span></li><li><span class='ee-k'>5:</span><span class='ee-v'>0</span></li></ul></li><li><label class='ee-shut'>data_type: double<input type='checkbox' class='ee-toggle'></label><ul><li><span class='ee-k'>type:</span><span class='ee-v'>PixelType</span></li><li><span class='ee-k'>max:</span><span class='ee-v'>65535</span></li><li><span class='ee-k'>min:</span><span class='ee-v'>0</span></li><li><span class='ee-k'>precision:</span><span class='ee-v'>double</span></li></ul></li></ul></li><li><label class='ee-shut'>6: \"NIR\", double, EPSG:3040<input type='checkbox' class='ee-toggle'></label><ul><li><span class='ee-k'>id:</span><span class='ee-v'>NIR</span></li><li><span class='ee-k'>crs:</span><span class='ee-v'>EPSG:3040</span></li><li><label class='ee-shut'>crs_transform: [10, 0, 0, 0, -10, 0]<input type='checkbox' class='ee-toggle'></label><ul><li><span class='ee-k'>0:</span><span class='ee-v'>10</span></li><li><span class='ee-k'>1:</span><span class='ee-v'>0</span></li><li><span class='ee-k'>2:</span><span class='ee-v'>0</span></li><li><span class='ee-k'>3:</span><span class='ee-v'>0</span></li><li><span class='ee-k'>4:</span><span class='ee-v'>-10</span></li><li><span class='ee-k'>5:</span><span class='ee-v'>0</span></li></ul></li><li><label class='ee-shut'>data_type: double<input type='checkbox' class='ee-toggle'></label><ul><li><span class='ee-k'>type:</span><span class='ee-v'>PixelType</span></li><li><span class='ee-k'>max:</span><span class='ee-v'>65535</span></li><li><span class='ee-k'>min:</span><span class='ee-v'>0</span></li><li><span class='ee-k'>precision:</span><span class='ee-v'>double</span></li></ul></li></ul></li><li><label class='ee-shut'>7: \"REdge4\", double, EPSG:3040<input type='checkbox' class='ee-toggle'></label><ul><li><span class='ee-k'>id:</span><span class='ee-v'>REdge4</span></li><li><span class='ee-k'>crs:</span><span class='ee-v'>EPSG:3040</span></li><li><label class='ee-shut'>crs_transform: [10, 0, 0, 0, -10, 0]<input type='checkbox' class='ee-toggle'></label><ul><li><span class='ee-k'>0:</span><span class='ee-v'>10</span></li><li><span class='ee-k'>1:</span><span class='ee-v'>0</span></li><li><span class='ee-k'>2:</span><span class='ee-v'>0</span></li><li><span class='ee-k'>3:</span><span class='ee-v'>0</span></li><li><span class='ee-k'>4:</span><span class='ee-v'>-10</span></li><li><span class='ee-k'>5:</span><span class='ee-v'>0</span></li></ul></li><li><label class='ee-shut'>data_type: double<input type='checkbox' class='ee-toggle'></label><ul><li><span class='ee-k'>type:</span><span class='ee-v'>PixelType</span></li><li><span class='ee-k'>max:</span><span class='ee-v'>65535</span></li><li><span class='ee-k'>min:</span><span class='ee-v'>0</span></li><li><span class='ee-k'>precision:</span><span class='ee-v'>double</span></li></ul></li></ul></li><li><label class='ee-shut'>8: \"SWIR1\", double, EPSG:3040<input type='checkbox' class='ee-toggle'></label><ul><li><span class='ee-k'>id:</span><span class='ee-v'>SWIR1</span></li><li><span class='ee-k'>crs:</span><span class='ee-v'>EPSG:3040</span></li><li><label class='ee-shut'>crs_transform: [10, 0, 0, 0, -10, 0]<input type='checkbox' class='ee-toggle'></label><ul><li><span class='ee-k'>0:</span><span class='ee-v'>10</span></li><li><span class='ee-k'>1:</span><span class='ee-v'>0</span></li><li><span class='ee-k'>2:</span><span class='ee-v'>0</span></li><li><span class='ee-k'>3:</span><span class='ee-v'>0</span></li><li><span class='ee-k'>4:</span><span class='ee-v'>-10</span></li><li><span class='ee-k'>5:</span><span class='ee-v'>0</span></li></ul></li><li><label class='ee-shut'>data_type: double<input type='checkbox' class='ee-toggle'></label><ul><li><span class='ee-k'>type:</span><span class='ee-v'>PixelType</span></li><li><span class='ee-k'>max:</span><span class='ee-v'>65535</span></li><li><span class='ee-k'>min:</span><span class='ee-v'>0</span></li><li><span class='ee-k'>precision:</span><span class='ee-v'>double</span></li></ul></li></ul></li><li><label class='ee-shut'>9: \"SWIR2\", double, EPSG:3040<input type='checkbox' class='ee-toggle'></label><ul><li><span class='ee-k'>id:</span><span class='ee-v'>SWIR2</span></li><li><span class='ee-k'>crs:</span><span class='ee-v'>EPSG:3040</span></li><li><label class='ee-shut'>crs_transform: [10, 0, 0, 0, -10, 0]<input type='checkbox' class='ee-toggle'></label><ul><li><span class='ee-k'>0:</span><span class='ee-v'>10</span></li><li><span class='ee-k'>1:</span><span class='ee-v'>0</span></li><li><span class='ee-k'>2:</span><span class='ee-v'>0</span></li><li><span class='ee-k'>3:</span><span class='ee-v'>0</span></li><li><span class='ee-k'>4:</span><span class='ee-v'>-10</span></li><li><span class='ee-k'>5:</span><span class='ee-v'>0</span></li></ul></li><li><label class='ee-shut'>data_type: double<input type='checkbox' class='ee-toggle'></label><ul><li><span class='ee-k'>type:</span><span class='ee-v'>PixelType</span></li><li><span class='ee-k'>max:</span><span class='ee-v'>65535</span></li><li><span class='ee-k'>min:</span><span class='ee-v'>0</span></li><li><span class='ee-k'>precision:</span><span class='ee-v'>double</span></li></ul></li></ul></li><li><label class='ee-shut'>10: \"SOILTYPE\", unsigned int16, EPSG:3040<input type='checkbox' class='ee-toggle'></label><ul><li><span class='ee-k'>id:</span><span class='ee-v'>SOILTYPE</span></li><li><span class='ee-k'>crs:</span><span class='ee-v'>EPSG:3040</span></li><li><label class='ee-shut'>crs_transform: [10, 0, 0, 0, -10, 0]<input type='checkbox' class='ee-toggle'></label><ul><li><span class='ee-k'>0:</span><span class='ee-v'>10</span></li><li><span class='ee-k'>1:</span><span class='ee-v'>0</span></li><li><span class='ee-k'>2:</span><span class='ee-v'>0</span></li><li><span class='ee-k'>3:</span><span class='ee-v'>0</span></li><li><span class='ee-k'>4:</span><span class='ee-v'>-10</span></li><li><span class='ee-k'>5:</span><span class='ee-v'>0</span></li></ul></li><li><label class='ee-shut'>data_type: unsigned int16<input type='checkbox' class='ee-toggle'></label><ul><li><span class='ee-k'>type:</span><span class='ee-v'>PixelType</span></li><li><span class='ee-k'>max:</span><span class='ee-v'>65535</span></li><li><span class='ee-k'>min:</span><span class='ee-v'>0</span></li><li><span class='ee-k'>precision:</span><span class='ee-v'>int</span></li></ul></li></ul></li></ul></li></ul></li></ul></div><script>function toggleHeader() {\n",
       "    const parent = this.parentElement;\n",
       "    parent.className = parent.className === \"ee-open\" ? \"ee-shut\" : \"ee-open\";\n",
       "}\n",
       "\n",
       "for (let c of document.getElementsByClassName(\"ee-toggle\")) {\n",
       "    c.onclick = toggleHeader;\n",
       "}</script></div>"
      ],
      "text/plain": [
       "<ee.image.Image at 0x7fb1f14fe3d0>"
      ]
     },
     "execution_count": 21,
     "metadata": {},
     "output_type": "execute_result"
    }
   ],
   "source": [
    "# print the result\n",
    "predictor_stack"
   ]
  },
  {
   "cell_type": "markdown",
   "id": "857e4e3c",
   "metadata": {
    "heading_collapsed": true
   },
   "source": [
    "# Random Forest Regression"
   ]
  },
  {
   "cell_type": "markdown",
   "id": "26a43228",
   "metadata": {
    "hidden": true
   },
   "source": [
    "We need a feature collection containing the predictor data for each of the training depth locations. This means we need to:\n",
    "1. Sample the bands at the ground-truth points\n",
    "2. Inner join the GT data and predictor data using their geometries\n",
    "3. Split the data into 90%-10% split\n",
    "4. Feed this feature collection into the classifier model (regression mode)\n",
    "5. Test the accuracy of the classifier \n",
    "6. Apply the classifier to the whole of the Fens area"
   ]
  },
  {
   "cell_type": "markdown",
   "id": "8d198e28",
   "metadata": {
    "heading_collapsed": true,
    "hidden": true
   },
   "source": [
    "### 1. Sampling"
   ]
  },
  {
   "cell_type": "code",
   "execution_count": 22,
   "id": "6f7cce5a",
   "metadata": {
    "hidden": true
   },
   "outputs": [],
   "source": [
    "# sample the Sentinel data at each of the GT points\n",
    "pred_samples = predictor_stack.sample(depths.geometry(), scale=10, geometries=True) "
   ]
  },
  {
   "cell_type": "markdown",
   "id": "99fc48ab",
   "metadata": {
    "heading_collapsed": true,
    "hidden": true
   },
   "source": [
    "### 2. Inner Join (and buffering)"
   ]
  },
  {
   "cell_type": "code",
   "execution_count": 23,
   "id": "b865b29e",
   "metadata": {
    "hidden": true
   },
   "outputs": [],
   "source": [
    "# define an algorithm to be applied to each predictor sample: we want to buffer the geometry assigned to each sample\n",
    "# by 10m, since the current geometry is approximate i.e. does not match the GT points used to guide sampler exactly\n",
    "def bufferPoints(currentFeature, pastFeatureList):\n",
    "    return ee.List(pastFeatureList).add(currentFeature.buffer(10))\n",
    "\n",
    "# apply the algorithm to each sample in our collection and store the result in a list\n",
    "pred_samples = pred_samples.iterate(bufferPoints, ee.List([]))\n",
    "\n",
    "# convert this list back into a FeatureCollection\n",
    "pred_samples = ee.FeatureCollection(pred_samples.getInfo())"
   ]
  },
  {
   "cell_type": "code",
   "execution_count": 24,
   "id": "2bcd82d9",
   "metadata": {
    "hidden": true
   },
   "outputs": [
    {
     "data": {
      "application/vnd.jupyter.widget-view+json": {
       "model_id": "da1aaf51f1414b6e8d85b3ac524bdddc",
       "version_major": 2,
       "version_minor": 0
      },
      "text/plain": [
       "Map(center=[52.70465287691509, 0.062270855934294995], controls=(WidgetControl(options=['position', 'transparen…"
      ]
     },
     "metadata": {},
     "output_type": "display_data"
    }
   ],
   "source": [
    "# Visualise the process completed\n",
    "Map = geemap.Map()\n",
    "Map.centerObject(fenOutline, 8)\n",
    "Map.addLayer(pred_samples, {}, 'Sentinel buffers')\n",
    "Map"
   ]
  },
  {
   "cell_type": "code",
   "execution_count": 25,
   "id": "7cc8f8a9",
   "metadata": {
    "hidden": true
   },
   "outputs": [],
   "source": [
    "# Setup the inner join operation between the Sentinel and GT datasets\n",
    "\n",
    "# make a filter object that assesses intersections of objects. '.geo' specifies that for the 1st (left) and 2nd (right)\n",
    "# objects being considered we want to apply the filter to the geometry fields of each feature instead of a property\n",
    "intersectFilter = ee.Filter.intersects(leftField='.geo', rightField='.geo')\n",
    "\n",
    "# define an inner join operation\n",
    "IJ_operation = ee.Join.inner('predictor_data', 'depth_data')\n",
    "\n",
    "# apply the join\n",
    "combinedDS = IJ_operation.apply(pred_samples, depths, intersectFilter)\n"
   ]
  },
  {
   "cell_type": "code",
   "execution_count": 26,
   "id": "a769022e",
   "metadata": {
    "hidden": true
   },
   "outputs": [],
   "source": [
    "# The result has a complex nested structure that isn't useful for the operations we want. Thus, re-define a new dataset\n",
    "# with the same information but an improved structure \n",
    "def extract_depths(feature): \n",
    "    return feature.get('depth_data')\n",
    "\n",
    "def extract_predictors(feature): \n",
    "    return feature.get('predictor_data')\n",
    "\n",
    "# get information associated with the depth subcollection\n",
    "depth_collection = combinedDS.map(extract_depths)\n",
    "\n",
    "# get information associated with the predictor subcollection\n",
    "predictor_collection = combinedDS.map(extract_predictors)\n"
   ]
  },
  {
   "cell_type": "code",
   "execution_count": 27,
   "id": "11b4c4b3",
   "metadata": {
    "hidden": true
   },
   "outputs": [],
   "source": [
    "# get the relevant information from the depth dataset subcollection\n",
    "geometries = depth_collection.geometry().getInfo()['coordinates']\n",
    "thicknesses = depth_collection.aggregate_array('Thickness').getInfo()\n",
    "\n",
    "# now deal with the predictor collection\n",
    "predictor_names = predictor_collection.first().propertyNames().getInfo()[:-1]\n",
    "\n",
    "# make a list of lists of each predictor's values\n",
    "predictor_values = []\n",
    "for bandName in predictor_names:\n",
    "    predictor_values.append(predictor_collection.aggregate_array(bandName).getInfo())"
   ]
  },
  {
   "cell_type": "code",
   "execution_count": 28,
   "id": "f71ba2ac",
   "metadata": {
    "hidden": true
   },
   "outputs": [],
   "source": [
    "# make a new feature collection that stores this information efficiently\n",
    "data = []\n",
    "for sample_idx, coords in enumerate(geometries):\n",
    "    \n",
    "    # get the depth of the sample of interest\n",
    "    sample_data = {'depth': thicknesses[sample_idx]}\n",
    "    \n",
    "    # get the predictor values at this sample\n",
    "    for pred_idx, predictor_name in enumerate(predictor_names):\n",
    "        sample_data[predictor_name] = predictor_values[pred_idx][sample_idx]\n",
    "        \n",
    "    # store the geometry and values of the sample\n",
    "    feature = ee.Feature(ee.Geometry.Point(coords), sample_data)\n",
    "    data.append(feature)\n",
    "    \n",
    "# finally convert the data into a feature collection    \n",
    "dataset = ee.FeatureCollection(data)"
   ]
  },
  {
   "cell_type": "markdown",
   "id": "a6a879b8",
   "metadata": {
    "heading_collapsed": true,
    "hidden": true
   },
   "source": [
    "### 3. Train/test split"
   ]
  },
  {
   "cell_type": "code",
   "execution_count": 29,
   "id": "35cb2a02",
   "metadata": {
    "hidden": true
   },
   "outputs": [],
   "source": [
    "# add a column of uniformly distributed numbers between 0 and 1 (we add a seed to get consistent results for testing)\n",
    "withRandom = dataset.randomColumn('random', seed=10)\n",
    "\n",
    "# split the dataset according to this random column (< or >= train_prop)\n",
    "train_prop = 0.9\n",
    "trainingSet = withRandom.filter(ee.Filter.lt('random', train_prop))\n",
    "testingSet = withRandom.filter(ee.Filter.gte('random', train_prop))"
   ]
  },
  {
   "cell_type": "code",
   "execution_count": 30,
   "id": "bdd9c453",
   "metadata": {
    "hidden": true
   },
   "outputs": [],
   "source": [
    "# remove irrelevant properties \n",
    "trainingSet = trainingSet.select(predictor_names+['depth'])\n",
    "testingSet = testingSet.select(predictor_names+['depth'])"
   ]
  },
  {
   "cell_type": "code",
   "execution_count": 31,
   "id": "15eb1a30",
   "metadata": {
    "hidden": true
   },
   "outputs": [
    {
     "data": {
      "application/vnd.jupyter.widget-view+json": {
       "model_id": "30f6526611ae4339b0945dbef1647509",
       "version_major": 2,
       "version_minor": 0
      },
      "text/plain": [
       "Map(center=[52.70465287691509, 0.062270855934294995], controls=(WidgetControl(options=['position', 'transparen…"
      ]
     },
     "metadata": {},
     "output_type": "display_data"
    }
   ],
   "source": [
    "# Visualise the training/testing split datasets \n",
    "Map = geemap.Map()\n",
    "\n",
    "# Re-plot the Fens outline\n",
    "style = {\n",
    "    'color': 'red',\n",
    "    'fillColor': '00000000'\n",
    "}\n",
    "Map.centerObject(fenOutline, 8)\n",
    "Map.addLayer(fenOutline.style(**style), {}, 'Fen Outline')\n",
    "\n",
    "# Plot the training dataset in blue\n",
    "style = {\n",
    "    'color': 'blue',\n",
    "    'pointSize': 2,\n",
    "    'pointShape': 'circle'\n",
    "}\n",
    "Map.addLayer(trainingSet.style(**style), {}, 'Training Data')\n",
    "\n",
    "# plot the testing dataset in purple\n",
    "style = {\n",
    "    'color': 'purple',\n",
    "    'pointSize': 2,\n",
    "    'pointShape': 'circle'\n",
    "}\n",
    "Map.addLayer(testingSet.style(**style), {}, 'Testing Data')\n",
    "Map\n"
   ]
  },
  {
   "cell_type": "markdown",
   "id": "e79dbfa4",
   "metadata": {
    "heading_collapsed": true,
    "hidden": true
   },
   "source": [
    "### 4. Train a classifier "
   ]
  },
  {
   "cell_type": "markdown",
   "id": "c629d178",
   "metadata": {
    "hidden": true
   },
   "source": [
    "\"Training\" a classifier in GEE involves setting it up, but it only actually gets trained once we make a prediction using the classifier. Typically the classifiers in GEE are used for categorical variable predictions rather than continuos variable prediction"
   ]
  },
  {
   "cell_type": "code",
   "execution_count": 32,
   "id": "4e6fcf2e",
   "metadata": {
    "hidden": true
   },
   "outputs": [],
   "source": [
    "# specify the type of classifier, hyperparameters and output mode of the model\n",
    "classifier_RF = ee.Classifier.smileRandomForest(10).setOutputMode('REGRESSION')"
   ]
  },
  {
   "cell_type": "code",
   "execution_count": 33,
   "id": "4eaeda90",
   "metadata": {
    "hidden": true
   },
   "outputs": [],
   "source": [
    "# train the model using the label/feature data specified\n",
    "trainedClassifier = classifier_RF.train(features = trainingSet, \n",
    "                                        classProperty = 'depth', \n",
    "                                        inputProperties = predictor_names)\n"
   ]
  },
  {
   "cell_type": "code",
   "execution_count": 34,
   "id": "c4f8540e",
   "metadata": {
    "hidden": true
   },
   "outputs": [
    {
     "data": {
      "text/plain": [
       "{'importance': {'Blue': 2415307.8612983185,\n",
       "  'Green': 1297755.3929238375,\n",
       "  'NIR': 1223939.3194993895,\n",
       "  'REdge1': 1146260.038736436,\n",
       "  'REdge2': 2832153.2662214357,\n",
       "  'REdge3': 3663520.1251404146,\n",
       "  'REdge4': 3455258.0287300423,\n",
       "  'Red': 589069.7721200135,\n",
       "  'SOILTYPE': 923964.0634920634,\n",
       "  'SWIR1': 1716382.7763093116,\n",
       "  'SWIR2': 1376234.305136568},\n",
       " 'numberOfTrees': 10,\n",
       " 'outOfBagErrorEstimate': 81.61991007367907}"
      ]
     },
     "execution_count": 34,
     "metadata": {},
     "output_type": "execute_result"
    }
   ],
   "source": [
    "# provide some basic insights into the trained model (this can be optionally plotted later)\n",
    "trainedClassifier.explain().getInfo()"
   ]
  },
  {
   "cell_type": "code",
   "execution_count": 35,
   "id": "9baccc2d",
   "metadata": {
    "hidden": true
   },
   "outputs": [],
   "source": [
    "# use the trained model to make predictions for training and test points\n",
    "trainPredictions = trainingSet.classify(trainedClassifier, 'predicted depth')\n",
    "testPredictions = testingSet.classify(trainedClassifier, 'predicted depth')"
   ]
  },
  {
   "cell_type": "markdown",
   "id": "72b41db6",
   "metadata": {
    "heading_collapsed": true,
    "hidden": true
   },
   "source": [
    "### 5. Assess model accuracy"
   ]
  },
  {
   "cell_type": "markdown",
   "id": "5a7ff40f",
   "metadata": {
    "hidden": true
   },
   "source": [
    "Plot a histogram of training GT depths and a histogram of corresponding predictions"
   ]
  },
  {
   "cell_type": "code",
   "execution_count": 36,
   "id": "01690bb5",
   "metadata": {
    "hidden": true
   },
   "outputs": [
    {
     "data": {
      "image/png": "[encoded data removed]",
      "text/plain": [
       "<Figure size 640x480 with 2 Axes>"
      ]
     },
     "metadata": {},
     "output_type": "display_data"
    }
   ],
   "source": [
    "# get the relevant data\n",
    "actual_depths = trainPredictions.aggregate_array('depth').getInfo()\n",
    "predicted_depths = trainPredictions.aggregate_array('predicted depth').getInfo()\n",
    "\n",
    "# plot the GT histogram\n",
    "plt.subplot(1,2,1)\n",
    "plt.hist(actual_depths, bins=18, range=(0,360));\n",
    "plt.xlabel(\"Depth (cm)\")\n",
    "plt.ylabel(\"Num sites\")\n",
    "plt.title(\"Training Data\");\n",
    "ax = plt.gca()\n",
    "ax.set_ylim([0, 100]);\n",
    "\n",
    "# plot the prediction histogram\n",
    "plt.subplot(1,2,2)\n",
    "plt.hist(predicted_depths, bins=18, range=(0,360), color='red');\n",
    "plt.xlabel(\"Depth (cm)\")\n",
    "plt.ylabel(\"Num sites\")\n",
    "plt.title(\"Predicted Depth\");\n",
    "ax = plt.gca()\n",
    "ax.set_ylim([0, 100]);"
   ]
  },
  {
   "cell_type": "markdown",
   "id": "c4a5b949",
   "metadata": {
    "hidden": true
   },
   "source": [
    "Plot a scatter plot of the labels vs the predictions for the training data. If the accurate was 100% accurate then we would expect all the data points to line of the y=x curve"
   ]
  },
  {
   "cell_type": "code",
   "execution_count": 37,
   "id": "a75b7a7e",
   "metadata": {
    "hidden": true
   },
   "outputs": [
    {
     "data": {
      "image/png": "[encoded data removed]",
      "text/plain": [
       "<Figure size 640x480 with 1 Axes>"
      ]
     },
     "metadata": {},
     "output_type": "display_data"
    }
   ],
   "source": [
    "# add a scatter plot of the data points\n",
    "plt.scatter(actual_depths, predicted_depths, c='black', marker='+');\n",
    "plt.xlabel(\"Labelled Depth (cm)\")\n",
    "plt.ylabel(\"Predicted Depth (cm)\")\n",
    "plt.title(\"Predicted vs Labelled - Training Data\");\n",
    "ax = plt.gca()\n",
    "ax.set_ylim([-10, 360]);\n",
    "ax.set_xlim([-10, 360]);\n",
    "\n",
    "# add a y=x line\n",
    "plt.plot([-10, 360], [-10, 360]);"
   ]
  },
  {
   "cell_type": "code",
   "execution_count": 38,
   "id": "bb1a9871",
   "metadata": {
    "hidden": true
   },
   "outputs": [
    {
     "name": "stdout",
     "output_type": "stream",
     "text": [
      "R Squared: 0.6867458209528603\n",
      "RMSE: 54.371657267340254\n"
     ]
    }
   ],
   "source": [
    "# calculate the R-Squared and RMSE error to model evaluation\n",
    "R_squared = r2_score(actual_depths, predicted_depths)\n",
    "print(\"R Squared:\", R_squared)\n",
    "\n",
    "RMSE = mean_squared_error(actual_depths, predicted_depths, squared=False)\n",
    "print(\"RMSE:\", RMSE)"
   ]
  },
  {
   "cell_type": "code",
   "execution_count": 39,
   "id": "c499beee",
   "metadata": {
    "hidden": true
   },
   "outputs": [
    {
     "data": {
      "image/png": "[encoded data removed]",
      "text/plain": [
       "<Figure size 640x480 with 2 Axes>"
      ]
     },
     "metadata": {},
     "output_type": "display_data"
    }
   ],
   "source": [
    "# get the relevant data\n",
    "actual_depths = testPredictions.aggregate_array('depth').getInfo()\n",
    "predicted_depths = testPredictions.aggregate_array('predicted depth').getInfo()\n",
    "\n",
    "# plot the GT histogram\n",
    "plt.subplot(1,2,1)\n",
    "plt.hist(actual_depths, bins=18, range=(0,360), color='purple');\n",
    "plt.xlabel(\"Depth (cm)\")\n",
    "plt.ylabel(\"Num sites\")\n",
    "plt.title(\"Test Data\");\n",
    "ax = plt.gca()\n",
    "ax.set_ylim([0, 15]);\n",
    "\n",
    "# plot the prediction histogram\n",
    "plt.subplot(1,2,2)\n",
    "plt.hist(predicted_depths, bins=18, range=(0,360), color='red');\n",
    "plt.xlabel(\"Depth (cm)\")\n",
    "plt.ylabel(\"Num sites\")\n",
    "plt.title(\"Predicted Depth\");\n",
    "ax = plt.gca()\n",
    "ax.set_ylim([0, 15]);"
   ]
  },
  {
   "cell_type": "code",
   "execution_count": 40,
   "id": "312b6621",
   "metadata": {
    "hidden": true
   },
   "outputs": [
    {
     "data": {
      "image/png": "[encoded data removed]",
      "text/plain": [
       "<Figure size 640x480 with 1 Axes>"
      ]
     },
     "metadata": {},
     "output_type": "display_data"
    }
   ],
   "source": [
    "# add a scatter plot of the data points\n",
    "plt.scatter(actual_depths, predicted_depths, c='black', marker='+');\n",
    "plt.xlabel(\"Labelled Depth (cm)\")\n",
    "plt.ylabel(\"Predicted Depth (cm)\")\n",
    "plt.title(\"Predicted vs Labelled - Test Data\");\n",
    "ax = plt.gca()\n",
    "ax.set_ylim([-10, 360]);\n",
    "ax.set_xlim([-10, 360]);\n",
    "\n",
    "# add a y=x line\n",
    "plt.plot([-10, 360], [-10, 360], c='purple');"
   ]
  },
  {
   "cell_type": "code",
   "execution_count": 41,
   "id": "099eed3b",
   "metadata": {
    "hidden": true
   },
   "outputs": [
    {
     "name": "stdout",
     "output_type": "stream",
     "text": [
      "R Squared: 0.6114412376375615\n",
      "RMSE: 56.2220013106306\n"
     ]
    }
   ],
   "source": [
    "# calculate the R-Squared and RMSE error to model evaluation\n",
    "R_squared = r2_score(actual_depths, predicted_depths)\n",
    "print(\"R Squared:\", R_squared)\n",
    "\n",
    "RMSE = mean_squared_error(actual_depths, predicted_depths, squared=False)\n",
    "print(\"RMSE:\", RMSE)"
   ]
  },
  {
   "cell_type": "markdown",
   "id": "a005c389",
   "metadata": {
    "heading_collapsed": true,
    "hidden": true
   },
   "source": [
    "### 6. Predict across Fens"
   ]
  },
  {
   "cell_type": "code",
   "execution_count": 42,
   "id": "33dabf31",
   "metadata": {
    "hidden": true
   },
   "outputs": [],
   "source": [
    "# clip the predictors to only that within the Fens boundary (should be redundant)\n",
    "clipped_preds = predictor_stack.clip(fenOutline)"
   ]
  },
  {
   "cell_type": "code",
   "execution_count": 43,
   "id": "2f5ccac2",
   "metadata": {
    "hidden": true
   },
   "outputs": [],
   "source": [
    "# make predictions across the Fens using the predictors\n",
    "classified_result = clipped_preds.classify(trainedClassifier, 'prediction')"
   ]
  },
  {
   "cell_type": "code",
   "execution_count": 47,
   "id": "252889f8",
   "metadata": {
    "hidden": true
   },
   "outputs": [],
   "source": [
    "# find the minimum prediction value\n",
    "#predictedMin = classified_result.reduceRegion(reducer=ee.Reducer.min(), geometry=fenOutline, scale=10, bestEffort=True)\n",
    "#minVal = predictedMin.getNumber('prediction').getInfo()\n",
    "#print(\"Minimum:\", minVal)\n",
    "\n",
    "# find the maximum prediction value\n",
    "#predictedMax = classified_result.reduceRegion(reducer=ee.Reducer.max(), geometry=fenOutline, scale=10, bestEffort=True)\n",
    "#maxVal = predictedMax.getNumber('prediction').getInfo()\n",
    "#print(\"Maximum\", maxVal)"
   ]
  },
  {
   "cell_type": "code",
   "execution_count": 46,
   "id": "6554f5c3",
   "metadata": {
    "hidden": true
   },
   "outputs": [
    {
     "data": {
      "application/vnd.jupyter.widget-view+json": {
       "model_id": "aba4f27071cf4a7ab490ea4933096679",
       "version_major": 2,
       "version_minor": 0
      },
      "text/plain": [
       "Map(center=[52.70465287691509, 0.062270855934294995], controls=(WidgetControl(options=['position', 'transparen…"
      ]
     },
     "metadata": {},
     "output_type": "display_data"
    }
   ],
   "source": [
    "# plot the predictions: black = 0cm, red = 302cm\n",
    "Map = geemap.Map()\n",
    "visParams = {\n",
    "    'palette': ['030303', 'd11515'],\n",
    "    'max': 300,\n",
    "    'min': 0,\n",
    "}\n",
    "Map.centerObject(fenOutline, 8)\n",
    "Map.addLayer(classified_result, visParams, 'Peat depth predictions')\n",
    "Map"
   ]
  },
  {
   "cell_type": "code",
   "execution_count": null,
   "id": "1f5890f1",
   "metadata": {
    "hidden": true
   },
   "outputs": [],
   "source": []
  }
 ],
 "metadata": {
  "kernelspec": {
   "display_name": "Python 3 (ipykernel)",
   "language": "python",
   "name": "python3"
  },
  "language_info": {
   "codemirror_mode": {
    "name": "ipython",
    "version": 3
   },
   "file_extension": ".py",
   "mimetype": "text/x-python",
   "name": "python",
   "nbconvert_exporter": "python",
   "pygments_lexer": "ipython3",
   "version": "3.8.2"
  }
 },
 "nbformat": 4,
 "nbformat_minor": 5
}
