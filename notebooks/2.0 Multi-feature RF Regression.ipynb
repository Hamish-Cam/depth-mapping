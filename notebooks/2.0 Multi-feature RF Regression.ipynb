{
 "cells": [
  {
   "cell_type": "markdown",
   "id": "4b03d9e9",
   "metadata": {},
   "source": [
    "This notebook uses multiple predictors and a random forest model to predict peat depth across the Fens. The Google Earth Engine framework is used for processing and combining predictors. In the future, we will use the 'feature importance' from the random forest model to decide on which predictors to take forward for use in ML models. We will also export the train/test data (easiest as tabular) to PyTorch to compare the RF model against more complex machine learning algorithms. We can also use trained models to make peat depth predictions across the Fens. \n"
   ]
  },
  {
   "cell_type": "markdown",
   "id": "de782842",
   "metadata": {},
   "source": [
    "# Predictor List "
   ]
  },
  {
   "cell_type": "markdown",
   "id": "522f65dd",
   "metadata": {},
   "source": [
    "Currently implemented preditors:\n",
    "1. Sentinel-2 with cloud removal (2 options): all bands \n",
    "2. NATMAP vector soil map\n",
    "\n",
    "\n",
    "To be implemented: \n",
    "1. Rest of LandIS datasets \n",
    "2. Sentinel-2 relevant metrics such as NDVI or thermal-related\n",
    "3. Sentinel-1 (SAR)\n",
    "4. Landcover type (e.g. type of crops grown)\n",
    "5. Lidar-derived metrics\n",
    "6. Roddons (e.g. distance to)\n",
    "7. Distance to watercourses/ditches\n",
    "8. Geology\n",
    "9. Any wastage features from Holman paper "
   ]
  },
  {
   "cell_type": "markdown",
   "id": "0bb53f66",
   "metadata": {
    "heading_collapsed": true
   },
   "source": [
    "# Setup"
   ]
  },
  {
   "cell_type": "code",
   "execution_count": 136,
   "id": "28372d0d",
   "metadata": {
    "hidden": true
   },
   "outputs": [],
   "source": [
    "# necessary imports \n",
    "import ee\n",
    "import geemap\n",
    "import matplotlib.pyplot as plt\n",
    "from sklearn.metrics import r2_score, mean_squared_error\n",
    "\n",
    "# if error with geopandas then try running:\n",
    "# pip install --upgrade --force-reinstall shapely"
   ]
  },
  {
   "cell_type": "code",
   "execution_count": 137,
   "id": "de19730f",
   "metadata": {
    "hidden": true
   },
   "outputs": [],
   "source": [
    "# data and file paths\n",
    "path_depths = \"/Users/hamishcampbell/Documents/Cambridge/PhD/1st Year/Code/depth-mapping/Data/Ground Truth/depth_samples.shp\" \n",
    "path_fenOutline = \"/Users/hamishcampbell/Documents/Cambridge/PhD/1st Year/Code/depth-mapping/Data/CLR/NCA_46_The_Fens.shp\"\n",
    "path_vector = \"projects/ee-depthmapping-hrac2/assets/Rasterised_NATMAPvector\"\n",
    "path_soilscapes = \"projects/ee-depthmapping-hrac2/assets/Rasterised_NATMAPsoilscapes\"\n",
    "path_carbon = \"projects/ee-depthmapping-hrac2/assets/Rasterised_NATMAPcarbon\"\n",
    "path_rivers = \"projects/ee-depthmapping-hrac2/assets/distance_to_rivers\"\n",
    "path_watercourses = \"projects/ee-depthmapping-hrac2/assets/distance_to_watercourses\"\n",
    "path_landcover = \"projects/ee-depthmapping-hrac2/assets/landcover\"\n",
    "path_crome = \"projects/ee-depthmapping-hrac2/assets/CROME\"\n",
    "\n",
    "# elevation and derived indices\n",
    "#path_lidar = \"projects/ee-depthmapping-hrac2/assets/test_lidar\"\n",
    "path_elevation = \"projects/ee-depthmapping-hrac2/assets/Lidar_DTM_10m\"\n",
    "path_MRRTF = \"projects/ee-depthmapping-hrac2/assets/MRRTF\"\n",
    "path_MRVBF = \"projects/ee-depthmapping-hrac2/assets/MRVBF\"\n",
    "path_TWI = \"projects/ee-depthmapping-hrac2/assets/TWI\"\n"
   ]
  },
  {
   "cell_type": "code",
   "execution_count": 138,
   "id": "7266711c",
   "metadata": {
    "hidden": true
   },
   "outputs": [],
   "source": [
    "# initialise Google Earth Engine\n",
    "\n",
    "# NOTE: first run only\n",
    "#ee.Authenticate()\n",
    "\n",
    "ee.Initialize()"
   ]
  },
  {
   "cell_type": "code",
   "execution_count": 139,
   "id": "33ecb1f6",
   "metadata": {
    "hidden": true
   },
   "outputs": [],
   "source": [
    "# load the Fens outline shape file into GEE\n",
    "fenOutline = ee.FeatureCollection(geemap.shp_to_ee(path_fenOutline))\n",
    "\n",
    "# load the depth measurements shape file into GEE\n",
    "depths = geemap.shp_to_ee(path_depths)"
   ]
  },
  {
   "cell_type": "markdown",
   "id": "ca29bd1e",
   "metadata": {
    "heading_collapsed": true
   },
   "source": [
    "# Sentinel-2"
   ]
  },
  {
   "cell_type": "markdown",
   "id": "6a6f973c",
   "metadata": {
    "hidden": true
   },
   "source": [
    "## Cloud removal option 1 - \"Mean Composite\""
   ]
  },
  {
   "cell_type": "markdown",
   "id": "7bcff2ca",
   "metadata": {
    "hidden": true
   },
   "source": [
    "This cloud removal method finds all the non-cloudy pixels in the area of interest, within the time interval specified, and calculates the mean value of each pixel. The \"CLD_PRB_THRESH\" variable is used to specify what percentage of cloud is allowable before a pixel is labelled as cloudy (100 means nothing is labelled cloudy and so all pixels are used for mean calculation). The pixel cloudiness values are given by 's2cloudless' which is a seperate algorithm whose result can be obtained through GEE (provides a cloud probability value of 0-100).  "
   ]
  },
  {
   "cell_type": "code",
   "execution_count": 140,
   "id": "6bccb62b",
   "metadata": {
    "hidden": true
   },
   "outputs": [],
   "source": [
    "# cloud masking paramters to control aggression - values chosen to find best balance between cloud-removal and few\n",
    "# NA data points\n",
    "AOI = fenOutline\n",
    "START_DATE = '2022-04-01'\n",
    "END_DATE = '2022-07-01'\n",
    "CLOUD_FILTER = 60                 # tiles with more than this percentage are removed from analysis\n",
    "CLD_PRB_THRESH = 40               # pixels greater than this are considered clouds \n",
    "NIR_DRK_THRESH = 0.15             # used for cloud shadow detection\n",
    "CLD_PRJ_DIST = 1\n",
    "BUFFER = 50 "
   ]
  },
  {
   "cell_type": "code",
   "execution_count": 141,
   "id": "fff4baab",
   "metadata": {
    "hidden": true
   },
   "outputs": [],
   "source": [
    "# Function to attach an s2cloudless tile to each of the sentinel tiles that denotes which pixels are likely to be clouds\n",
    "def attach_cld_msk_to_sen(aoi, start_date, end_date):\n",
    "    # Import and filter Sentinel-2 imagery\n",
    "    s2_images = (ee.ImageCollection('COPERNICUS/S2_SR_HARMONIZED')\n",
    "        .filterBounds(aoi)\n",
    "        .filterDate(start_date, end_date)\n",
    "        .filter(ee.Filter.lte('CLOUDY_PIXEL_PERCENTAGE', CLOUD_FILTER)))\n",
    "\n",
    "    # Import and filter s2cloudless pixel values\n",
    "    s2_cloudless = (ee.ImageCollection('COPERNICUS/S2_CLOUD_PROBABILITY')\n",
    "        .filterBounds(aoi)\n",
    "        .filterDate(start_date, end_date))\n",
    "\n",
    "    # Join the filtered s2cloudless collection to the Sentinel collection by the 'system:index' (time) property\n",
    "    return ee.ImageCollection(ee.Join.saveFirst('s2cloudless').apply(**{\n",
    "        'primary': s2_images,\n",
    "        'secondary': s2_cloudless,\n",
    "        'condition': ee.Filter.equals(**{\n",
    "            'leftField': 'system:index',\n",
    "            'rightField': 'system:index'\n",
    "        })\n",
    "    }))"
   ]
  },
  {
   "cell_type": "code",
   "execution_count": 142,
   "id": "1188af31",
   "metadata": {
    "hidden": true
   },
   "outputs": [],
   "source": [
    "# get Sentinel tiles with s2cloudless tiles attached\n",
    "sentinel_with_s2cloudless = attach_cld_msk_to_sen(AOI, START_DATE, END_DATE)"
   ]
  },
  {
   "cell_type": "code",
   "execution_count": 143,
   "id": "7f45030c",
   "metadata": {
    "hidden": true
   },
   "outputs": [],
   "source": [
    "# Function to add band with cloud mask information to Sentinel imagery\n",
    "def add_cloud_bands(img):\n",
    "    # Get s2cloudless image, subset the probability band.\n",
    "    cld_prb = ee.Image(img.get('s2cloudless')).select('probability')\n",
    "\n",
    "    # Condition s2cloudless by the probability threshold value.\n",
    "    is_cloud = cld_prb.gt(CLD_PRB_THRESH).rename('clouds')\n",
    "\n",
    "    # Add the cloud probability layer and cloud mask as image bands.\n",
    "    return img.addBands(ee.Image([cld_prb, is_cloud]))\n",
    "\n",
    "\n",
    "# Function to add band with cloud shadow mask information to Sentinel imagery\n",
    "def add_shadow_bands(img):\n",
    "    # Identify water pixels from the SCL band\n",
    "    not_water = img.select('SCL').neq(6)\n",
    "\n",
    "    # Identify dark NIR pixels that are not water (potential cloud shadow pixels)\n",
    "    SR_BAND_SCALE = 1e4\n",
    "    dark_pixels = img.select('B8').lt(NIR_DRK_THRESH*SR_BAND_SCALE).multiply(not_water).rename('dark_pixels')\n",
    "\n",
    "    # Determine the direction to project cloud shadow from clouds (assumes UTM projection)\n",
    "    shadow_azimuth = ee.Number(90).subtract(ee.Number(img.get('MEAN_SOLAR_AZIMUTH_ANGLE')));\n",
    "\n",
    "    # Project shadows from clouds for the distance specified by the CLD_PRJ_DIST input\n",
    "    cld_proj = (img.select('clouds').directionalDistanceTransform(shadow_azimuth, CLD_PRJ_DIST*10)\n",
    "        .reproject(**{'crs': img.select(0).projection(), 'scale': 100})\n",
    "        .select('distance')\n",
    "        .mask()\n",
    "        .rename('cloud_transform'))\n",
    "\n",
    "    # Identify the intersection of dark pixels with cloud shadow projection.\n",
    "    shadows = cld_proj.multiply(dark_pixels).rename('shadows')\n",
    "\n",
    "    # Add dark pixels, cloud projection, and identified shadows as image bands.\n",
    "    return img.addBands(ee.Image([dark_pixels, cld_proj, shadows]))\n",
    "\n",
    "\n",
    "# Function to execute the addition of cloud and shadow bands to imagery and add combined mask\n",
    "def add_cld_shdw_mask(img):\n",
    "    # Add cloud component bands.\n",
    "    img_cloud = add_cloud_bands(img)\n",
    "\n",
    "    # Add cloud shadow component bands.\n",
    "    img_cloud_shadow = add_shadow_bands(img_cloud)\n",
    "\n",
    "    # Combine cloud and shadow mask, set cloud and shadow as value 1, else 0.\n",
    "    is_cld_shdw = img_cloud_shadow.select('clouds').add(img_cloud_shadow.select('shadows')).gt(0)\n",
    "\n",
    "    # Remove small cloud-shadow patches and dilate remaining pixels by BUFFER input.\n",
    "    # 20 m scale is for speed, and assumes clouds don't require 10 m precision.\n",
    "    is_cld_shdw = (is_cld_shdw.focalMin(2).focalMax(BUFFER*2/20)\n",
    "        .reproject(**{'crs': img.select([0]).projection(), 'scale': 20})\n",
    "        .rename('cloudmask'))\n",
    "\n",
    "    # Add the final cloud-shadow mask to the image.\n",
    "    return img_cloud_shadow.addBands(is_cld_shdw)\n",
    "\n",
    "\n",
    "# Function to actually mask the images using the mask bands to remove clouds/shadows\n",
    "def apply_cld_shdw_mask(img):\n",
    "    # Subset the cloudmask band and invert it so clouds/shadow are 0, else 1.\n",
    "    not_cld_shdw = img.select('cloudmask').Not()\n",
    "\n",
    "    # Subset reflectance bands and update their masks, return the result.\n",
    "    return img.select('B.*').updateMask(not_cld_shdw)"
   ]
  },
  {
   "cell_type": "code",
   "execution_count": 144,
   "id": "dbc8a9e9",
   "metadata": {
    "hidden": true
   },
   "outputs": [],
   "source": [
    "# Apply all of the cloud/shadow mask functions to mask Sentinel imagery, and then calculate the mean composite image \n",
    "# from all the non-cloudy pixels at each point (mask determines which values get used in mean calculation)\n",
    "sen_algorithm1 = (sentinel_with_s2cloudless.map(add_cld_shdw_mask)\n",
    "                                           .map(apply_cld_shdw_mask)\n",
    "                                           .mean())"
   ]
  },
  {
   "cell_type": "markdown",
   "id": "154cf115",
   "metadata": {
    "hidden": true
   },
   "source": [
    "## Cloud removal option 2 - \"Prioritise Contiguous Tiles\""
   ]
  },
  {
   "cell_type": "code",
   "execution_count": 145,
   "id": "d90ee537",
   "metadata": {
    "hidden": true
   },
   "outputs": [],
   "source": [
    "# get all surface reflectance Sentinel-2 imagery \n",
    "sen = ee.ImageCollection(\"COPERNICUS/S2_SR_HARMONIZED\")\n",
    "\n",
    "# select a start and end date for imagery composite to be made up of \n",
    "start_date = '2022-06-01'\n",
    "end_date = '2022-07-01'\n",
    "\n",
    "# keep only the data that meets some basic criteria\n",
    "sen_filtered = (sen.filterBounds(fenOutline)\n",
    "    .filterDate(start_date, end_date)               # temporally limited \n",
    "    .sort('CLOUD_COVERAGE_ASSESSMENT', False))      # sort tiles by cloud cover "
   ]
  },
  {
   "cell_type": "code",
   "execution_count": 146,
   "id": "e8c7dcf1",
   "metadata": {
    "hidden": true
   },
   "outputs": [],
   "source": [
    "# Write a function that alters the pixel validity mask of a tile according to if cloud is present or not\n",
    "def check_cloud_absence(tile): \n",
    "    # if MSK_CLDPRB less than 10 => low chance of cloud => let mask remain valid at that pixel\n",
    "    # if medium-high chance of cloud (>10) => update mask to say pixel is invalid (mask = 0)\n",
    "    return tile.updateMask(tile.select('MSK_CLDPRB').lte(10))"
   ]
  },
  {
   "cell_type": "code",
   "execution_count": 147,
   "id": "c3e7abee",
   "metadata": {
    "hidden": true
   },
   "outputs": [],
   "source": [
    "# obtain a (mostly) cloud-free mosaic for each quarter \n",
    "quarterly_mosaics = []\n",
    "filter_start = ee.Date('2022-01-01')\n",
    "\n",
    "for quarter in range(0,4):\n",
    "    \n",
    "    # keep only tiles from the quarter being studied\n",
    "    quarterly_sen = sen_filtered.filterDate(filter_start, filter_start.advance(3,'month'))\n",
    "    \n",
    "    # Update the pixel validity mask to include condition on cloud absence\n",
    "    quarterly_sen = quarterly_sen.map(check_cloud_absence)\n",
    "        \n",
    "    # stitch the most cloud-free tiles together and replace remaining cloud pixels with those from next tile with presence\n",
    "    # NOTE: by sorting on cloud presence we keep complete image as temporally contiguous as possible\n",
    "    quarterly_mosaic = quarterly_sen.mosaic()\n",
    "    \n",
    "    # store the results required\n",
    "    quarterly_mosaics.append(quarterly_mosaic)\n",
    "    \n",
    "    # repeat for next quarter\n",
    "    filter_start = filter_start.advance(3,'month')\n",
    "    "
   ]
  },
  {
   "cell_type": "code",
   "execution_count": 148,
   "id": "2e77b0ae",
   "metadata": {
    "hidden": true
   },
   "outputs": [],
   "source": [
    "# select the quarter of the year to use for modelling (1/2/3/4)\n",
    "quarter = 2\n",
    "sen_algorithm2 = quarterly_mosaics[quarter-1]"
   ]
  },
  {
   "cell_type": "markdown",
   "id": "3db33e3d",
   "metadata": {
    "hidden": true
   },
   "source": [
    "## Selection and Plotting"
   ]
  },
  {
   "cell_type": "code",
   "execution_count": 149,
   "id": "ec44b123",
   "metadata": {
    "hidden": true
   },
   "outputs": [],
   "source": [
    "# select which of the cloud algorithms we want to use\n",
    "sen = sen_algorithm1"
   ]
  },
  {
   "cell_type": "code",
   "execution_count": 150,
   "id": "443e5d49",
   "metadata": {
    "hidden": true
   },
   "outputs": [],
   "source": [
    "# select all the useful Sentinel bands and rename them for interpretability\n",
    "sen = sen.select(['B2', 'B3', 'B4', 'B5', 'B6', 'B7', 'B8', 'B8A', 'B11', 'B12'],\n",
    "                  ['Blue', 'Green', 'Red', 'REdge1', 'REdge2', 'REdge3', 'NIR', 'REdge4', 'SWIR1', 'SWIR2'])"
   ]
  },
  {
   "cell_type": "code",
   "execution_count": 151,
   "id": "f9087e72",
   "metadata": {
    "hidden": true
   },
   "outputs": [
    {
     "data": {
      "application/vnd.jupyter.widget-view+json": {
       "model_id": "34fb0bdc89054b37805dd8284e7258af",
       "version_major": 2,
       "version_minor": 0
      },
      "text/plain": [
       "Map(center=[52.70465287691509, 0.062270855934294995], controls=(WidgetControl(options=['position', 'transparen…"
      ]
     },
     "metadata": {},
     "output_type": "display_data"
    }
   ],
   "source": [
    "# plot the result (method 1 takes quite a while to render - zoom in and out to speed up)\n",
    "Map = geemap.Map()\n",
    "visParams = {\n",
    "  'bands': ['Red', 'Green', 'Blue'],\n",
    "  'max': 3000,\n",
    "  'min': 0,\n",
    "}\n",
    "Map.centerObject(fenOutline, 8)\n",
    "Map.addLayer(sen.clip(fenOutline), visParams, 'Sentinel 2')\n",
    "Map\n",
    "\n",
    "# plot the Fens outline in red\n",
    "style = {\n",
    "    'color': 'red',\n",
    "    'fillColor': '00000000'\n",
    "}\n",
    "Map.centerObject(fenOutline, 8)\n",
    "Map.addLayer(fenOutline.style(**style), {}, 'Fen Outline')\n",
    "\n",
    "# plot the points at which ground-truth measurements were taken on the map in blue\n",
    "style = {\n",
    "    'color': 'blue',\n",
    "    'pointSize': 2,\n",
    "    'pointShape': 'circle'\n",
    "}\n",
    "Map.addLayer(depths.style(**style), {}, 'Depth Measurements')\n",
    "Map"
   ]
  },
  {
   "cell_type": "markdown",
   "id": "d28e9218",
   "metadata": {
    "hidden": true
   },
   "source": [
    "## Sentinel Indices "
   ]
  },
  {
   "cell_type": "code",
   "execution_count": 152,
   "id": "691dc5fd",
   "metadata": {
    "hidden": true
   },
   "outputs": [],
   "source": [
    "# https://eos.com/make-an-analysis/ndwi/\n",
    "# calculate NDVI, used to highlight vegetation presence or greenness\n",
    "ndvi = sen.normalizedDifference(['NIR', 'Red']).rename('NDVI')\n",
    "\n",
    "# calculate NDWI, used to highlight waterbodies \n",
    "ndwi = sen.normalizedDifference(['Green', 'NIR']).rename('NDWI')\n",
    "\n",
    "# calculate NDMI, used to highlight water content in plants\n",
    "ndmi = sen.normalizedDifference(['NIR', 'SWIR1']).rename('NDMI')"
   ]
  },
  {
   "cell_type": "code",
   "execution_count": 153,
   "id": "781810d6",
   "metadata": {
    "hidden": true
   },
   "outputs": [
    {
     "data": {
      "application/vnd.jupyter.widget-view+json": {
       "model_id": "8516e7d056364b2ba4aea8f2ed0a0533",
       "version_major": 2,
       "version_minor": 0
      },
      "text/plain": [
       "Map(center=[52.70465287691509, 0.062270855934294995], controls=(WidgetControl(options=['position', 'transparen…"
      ]
     },
     "metadata": {},
     "output_type": "display_data"
    }
   ],
   "source": [
    "Map = geemap.Map()\n",
    "visParams = {\n",
    "  'max': 1,\n",
    "  'min': -1,\n",
    "}\n",
    "Map.centerObject(fenOutline, 8)\n",
    "Map.addLayer(ndvi.clip(fenOutline), visParams, 'NDVI')\n",
    "Map"
   ]
  },
  {
   "cell_type": "code",
   "execution_count": 154,
   "id": "1ea21d87",
   "metadata": {
    "hidden": true
   },
   "outputs": [],
   "source": [
    "# add the indices to the other sentinel-2 predictors \n",
    "sen = sen.addBands([ndvi, ndwi, ndmi])"
   ]
  },
  {
   "cell_type": "markdown",
   "id": "897b40fa",
   "metadata": {
    "heading_collapsed": true
   },
   "source": [
    "# NATMAP Predictors"
   ]
  },
  {
   "cell_type": "markdown",
   "id": "6f2cc053",
   "metadata": {
    "heading_collapsed": true,
    "hidden": true
   },
   "source": [
    "## NATMAP Vector"
   ]
  },
  {
   "cell_type": "code",
   "execution_count": 155,
   "id": "f700d18a",
   "metadata": {
    "hidden": true
   },
   "outputs": [],
   "source": [
    "# load the raster image from the GEE assets location (cannot load local raster files unlike with .shp files)\n",
    "NATMAP_vector = ee.Image(path_vector)\n",
    "NATMAP_vector = NATMAP_vector.rename(['Soiltype'])\n",
    "NATMAP_vector = NATMAP_vector.cast({'Soiltype': 'uint16'})"
   ]
  },
  {
   "cell_type": "code",
   "execution_count": 156,
   "id": "61687236",
   "metadata": {
    "hidden": true
   },
   "outputs": [
    {
     "data": {
      "application/vnd.jupyter.widget-view+json": {
       "model_id": "7626c08553c54b87aaa85910efcc83a0",
       "version_major": 2,
       "version_minor": 0
      },
      "text/plain": [
       "Map(center=[52.70465287691509, 0.062270855934294995], controls=(WidgetControl(options=['position', 'transparen…"
      ]
     },
     "metadata": {},
     "output_type": "display_data"
    }
   ],
   "source": [
    "# plot this categorical soil data on a new map\n",
    "Map = geemap.Map()\n",
    "visParams = {\n",
    "    'min': 0,\n",
    "    'max': 76,\n",
    "}\n",
    "Map.addLayer(NATMAP_vector.select('Soiltype'), visParams, 'Soil Map')\n",
    "Map.centerObject(fenOutline, 8)\n",
    "Map"
   ]
  },
  {
   "cell_type": "markdown",
   "id": "2e324b40",
   "metadata": {
    "hidden": true
   },
   "source": [
    "## NATMAP Soilscapes"
   ]
  },
  {
   "cell_type": "code",
   "execution_count": 157,
   "id": "62ad521f",
   "metadata": {
    "hidden": true
   },
   "outputs": [],
   "source": [
    "# load the raster image \n",
    "NATMAP_soilscapes = ee.Image(path_soilscapes)\n",
    "NATMAP_soilscapes = NATMAP_soilscapes.rename(['Soilscapes'])"
   ]
  },
  {
   "cell_type": "code",
   "execution_count": 158,
   "id": "4cd00ee3",
   "metadata": {
    "hidden": true
   },
   "outputs": [
    {
     "data": {
      "application/vnd.jupyter.widget-view+json": {
       "model_id": "57c306ec9d76432ba3aa219082431b76",
       "version_major": 2,
       "version_minor": 0
      },
      "text/plain": [
       "Map(center=[52.70465287691509, 0.062270855934294995], controls=(WidgetControl(options=['position', 'transparen…"
      ]
     },
     "metadata": {},
     "output_type": "display_data"
    }
   ],
   "source": [
    "# plot the soilscape data\n",
    "Map = geemap.Map()\n",
    "visParams = {\n",
    "    'min': 0,\n",
    "    'max': 20,\n",
    "}\n",
    "Map.addLayer(NATMAP_soilscapes, visParams, 'Soilscapes Map')\n",
    "Map.centerObject(fenOutline, 8)\n",
    "Map"
   ]
  },
  {
   "cell_type": "markdown",
   "id": "4e46846a",
   "metadata": {
    "heading_collapsed": true,
    "hidden": true
   },
   "source": [
    "## NATMAP Carbon"
   ]
  },
  {
   "cell_type": "code",
   "execution_count": 159,
   "id": "38c13922",
   "metadata": {
    "hidden": true
   },
   "outputs": [],
   "source": [
    "# load the raster image (with 3 bands - 0 to 30, 30 to 100 and 100 to 150 carbon stock)\n",
    "NATMAP_carbon = ee.Image(path_carbon)\n",
    "NATMAP_carbon = NATMAP_carbon.rename(['AV_STK_150', 'AV_STK_30', 'AV_STK_100'])\n",
    "NATMAP_carbon = NATMAP_carbon.clip(fenOutline)"
   ]
  },
  {
   "cell_type": "code",
   "execution_count": 160,
   "id": "27df3da2",
   "metadata": {
    "hidden": true
   },
   "outputs": [
    {
     "data": {
      "application/vnd.jupyter.widget-view+json": {
       "model_id": "2356f4824bc64512b73330e7c673d0de",
       "version_major": 2,
       "version_minor": 0
      },
      "text/plain": [
       "Map(center=[52.70465287691509, 0.062270855934294995], controls=(WidgetControl(options=['position', 'transparen…"
      ]
     },
     "metadata": {},
     "output_type": "display_data"
    }
   ],
   "source": [
    "# plot this carbon stock data \n",
    "Map = geemap.Map()\n",
    "visParams = {\n",
    "    'min': 0,\n",
    "    'max': 86,\n",
    "}\n",
    "Map.addLayer(NATMAP_carbon.select('AV_STK_100'), visParams, 'Carbon Map')\n",
    "Map.centerObject(fenOutline, 8)\n",
    "Map"
   ]
  },
  {
   "cell_type": "markdown",
   "id": "ed5be209",
   "metadata": {
    "heading_collapsed": true,
    "hidden": true
   },
   "source": [
    "## Combining NATMAP Predictors"
   ]
  },
  {
   "cell_type": "code",
   "execution_count": 161,
   "id": "3147b87c",
   "metadata": {
    "hidden": true
   },
   "outputs": [],
   "source": [
    "NATMAP_preds = NATMAP_vector.addBands([NATMAP_soilscapes, NATMAP_carbon])"
   ]
  },
  {
   "cell_type": "markdown",
   "id": "6a5f2d43",
   "metadata": {
    "heading_collapsed": true
   },
   "source": [
    "# SAR x2"
   ]
  },
  {
   "cell_type": "markdown",
   "id": "842e4d26",
   "metadata": {
    "hidden": true
   },
   "source": [
    "Since our experience of using SAR data is non-existent we follow Rudiyanto's steps heavily. We have had to make a couple of decisions ourselves but hopefully they are not important ones. We use both Sentinel-1 imagery (c-band) and also PALSAR (L-band)"
   ]
  },
  {
   "cell_type": "markdown",
   "id": "2ffec918",
   "metadata": {
    "heading_collapsed": true,
    "hidden": true
   },
   "source": [
    "## Sentinel-1"
   ]
  },
  {
   "cell_type": "code",
   "execution_count": 162,
   "id": "15b1a7c4",
   "metadata": {
    "hidden": true
   },
   "outputs": [],
   "source": [
    "# load the SAR data from the GEE catalog\n",
    "sen1 = ee.ImageCollection('COPERNICUS/S1_GRD').filterDate(START_DATE, END_DATE)\n",
    "\n",
    "# Rudiyanto paper species to use polarisations of: VV and VH\n",
    "sen1 = (sen1.filter(ee.Filter.listContains('transmitterReceiverPolarisation', 'VV'))\n",
    "            .filter(ee.Filter.listContains('transmitterReceiverPolarisation', 'VH')))\n",
    "\n",
    "# to get consistent images filter to take only ascending images (Fens is flat-ish)\n",
    "sen1 = sen1.filter(ee.Filter.eq('orbitProperties_pass', 'ASCENDING'))\n",
    "\n",
    "# take mean of VV and VH polarisations and clip to Fens\n",
    "sen1_VV = sen1.select('VV').mean().clip(fenOutline).rename(\"Sen1_VV\")\n",
    "sen1_VH = sen1.select('VH').mean().clip(fenOutline).rename(\"Sen1_VH\")"
   ]
  },
  {
   "cell_type": "code",
   "execution_count": 163,
   "id": "e8bfa391",
   "metadata": {
    "hidden": true
   },
   "outputs": [],
   "source": [
    "# calculate indices per Rudiyanto paper:\n",
    "# index1 = VV/VH\n",
    "sen1_index1 = sen1_VV.divide(sen1_VH).rename(\"Sen1_Index1\")\n",
    "\n",
    "# index2 = ((VV+VH)/2)\n",
    "sen1_index2 = sen1_VV.add(sen1_VH).divide(2).rename(\"Sen1_Index2\")\n",
    "\n",
    "# index3 = VV-VH\n",
    "sen1_index3 = sen1_VV.subtract(sen1_VH).rename(\"Sen1_Index3\")"
   ]
  },
  {
   "cell_type": "code",
   "execution_count": 164,
   "id": "2d4a9f23",
   "metadata": {
    "hidden": true
   },
   "outputs": [
    {
     "data": {
      "text/html": [
       "<div><style>:root {\n",
       "  --font-color-primary: var(--jp-content-font-color0, rgba(0, 0, 0, 1));\n",
       "  --font-color-secondary: var(--jp-content-font-color2, rgba(0, 0, 0, 0.6));\n",
       "  --font-color-accent: rgba(123, 31, 162, 1);\n",
       "  --border-color: var(--jp-border-color2, #e0e0e0);\n",
       "  --background-color: var(--jp-layout-color0, white);\n",
       "  --background-color-row-even: var(--jp-layout-color1, white);\n",
       "  --background-color-row-odd: var(--jp-layout-color2, #eeeeee);\n",
       "}\n",
       "\n",
       "html[theme=\"dark\"],\n",
       "body[data-theme=\"dark\"],\n",
       "body.vscode-dark {\n",
       "  --font-color-primary: rgba(255, 255, 255, 1);\n",
       "  --font-color-secondary: rgba(255, 255, 255, 0.6);\n",
       "  --font-color-accent: rgb(173, 132, 190);\n",
       "  --border-color: #2e2e2e;\n",
       "  --background-color: #111111;\n",
       "  --background-color-row-even: #111111;\n",
       "  --background-color-row-odd: #313131;\n",
       "}\n",
       "\n",
       ".ee {\n",
       "  padding: 1em;\n",
       "  line-height: 1.5em;\n",
       "  min-width: 300px;\n",
       "  max-width: 1200px;\n",
       "  overflow-y: scroll;\n",
       "  max-height: 600px;\n",
       "  border: 1px solid var(--border-color);\n",
       "  font-family: monospace;\n",
       "}\n",
       "\n",
       ".ee li {\n",
       "  list-style-type: none;\n",
       "}\n",
       "\n",
       ".ee ul {\n",
       "  padding-left: 1.5em !important;\n",
       "  margin: 0;\n",
       "}\n",
       "\n",
       ".ee > ul {\n",
       "  padding-left: 0 !important;\n",
       "}\n",
       "\n",
       ".ee-open,\n",
       ".ee-shut {\n",
       "  color: var(--font-color-secondary);\n",
       "  cursor: pointer;\n",
       "  margin: 0;\n",
       "}\n",
       "\n",
       ".ee-open:hover,\n",
       ".ee-shut:hover {\n",
       "  color: var(--font-color-primary);\n",
       "}\n",
       "\n",
       ".ee-k {\n",
       "  color: var(--font-color-accent);\n",
       "  margin-right: 6px;\n",
       "}\n",
       "\n",
       ".ee-v {\n",
       "  color: var(--font-color-primary);\n",
       "}\n",
       "\n",
       ".ee-toggle {\n",
       "  display: none;\n",
       "}\n",
       "\n",
       ".ee-shut + ul {\n",
       "  display: none;\n",
       "}\n",
       "\n",
       ".ee-open + ul {\n",
       "  display: block;\n",
       "}\n",
       "\n",
       ".ee-shut::before {\n",
       "  display: inline-block;\n",
       "  content: \"▼\";\n",
       "  margin-right: 6px;\n",
       "  transform: rotate(-90deg);\n",
       "  transition: transform 0.2s;\n",
       "}\n",
       "\n",
       ".ee-open::before {\n",
       "  transform: rotate(0deg);\n",
       "  display: inline-block;\n",
       "  content: \"▼\";\n",
       "  margin-right: 6px;\n",
       "  transition: transform 0.2s;\n",
       "}\n",
       "</style><div class='ee'><ul><li><label class='ee-shut'>Image (5 bands)<input type='checkbox' class='ee-toggle'></label><ul><li><span class='ee-k'>type:</span><span class='ee-v'>Image</span></li><li><label class='ee-shut'>bands: List (5 elements)<input type='checkbox' class='ee-toggle'></label><ul><li><label class='ee-shut'>0: \"Sen1_VV\", double, EPSG:4326<input type='checkbox' class='ee-toggle'></label><ul><li><span class='ee-k'>id:</span><span class='ee-v'>Sen1_VV</span></li><li><span class='ee-k'>crs:</span><span class='ee-v'>EPSG:4326</span></li><li><label class='ee-shut'>crs_transform: [1, 0, 0, 0, 1, 0]<input type='checkbox' class='ee-toggle'></label><ul><li><span class='ee-k'>0:</span><span class='ee-v'>1</span></li><li><span class='ee-k'>1:</span><span class='ee-v'>0</span></li><li><span class='ee-k'>2:</span><span class='ee-v'>0</span></li><li><span class='ee-k'>3:</span><span class='ee-v'>0</span></li><li><span class='ee-k'>4:</span><span class='ee-v'>1</span></li><li><span class='ee-k'>5:</span><span class='ee-v'>0</span></li></ul></li><li><label class='ee-shut'>data_type: double<input type='checkbox' class='ee-toggle'></label><ul><li><span class='ee-k'>type:</span><span class='ee-v'>PixelType</span></li><li><span class='ee-k'>precision:</span><span class='ee-v'>double</span></li></ul></li></ul></li><li><label class='ee-shut'>1: \"Sen1_VH\", double, EPSG:4326<input type='checkbox' class='ee-toggle'></label><ul><li><span class='ee-k'>id:</span><span class='ee-v'>Sen1_VH</span></li><li><span class='ee-k'>crs:</span><span class='ee-v'>EPSG:4326</span></li><li><label class='ee-shut'>crs_transform: [1, 0, 0, 0, 1, 0]<input type='checkbox' class='ee-toggle'></label><ul><li><span class='ee-k'>0:</span><span class='ee-v'>1</span></li><li><span class='ee-k'>1:</span><span class='ee-v'>0</span></li><li><span class='ee-k'>2:</span><span class='ee-v'>0</span></li><li><span class='ee-k'>3:</span><span class='ee-v'>0</span></li><li><span class='ee-k'>4:</span><span class='ee-v'>1</span></li><li><span class='ee-k'>5:</span><span class='ee-v'>0</span></li></ul></li><li><label class='ee-shut'>data_type: double<input type='checkbox' class='ee-toggle'></label><ul><li><span class='ee-k'>type:</span><span class='ee-v'>PixelType</span></li><li><span class='ee-k'>precision:</span><span class='ee-v'>double</span></li></ul></li></ul></li><li><label class='ee-shut'>2: \"Sen1_Index1\", double, EPSG:4326<input type='checkbox' class='ee-toggle'></label><ul><li><span class='ee-k'>id:</span><span class='ee-v'>Sen1_Index1</span></li><li><span class='ee-k'>crs:</span><span class='ee-v'>EPSG:4326</span></li><li><label class='ee-shut'>crs_transform: [1, 0, 0, 0, 1, 0]<input type='checkbox' class='ee-toggle'></label><ul><li><span class='ee-k'>0:</span><span class='ee-v'>1</span></li><li><span class='ee-k'>1:</span><span class='ee-v'>0</span></li><li><span class='ee-k'>2:</span><span class='ee-v'>0</span></li><li><span class='ee-k'>3:</span><span class='ee-v'>0</span></li><li><span class='ee-k'>4:</span><span class='ee-v'>1</span></li><li><span class='ee-k'>5:</span><span class='ee-v'>0</span></li></ul></li><li><label class='ee-shut'>data_type: double<input type='checkbox' class='ee-toggle'></label><ul><li><span class='ee-k'>type:</span><span class='ee-v'>PixelType</span></li><li><span class='ee-k'>precision:</span><span class='ee-v'>double</span></li></ul></li></ul></li><li><label class='ee-shut'>3: \"Sen1_Index2\", double, EPSG:4326<input type='checkbox' class='ee-toggle'></label><ul><li><span class='ee-k'>id:</span><span class='ee-v'>Sen1_Index2</span></li><li><span class='ee-k'>crs:</span><span class='ee-v'>EPSG:4326</span></li><li><label class='ee-shut'>crs_transform: [1, 0, 0, 0, 1, 0]<input type='checkbox' class='ee-toggle'></label><ul><li><span class='ee-k'>0:</span><span class='ee-v'>1</span></li><li><span class='ee-k'>1:</span><span class='ee-v'>0</span></li><li><span class='ee-k'>2:</span><span class='ee-v'>0</span></li><li><span class='ee-k'>3:</span><span class='ee-v'>0</span></li><li><span class='ee-k'>4:</span><span class='ee-v'>1</span></li><li><span class='ee-k'>5:</span><span class='ee-v'>0</span></li></ul></li><li><label class='ee-shut'>data_type: double<input type='checkbox' class='ee-toggle'></label><ul><li><span class='ee-k'>type:</span><span class='ee-v'>PixelType</span></li><li><span class='ee-k'>precision:</span><span class='ee-v'>double</span></li></ul></li></ul></li><li><label class='ee-shut'>4: \"Sen1_Index3\", double, EPSG:4326<input type='checkbox' class='ee-toggle'></label><ul><li><span class='ee-k'>id:</span><span class='ee-v'>Sen1_Index3</span></li><li><span class='ee-k'>crs:</span><span class='ee-v'>EPSG:4326</span></li><li><label class='ee-shut'>crs_transform: [1, 0, 0, 0, 1, 0]<input type='checkbox' class='ee-toggle'></label><ul><li><span class='ee-k'>0:</span><span class='ee-v'>1</span></li><li><span class='ee-k'>1:</span><span class='ee-v'>0</span></li><li><span class='ee-k'>2:</span><span class='ee-v'>0</span></li><li><span class='ee-k'>3:</span><span class='ee-v'>0</span></li><li><span class='ee-k'>4:</span><span class='ee-v'>1</span></li><li><span class='ee-k'>5:</span><span class='ee-v'>0</span></li></ul></li><li><label class='ee-shut'>data_type: double<input type='checkbox' class='ee-toggle'></label><ul><li><span class='ee-k'>type:</span><span class='ee-v'>PixelType</span></li><li><span class='ee-k'>precision:</span><span class='ee-v'>double</span></li></ul></li></ul></li></ul></li></ul></li></ul></div><script>function toggleHeader() {\n",
       "    const parent = this.parentElement;\n",
       "    parent.className = parent.className === \"ee-open\" ? \"ee-shut\" : \"ee-open\";\n",
       "}\n",
       "\n",
       "for (let c of document.getElementsByClassName(\"ee-toggle\")) {\n",
       "    c.onclick = toggleHeader;\n",
       "}</script></div>"
      ],
      "text/plain": [
       "<ee.image.Image at 0x7fcce101a5e0>"
      ]
     },
     "execution_count": 164,
     "metadata": {},
     "output_type": "execute_result"
    }
   ],
   "source": [
    "# put all the relevant predictors in one image stack\n",
    "sen1_stack = sen1_VV.addBands([sen1_VH, sen1_index1, sen1_index2, sen1_index3])\n",
    "sen1_stack"
   ]
  },
  {
   "cell_type": "code",
   "execution_count": 165,
   "id": "b9a46f4b",
   "metadata": {
    "hidden": true
   },
   "outputs": [
    {
     "data": {
      "application/vnd.jupyter.widget-view+json": {
       "model_id": "7bde7955ec704f8eae3b8bbce8f77fb6",
       "version_major": 2,
       "version_minor": 0
      },
      "text/plain": [
       "Map(center=[52.70465287691509, 0.062270855934294995], controls=(WidgetControl(options=['position', 'transparen…"
      ]
     },
     "metadata": {},
     "output_type": "display_data"
    }
   ],
   "source": [
    "# plot some results\n",
    "Map = geemap.Map()\n",
    "visParams = {\n",
    "    'min': -20,\n",
    "    'max': 0,\n",
    "}\n",
    "Map.addLayer(sen1_VV, visParams, 'Sen1')\n",
    "Map.centerObject(fenOutline, 8)\n",
    "Map"
   ]
  },
  {
   "cell_type": "markdown",
   "id": "d0bf4b27",
   "metadata": {
    "hidden": true
   },
   "source": [
    "## PALSAR"
   ]
  },
  {
   "cell_type": "code",
   "execution_count": 166,
   "id": "111d517a",
   "metadata": {
    "hidden": true
   },
   "outputs": [],
   "source": [
    "# load the palsar data (one annual image per year, so take most recent =2020)\n",
    "palsar = ee.ImageCollection(\"JAXA/ALOS/PALSAR/YEARLY/SAR\").filter(ee.Filter.date('2020-01-01', '2021-01-01'))\n",
    "\n",
    "# select HH and HV polarisation as per Rudiyanto, and clip to Fens\n",
    "palsar_HH = palsar.select('HH').first().clip(fenOutline).rename(\"PALSAR_HH\")\n",
    "palsar_HV = palsar.select('HV').first().clip(fenOutline).rename(\"PALSAR_HV\")"
   ]
  },
  {
   "cell_type": "code",
   "execution_count": 167,
   "id": "f7b2159c",
   "metadata": {
    "hidden": true
   },
   "outputs": [],
   "source": [
    "# calculate indices per Rudiyanto paper:\n",
    "# index1 = HH/HV\n",
    "palsar1_index1 = palsar_HH.divide(palsar_HV).rename(\"PALSAR_Index1\")\n",
    "\n",
    "# index2 = ((HH+HV)/2)\n",
    "palsar1_index2 = palsar_HH.add(palsar_HV).divide(2).rename(\"PALSAR_Index2\")\n",
    "\n",
    "# index3 = HH-HV\n",
    "palsar1_index3 = palsar_HH.subtract(palsar_HV).rename(\"PALSAR_Index3\")"
   ]
  },
  {
   "cell_type": "code",
   "execution_count": 168,
   "id": "2f42cf4e",
   "metadata": {
    "hidden": true
   },
   "outputs": [
    {
     "data": {
      "text/html": [
       "<div><style>:root {\n",
       "  --font-color-primary: var(--jp-content-font-color0, rgba(0, 0, 0, 1));\n",
       "  --font-color-secondary: var(--jp-content-font-color2, rgba(0, 0, 0, 0.6));\n",
       "  --font-color-accent: rgba(123, 31, 162, 1);\n",
       "  --border-color: var(--jp-border-color2, #e0e0e0);\n",
       "  --background-color: var(--jp-layout-color0, white);\n",
       "  --background-color-row-even: var(--jp-layout-color1, white);\n",
       "  --background-color-row-odd: var(--jp-layout-color2, #eeeeee);\n",
       "}\n",
       "\n",
       "html[theme=\"dark\"],\n",
       "body[data-theme=\"dark\"],\n",
       "body.vscode-dark {\n",
       "  --font-color-primary: rgba(255, 255, 255, 1);\n",
       "  --font-color-secondary: rgba(255, 255, 255, 0.6);\n",
       "  --font-color-accent: rgb(173, 132, 190);\n",
       "  --border-color: #2e2e2e;\n",
       "  --background-color: #111111;\n",
       "  --background-color-row-even: #111111;\n",
       "  --background-color-row-odd: #313131;\n",
       "}\n",
       "\n",
       ".ee {\n",
       "  padding: 1em;\n",
       "  line-height: 1.5em;\n",
       "  min-width: 300px;\n",
       "  max-width: 1200px;\n",
       "  overflow-y: scroll;\n",
       "  max-height: 600px;\n",
       "  border: 1px solid var(--border-color);\n",
       "  font-family: monospace;\n",
       "}\n",
       "\n",
       ".ee li {\n",
       "  list-style-type: none;\n",
       "}\n",
       "\n",
       ".ee ul {\n",
       "  padding-left: 1.5em !important;\n",
       "  margin: 0;\n",
       "}\n",
       "\n",
       ".ee > ul {\n",
       "  padding-left: 0 !important;\n",
       "}\n",
       "\n",
       ".ee-open,\n",
       ".ee-shut {\n",
       "  color: var(--font-color-secondary);\n",
       "  cursor: pointer;\n",
       "  margin: 0;\n",
       "}\n",
       "\n",
       ".ee-open:hover,\n",
       ".ee-shut:hover {\n",
       "  color: var(--font-color-primary);\n",
       "}\n",
       "\n",
       ".ee-k {\n",
       "  color: var(--font-color-accent);\n",
       "  margin-right: 6px;\n",
       "}\n",
       "\n",
       ".ee-v {\n",
       "  color: var(--font-color-primary);\n",
       "}\n",
       "\n",
       ".ee-toggle {\n",
       "  display: none;\n",
       "}\n",
       "\n",
       ".ee-shut + ul {\n",
       "  display: none;\n",
       "}\n",
       "\n",
       ".ee-open + ul {\n",
       "  display: block;\n",
       "}\n",
       "\n",
       ".ee-shut::before {\n",
       "  display: inline-block;\n",
       "  content: \"▼\";\n",
       "  margin-right: 6px;\n",
       "  transform: rotate(-90deg);\n",
       "  transition: transform 0.2s;\n",
       "}\n",
       "\n",
       ".ee-open::before {\n",
       "  transform: rotate(0deg);\n",
       "  display: inline-block;\n",
       "  content: \"▼\";\n",
       "  margin-right: 6px;\n",
       "  transition: transform 0.2s;\n",
       "}\n",
       "</style><div class='ee'><ul><li><label class='ee-shut'>Image JAXA/ALOS/PALSAR/YEARLY/SAR/2020 (5 bands)<input type='checkbox' class='ee-toggle'></label><ul><li><span class='ee-k'>type:</span><span class='ee-v'>Image</span></li><li><span class='ee-k'>id:</span><span class='ee-v'>JAXA/ALOS/PALSAR/YEARLY/SAR/2020</span></li><li><span class='ee-k'>version:</span><span class='ee-v'>1621079776122568</span></li><li><label class='ee-shut'>bands: List (5 elements)<input type='checkbox' class='ee-toggle'></label><ul><li><label class='ee-shut'>0: \"PALSAR_HH\", unsigned int16, EPSG:4326, 1620000x634500 px<input type='checkbox' class='ee-toggle'></label><ul><li><span class='ee-k'>id:</span><span class='ee-v'>PALSAR_HH</span></li><li><span class='ee-k'>crs:</span><span class='ee-v'>EPSG:4326</span></li><li><label class='ee-shut'>crs_transform: List (6 elements)<input type='checkbox' class='ee-toggle'></label><ul><li><span class='ee-k'>0:</span><span class='ee-v'>0.00022222222222222223</span></li><li><span class='ee-k'>1:</span><span class='ee-v'>0</span></li><li><span class='ee-k'>2:</span><span class='ee-v'>-180</span></li><li><span class='ee-k'>3:</span><span class='ee-v'>0</span></li><li><span class='ee-k'>4:</span><span class='ee-v'>-0.00022222222222222223</span></li><li><span class='ee-k'>5:</span><span class='ee-v'>84</span></li></ul></li><li><label class='ee-shut'>data_type: unsigned int16<input type='checkbox' class='ee-toggle'></label><ul><li><span class='ee-k'>type:</span><span class='ee-v'>PixelType</span></li><li><span class='ee-k'>max:</span><span class='ee-v'>65535</span></li><li><span class='ee-k'>min:</span><span class='ee-v'>0</span></li><li><span class='ee-k'>precision:</span><span class='ee-v'>int</span></li></ul></li><li><label class='ee-shut'>dimensions: [1620000, 634500]<input type='checkbox' class='ee-toggle'></label><ul><li><span class='ee-k'>0:</span><span class='ee-v'>1620000</span></li><li><span class='ee-k'>1:</span><span class='ee-v'>634500</span></li></ul></li></ul></li><li><label class='ee-shut'>1: \"PALSAR_HV\", unsigned int16, EPSG:4326, 1620000x634500 px<input type='checkbox' class='ee-toggle'></label><ul><li><span class='ee-k'>id:</span><span class='ee-v'>PALSAR_HV</span></li><li><span class='ee-k'>crs:</span><span class='ee-v'>EPSG:4326</span></li><li><label class='ee-shut'>crs_transform: List (6 elements)<input type='checkbox' class='ee-toggle'></label><ul><li><span class='ee-k'>0:</span><span class='ee-v'>0.00022222222222222223</span></li><li><span class='ee-k'>1:</span><span class='ee-v'>0</span></li><li><span class='ee-k'>2:</span><span class='ee-v'>-180</span></li><li><span class='ee-k'>3:</span><span class='ee-v'>0</span></li><li><span class='ee-k'>4:</span><span class='ee-v'>-0.00022222222222222223</span></li><li><span class='ee-k'>5:</span><span class='ee-v'>84</span></li></ul></li><li><label class='ee-shut'>data_type: unsigned int16<input type='checkbox' class='ee-toggle'></label><ul><li><span class='ee-k'>type:</span><span class='ee-v'>PixelType</span></li><li><span class='ee-k'>max:</span><span class='ee-v'>65535</span></li><li><span class='ee-k'>min:</span><span class='ee-v'>0</span></li><li><span class='ee-k'>precision:</span><span class='ee-v'>int</span></li></ul></li><li><label class='ee-shut'>dimensions: [1620000, 634500]<input type='checkbox' class='ee-toggle'></label><ul><li><span class='ee-k'>0:</span><span class='ee-v'>1620000</span></li><li><span class='ee-k'>1:</span><span class='ee-v'>634500</span></li></ul></li></ul></li><li><label class='ee-shut'>2: \"PALSAR_Index1\", float, EPSG:4326, 1620000x634500 px<input type='checkbox' class='ee-toggle'></label><ul><li><span class='ee-k'>id:</span><span class='ee-v'>PALSAR_Index1</span></li><li><span class='ee-k'>crs:</span><span class='ee-v'>EPSG:4326</span></li><li><label class='ee-shut'>crs_transform: List (6 elements)<input type='checkbox' class='ee-toggle'></label><ul><li><span class='ee-k'>0:</span><span class='ee-v'>0.00022222222222222223</span></li><li><span class='ee-k'>1:</span><span class='ee-v'>0</span></li><li><span class='ee-k'>2:</span><span class='ee-v'>-180</span></li><li><span class='ee-k'>3:</span><span class='ee-v'>0</span></li><li><span class='ee-k'>4:</span><span class='ee-v'>-0.00022222222222222223</span></li><li><span class='ee-k'>5:</span><span class='ee-v'>84</span></li></ul></li><li><label class='ee-shut'>data_type: float<input type='checkbox' class='ee-toggle'></label><ul><li><span class='ee-k'>type:</span><span class='ee-v'>PixelType</span></li><li><span class='ee-k'>precision:</span><span class='ee-v'>float</span></li></ul></li><li><label class='ee-shut'>dimensions: [1620000, 634500]<input type='checkbox' class='ee-toggle'></label><ul><li><span class='ee-k'>0:</span><span class='ee-v'>1620000</span></li><li><span class='ee-k'>1:</span><span class='ee-v'>634500</span></li></ul></li></ul></li><li><label class='ee-shut'>3: \"PALSAR_Index2\", float, EPSG:4326, 1620000x634500 px<input type='checkbox' class='ee-toggle'></label><ul><li><span class='ee-k'>id:</span><span class='ee-v'>PALSAR_Index2</span></li><li><span class='ee-k'>crs:</span><span class='ee-v'>EPSG:4326</span></li><li><label class='ee-shut'>crs_transform: List (6 elements)<input type='checkbox' class='ee-toggle'></label><ul><li><span class='ee-k'>0:</span><span class='ee-v'>0.00022222222222222223</span></li><li><span class='ee-k'>1:</span><span class='ee-v'>0</span></li><li><span class='ee-k'>2:</span><span class='ee-v'>-180</span></li><li><span class='ee-k'>3:</span><span class='ee-v'>0</span></li><li><span class='ee-k'>4:</span><span class='ee-v'>-0.00022222222222222223</span></li><li><span class='ee-k'>5:</span><span class='ee-v'>84</span></li></ul></li><li><label class='ee-shut'>data_type: float<input type='checkbox' class='ee-toggle'></label><ul><li><span class='ee-k'>type:</span><span class='ee-v'>PixelType</span></li><li><span class='ee-k'>max:</span><span class='ee-v'>65535</span></li><li><span class='ee-k'>min:</span><span class='ee-v'>0</span></li><li><span class='ee-k'>precision:</span><span class='ee-v'>float</span></li></ul></li><li><label class='ee-shut'>dimensions: [1620000, 634500]<input type='checkbox' class='ee-toggle'></label><ul><li><span class='ee-k'>0:</span><span class='ee-v'>1620000</span></li><li><span class='ee-k'>1:</span><span class='ee-v'>634500</span></li></ul></li></ul></li><li><label class='ee-shut'>4: \"PALSAR_Index3\", int ∈ [-65535, 65535], EPSG:4326, 1620000x634500 px<input type='checkbox' class='ee-toggle'></label><ul><li><span class='ee-k'>id:</span><span class='ee-v'>PALSAR_Index3</span></li><li><span class='ee-k'>crs:</span><span class='ee-v'>EPSG:4326</span></li><li><label class='ee-shut'>crs_transform: List (6 elements)<input type='checkbox' class='ee-toggle'></label><ul><li><span class='ee-k'>0:</span><span class='ee-v'>0.00022222222222222223</span></li><li><span class='ee-k'>1:</span><span class='ee-v'>0</span></li><li><span class='ee-k'>2:</span><span class='ee-v'>-180</span></li><li><span class='ee-k'>3:</span><span class='ee-v'>0</span></li><li><span class='ee-k'>4:</span><span class='ee-v'>-0.00022222222222222223</span></li><li><span class='ee-k'>5:</span><span class='ee-v'>84</span></li></ul></li><li><label class='ee-shut'>data_type: int ∈ [-65535, 65535]<input type='checkbox' class='ee-toggle'></label><ul><li><span class='ee-k'>type:</span><span class='ee-v'>PixelType</span></li><li><span class='ee-k'>max:</span><span class='ee-v'>65535</span></li><li><span class='ee-k'>min:</span><span class='ee-v'>-65535</span></li><li><span class='ee-k'>precision:</span><span class='ee-v'>int</span></li></ul></li><li><label class='ee-shut'>dimensions: [1620000, 634500]<input type='checkbox' class='ee-toggle'></label><ul><li><span class='ee-k'>0:</span><span class='ee-v'>1620000</span></li><li><span class='ee-k'>1:</span><span class='ee-v'>634500</span></li></ul></li></ul></li></ul></li><li><label class='ee-shut'>properties: Object (4 properties)<input type='checkbox' class='ee-toggle'></label><ul><li><span class='ee-k'>system:asset_size:</span><span class='ee-v'>1860737475486</span></li><li><span class='ee-k'>system:index:</span><span class='ee-v'>2020</span></li><li><span class='ee-k'>system:time_end:</span><span class='ee-v'>1609459200000</span></li><li><span class='ee-k'>system:time_start:</span><span class='ee-v'>1577836800000</span></li></ul></li></ul></li></ul></div><script>function toggleHeader() {\n",
       "    const parent = this.parentElement;\n",
       "    parent.className = parent.className === \"ee-open\" ? \"ee-shut\" : \"ee-open\";\n",
       "}\n",
       "\n",
       "for (let c of document.getElementsByClassName(\"ee-toggle\")) {\n",
       "    c.onclick = toggleHeader;\n",
       "}</script></div>"
      ],
      "text/plain": [
       "<ee.image.Image at 0x7fcd554f32e0>"
      ]
     },
     "execution_count": 168,
     "metadata": {},
     "output_type": "execute_result"
    }
   ],
   "source": [
    "# put all the relevant predictors in one image stack\n",
    "palsar_stack = palsar_HH.addBands([palsar_HV, palsar1_index1, palsar1_index2, palsar1_index3])\n",
    "palsar_stack"
   ]
  },
  {
   "cell_type": "code",
   "execution_count": 169,
   "id": "a2484a52",
   "metadata": {
    "hidden": true
   },
   "outputs": [
    {
     "data": {
      "application/vnd.jupyter.widget-view+json": {
       "model_id": "6b9aa56c282240f7b16c35745da84c4b",
       "version_major": 2,
       "version_minor": 0
      },
      "text/plain": [
       "Map(center=[52.70465287691509, 0.062270855934294995], controls=(WidgetControl(options=['position', 'transparen…"
      ]
     },
     "metadata": {},
     "output_type": "display_data"
    }
   ],
   "source": [
    "# plot some results\n",
    "Map = geemap.Map()\n",
    "visParams = {\n",
    "  'min': 0,\n",
    "  'max': 10000,\n",
    "}\n",
    "Map.addLayer(palsar_HH, visParams, 'PALSAR');\n",
    "Map.centerObject(fenOutline, 8)\n",
    "Map"
   ]
  },
  {
   "cell_type": "markdown",
   "id": "da16a79c",
   "metadata": {
    "heading_collapsed": true
   },
   "source": [
    "# Distance to Watercourses"
   ]
  },
  {
   "cell_type": "markdown",
   "id": "c69a50d7",
   "metadata": {
    "hidden": true
   },
   "source": [
    "We have two datsets: distance to major rivers and distance to all watercourses (e.g. ditches, streams etc)"
   ]
  },
  {
   "cell_type": "code",
   "execution_count": 170,
   "id": "bf58f9d5",
   "metadata": {
    "hidden": true
   },
   "outputs": [],
   "source": [
    "# load the raster image from the GEE assets location \n",
    "d2_rivers = ee.Image(path_rivers)\n",
    "d2_rivers = d2_rivers.rename(['d2_River'])\n",
    "\n",
    "d2_watercourses = ee.Image(path_watercourses)\n",
    "d2_watercourses = d2_watercourses.rename(['d2_Watercourse'])\n",
    "\n",
    "# combine the predictors as bands \n",
    "d2_water = d2_rivers.addBands(d2_watercourses)\n",
    "d2_water = d2_water.clip(fenOutline)"
   ]
  },
  {
   "cell_type": "code",
   "execution_count": 171,
   "id": "aa6098b7",
   "metadata": {
    "hidden": true
   },
   "outputs": [
    {
     "data": {
      "application/vnd.jupyter.widget-view+json": {
       "model_id": "b64899c4a59849acb23b50af301e3703",
       "version_major": 2,
       "version_minor": 0
      },
      "text/plain": [
       "Map(center=[52.70465287691509, 0.062270855934294995], controls=(WidgetControl(options=['position', 'transparen…"
      ]
     },
     "metadata": {},
     "output_type": "display_data"
    }
   ],
   "source": [
    "# plot this distance data on a map\n",
    "Map = geemap.Map()\n",
    "visParams = {\n",
    "    'min': 0,\n",
    "    'max': 7000,\n",
    "}\n",
    "Map.addLayer(d2_water.select('d2_River'), visParams, 'Distance to River')\n",
    "Map.centerObject(fenOutline, 8)\n",
    "Map"
   ]
  },
  {
   "cell_type": "markdown",
   "id": "1470d47f",
   "metadata": {
    "heading_collapsed": true
   },
   "source": [
    "# Landcover Datasets"
   ]
  },
  {
   "cell_type": "code",
   "execution_count": 172,
   "id": "9da57454",
   "metadata": {
    "hidden": true
   },
   "outputs": [],
   "source": [
    "# load the raster image from the GEE assets location \n",
    "landcover = ee.Image(path_landcover)\n",
    "landcover = landcover.rename(['Landcover', 'Landcover_conf'])\n",
    "\n",
    "crome = ee.Image(path_crome)\n",
    "crome = crome.rename(['CROPTYPE'])\n",
    "\n",
    "# combine the predictors as bands \n",
    "landcover_datasets = landcover.addBands(crome)"
   ]
  },
  {
   "cell_type": "code",
   "execution_count": 173,
   "id": "3e7396de",
   "metadata": {
    "hidden": true
   },
   "outputs": [
    {
     "data": {
      "application/vnd.jupyter.widget-view+json": {
       "model_id": "cb2584c613e74259831764f03c1ceace",
       "version_major": 2,
       "version_minor": 0
      },
      "text/plain": [
       "Map(center=[52.70465287691509, 0.062270855934294995], controls=(WidgetControl(options=['position', 'transparen…"
      ]
     },
     "metadata": {},
     "output_type": "display_data"
    }
   ],
   "source": [
    "# plot this categorical crop data on a new map\n",
    "Map = geemap.Map()\n",
    "visParams = {\n",
    "    'min': 1,\n",
    "    'max': 35,\n",
    "}\n",
    "Map.addLayer(landcover_datasets.select('CROPTYPE'), visParams, 'Landcover')\n",
    "Map.centerObject(fenOutline, 8)\n",
    "Map"
   ]
  },
  {
   "cell_type": "markdown",
   "id": "fd47c66e",
   "metadata": {
    "heading_collapsed": true
   },
   "source": [
    "# Elevation"
   ]
  },
  {
   "cell_type": "code",
   "execution_count": 174,
   "id": "5b1bf2bf",
   "metadata": {
    "hidden": true
   },
   "outputs": [],
   "source": [
    "# load the raster images from the GEE assets location \n",
    "elevation = ee.Image(path_elevation)\n",
    "elevation = elevation.rename(['Elevation'])\n",
    "\n",
    "MRRTF = ee.Image(path_MRRTF)\n",
    "MRRTF = MRRTF.rename(['MRRTF'])\n",
    "\n",
    "MRVBF = ee.Image(path_MRVBF)\n",
    "MRVBF = MRVBF.rename(['MRVBF'])\n",
    "\n",
    "TWI = ee.Image(path_TWI)\n",
    "TWI = TWI.rename(['TWI'])\n",
    "\n",
    "# combine the predictors as bands \n",
    "elevation_datasets = elevation.addBands([MRRTF, MRVBF, TWI])"
   ]
  },
  {
   "cell_type": "code",
   "execution_count": 175,
   "id": "5ea3a932",
   "metadata": {
    "hidden": true
   },
   "outputs": [
    {
     "data": {
      "application/vnd.jupyter.widget-view+json": {
       "model_id": "c3f33517f88847de95551605b5063b83",
       "version_major": 2,
       "version_minor": 0
      },
      "text/plain": [
       "Map(center=[52.70465287691509, 0.062270855934294995], controls=(WidgetControl(options=['position', 'transparen…"
      ]
     },
     "metadata": {},
     "output_type": "display_data"
    }
   ],
   "source": [
    "# plot this lidar data on a map\n",
    "Map = geemap.Map()\n",
    "visParams = {\n",
    "    'min': -10,\n",
    "    'max': 30,\n",
    "}\n",
    "Map.addLayer(elevation_datasets.select('Elevation'), visParams, 'Lidar')\n",
    "Map.centerObject(fenOutline, 8)\n",
    "Map"
   ]
  },
  {
   "cell_type": "markdown",
   "id": "f672c7b7",
   "metadata": {
    "heading_collapsed": true
   },
   "source": [
    "# Combining Predictors"
   ]
  },
  {
   "cell_type": "markdown",
   "id": "92b95247",
   "metadata": {
    "hidden": true
   },
   "source": [
    "We need to make a general data layer stack (one image with bands corresponding to predictors)"
   ]
  },
  {
   "cell_type": "code",
   "execution_count": 201,
   "id": "d6e6c9e6",
   "metadata": {
    "hidden": true
   },
   "outputs": [],
   "source": [
    "# start with Sentinel-2 data\n",
    "predictor_stack = sen\n",
    "\n",
    "# add the NATMAP LandIS soil map datasets\n",
    "predictor_stack = predictor_stack.addBands(NATMAP_preds)\n",
    "\n",
    "# add the SAR predictors \n",
    "predictor_stack = predictor_stack.addBands(sen1_stack)\n",
    "predictor_stack = predictor_stack.addBands(palsar_stack)\n",
    "\n",
    "# add distance to water predictors \n",
    "predictor_stack = predictor_stack.addBands(d2_water) \n",
    "\n",
    "# add the landcover datasets as predictors \n",
    "predictor_stack = predictor_stack.addBands(landcover_datasets) \n",
    "\n",
    "# add the lidar elevation data and derived indices\n",
    "predictor_stack = predictor_stack.addBands(elevation_datasets) \n",
    "\n",
    "# double check we clip to the Fens region\n",
    "predictor_stack = predictor_stack.clip(fenOutline) "
   ]
  },
  {
   "cell_type": "markdown",
   "id": "bd30b834",
   "metadata": {
    "hidden": true
   },
   "source": [
    "Note: we have decided that it is best if all predictors have a 10m resolution. This projection seems to display as 10m on plots best so we trust it but shouldn't make too much difference. This reprojection only works for making datasets smaller resolution. If we need to increase the resolution then we need to take e.g. mean of points - generally we will try deal with this in QGIS for e.g. lidar dataset. This command applies to all bands (predictors):"
   ]
  },
  {
   "cell_type": "code",
   "execution_count": 202,
   "id": "7a9d87e8",
   "metadata": {
    "hidden": true
   },
   "outputs": [],
   "source": [
    "# make sure all the predictors are using a spatial resolution of 10m (this crs uses metres and is for UK area)\n",
    "predictor_stack = predictor_stack.reproject('EPSG:3040', scale=10) "
   ]
  },
  {
   "cell_type": "code",
   "execution_count": 203,
   "id": "f1a596e3",
   "metadata": {
    "hidden": true
   },
   "outputs": [
    {
     "data": {
      "text/html": [
       "<div><style>:root {\n",
       "  --font-color-primary: var(--jp-content-font-color0, rgba(0, 0, 0, 1));\n",
       "  --font-color-secondary: var(--jp-content-font-color2, rgba(0, 0, 0, 0.6));\n",
       "  --font-color-accent: rgba(123, 31, 162, 1);\n",
       "  --border-color: var(--jp-border-color2, #e0e0e0);\n",
       "  --background-color: var(--jp-layout-color0, white);\n",
       "  --background-color-row-even: var(--jp-layout-color1, white);\n",
       "  --background-color-row-odd: var(--jp-layout-color2, #eeeeee);\n",
       "}\n",
       "\n",
       "html[theme=\"dark\"],\n",
       "body[data-theme=\"dark\"],\n",
       "body.vscode-dark {\n",
       "  --font-color-primary: rgba(255, 255, 255, 1);\n",
       "  --font-color-secondary: rgba(255, 255, 255, 0.6);\n",
       "  --font-color-accent: rgb(173, 132, 190);\n",
       "  --border-color: #2e2e2e;\n",
       "  --background-color: #111111;\n",
       "  --background-color-row-even: #111111;\n",
       "  --background-color-row-odd: #313131;\n",
       "}\n",
       "\n",
       ".ee {\n",
       "  padding: 1em;\n",
       "  line-height: 1.5em;\n",
       "  min-width: 300px;\n",
       "  max-width: 1200px;\n",
       "  overflow-y: scroll;\n",
       "  max-height: 600px;\n",
       "  border: 1px solid var(--border-color);\n",
       "  font-family: monospace;\n",
       "}\n",
       "\n",
       ".ee li {\n",
       "  list-style-type: none;\n",
       "}\n",
       "\n",
       ".ee ul {\n",
       "  padding-left: 1.5em !important;\n",
       "  margin: 0;\n",
       "}\n",
       "\n",
       ".ee > ul {\n",
       "  padding-left: 0 !important;\n",
       "}\n",
       "\n",
       ".ee-open,\n",
       ".ee-shut {\n",
       "  color: var(--font-color-secondary);\n",
       "  cursor: pointer;\n",
       "  margin: 0;\n",
       "}\n",
       "\n",
       ".ee-open:hover,\n",
       ".ee-shut:hover {\n",
       "  color: var(--font-color-primary);\n",
       "}\n",
       "\n",
       ".ee-k {\n",
       "  color: var(--font-color-accent);\n",
       "  margin-right: 6px;\n",
       "}\n",
       "\n",
       ".ee-v {\n",
       "  color: var(--font-color-primary);\n",
       "}\n",
       "\n",
       ".ee-toggle {\n",
       "  display: none;\n",
       "}\n",
       "\n",
       ".ee-shut + ul {\n",
       "  display: none;\n",
       "}\n",
       "\n",
       ".ee-open + ul {\n",
       "  display: block;\n",
       "}\n",
       "\n",
       ".ee-shut::before {\n",
       "  display: inline-block;\n",
       "  content: \"▼\";\n",
       "  margin-right: 6px;\n",
       "  transform: rotate(-90deg);\n",
       "  transition: transform 0.2s;\n",
       "}\n",
       "\n",
       ".ee-open::before {\n",
       "  transform: rotate(0deg);\n",
       "  display: inline-block;\n",
       "  content: \"▼\";\n",
       "  margin-right: 6px;\n",
       "  transition: transform 0.2s;\n",
       "}\n",
       "</style><div class='ee'><ul><li><label class='ee-shut'>Image (37 bands)<input type='checkbox' class='ee-toggle'></label><ul><li><span class='ee-k'>type:</span><span class='ee-v'>Image</span></li><li><label class='ee-shut'>bands: List (37 elements)<input type='checkbox' class='ee-toggle'></label><ul><li><label class='ee-shut'>0: \"Blue\", double, EPSG:3040<input type='checkbox' class='ee-toggle'></label><ul><li><span class='ee-k'>id:</span><span class='ee-v'>Blue</span></li><li><span class='ee-k'>crs:</span><span class='ee-v'>EPSG:3040</span></li><li><label class='ee-shut'>crs_transform: [10, 0, 0, 0, -10, 0]<input type='checkbox' class='ee-toggle'></label><ul><li><span class='ee-k'>0:</span><span class='ee-v'>10</span></li><li><span class='ee-k'>1:</span><span class='ee-v'>0</span></li><li><span class='ee-k'>2:</span><span class='ee-v'>0</span></li><li><span class='ee-k'>3:</span><span class='ee-v'>0</span></li><li><span class='ee-k'>4:</span><span class='ee-v'>-10</span></li><li><span class='ee-k'>5:</span><span class='ee-v'>0</span></li></ul></li><li><label class='ee-shut'>data_type: double<input type='checkbox' class='ee-toggle'></label><ul><li><span class='ee-k'>type:</span><span class='ee-v'>PixelType</span></li><li><span class='ee-k'>max:</span><span class='ee-v'>65535</span></li><li><span class='ee-k'>min:</span><span class='ee-v'>0</span></li><li><span class='ee-k'>precision:</span><span class='ee-v'>double</span></li></ul></li></ul></li><li><label class='ee-shut'>1: \"Green\", double, EPSG:3040<input type='checkbox' class='ee-toggle'></label><ul><li><span class='ee-k'>id:</span><span class='ee-v'>Green</span></li><li><span class='ee-k'>crs:</span><span class='ee-v'>EPSG:3040</span></li><li><label class='ee-shut'>crs_transform: [10, 0, 0, 0, -10, 0]<input type='checkbox' class='ee-toggle'></label><ul><li><span class='ee-k'>0:</span><span class='ee-v'>10</span></li><li><span class='ee-k'>1:</span><span class='ee-v'>0</span></li><li><span class='ee-k'>2:</span><span class='ee-v'>0</span></li><li><span class='ee-k'>3:</span><span class='ee-v'>0</span></li><li><span class='ee-k'>4:</span><span class='ee-v'>-10</span></li><li><span class='ee-k'>5:</span><span class='ee-v'>0</span></li></ul></li><li><label class='ee-shut'>data_type: double<input type='checkbox' class='ee-toggle'></label><ul><li><span class='ee-k'>type:</span><span class='ee-v'>PixelType</span></li><li><span class='ee-k'>max:</span><span class='ee-v'>65535</span></li><li><span class='ee-k'>min:</span><span class='ee-v'>0</span></li><li><span class='ee-k'>precision:</span><span class='ee-v'>double</span></li></ul></li></ul></li><li><label class='ee-shut'>2: \"Red\", double, EPSG:3040<input type='checkbox' class='ee-toggle'></label><ul><li><span class='ee-k'>id:</span><span class='ee-v'>Red</span></li><li><span class='ee-k'>crs:</span><span class='ee-v'>EPSG:3040</span></li><li><label class='ee-shut'>crs_transform: [10, 0, 0, 0, -10, 0]<input type='checkbox' class='ee-toggle'></label><ul><li><span class='ee-k'>0:</span><span class='ee-v'>10</span></li><li><span class='ee-k'>1:</span><span class='ee-v'>0</span></li><li><span class='ee-k'>2:</span><span class='ee-v'>0</span></li><li><span class='ee-k'>3:</span><span class='ee-v'>0</span></li><li><span class='ee-k'>4:</span><span class='ee-v'>-10</span></li><li><span class='ee-k'>5:</span><span class='ee-v'>0</span></li></ul></li><li><label class='ee-shut'>data_type: double<input type='checkbox' class='ee-toggle'></label><ul><li><span class='ee-k'>type:</span><span class='ee-v'>PixelType</span></li><li><span class='ee-k'>max:</span><span class='ee-v'>65535</span></li><li><span class='ee-k'>min:</span><span class='ee-v'>0</span></li><li><span class='ee-k'>precision:</span><span class='ee-v'>double</span></li></ul></li></ul></li><li><label class='ee-shut'>3: \"REdge1\", double, EPSG:3040<input type='checkbox' class='ee-toggle'></label><ul><li><span class='ee-k'>id:</span><span class='ee-v'>REdge1</span></li><li><span class='ee-k'>crs:</span><span class='ee-v'>EPSG:3040</span></li><li><label class='ee-shut'>crs_transform: [10, 0, 0, 0, -10, 0]<input type='checkbox' class='ee-toggle'></label><ul><li><span class='ee-k'>0:</span><span class='ee-v'>10</span></li><li><span class='ee-k'>1:</span><span class='ee-v'>0</span></li><li><span class='ee-k'>2:</span><span class='ee-v'>0</span></li><li><span class='ee-k'>3:</span><span class='ee-v'>0</span></li><li><span class='ee-k'>4:</span><span class='ee-v'>-10</span></li><li><span class='ee-k'>5:</span><span class='ee-v'>0</span></li></ul></li><li><label class='ee-shut'>data_type: double<input type='checkbox' class='ee-toggle'></label><ul><li><span class='ee-k'>type:</span><span class='ee-v'>PixelType</span></li><li><span class='ee-k'>max:</span><span class='ee-v'>65535</span></li><li><span class='ee-k'>min:</span><span class='ee-v'>0</span></li><li><span class='ee-k'>precision:</span><span class='ee-v'>double</span></li></ul></li></ul></li><li><label class='ee-shut'>4: \"REdge2\", double, EPSG:3040<input type='checkbox' class='ee-toggle'></label><ul><li><span class='ee-k'>id:</span><span class='ee-v'>REdge2</span></li><li><span class='ee-k'>crs:</span><span class='ee-v'>EPSG:3040</span></li><li><label class='ee-shut'>crs_transform: [10, 0, 0, 0, -10, 0]<input type='checkbox' class='ee-toggle'></label><ul><li><span class='ee-k'>0:</span><span class='ee-v'>10</span></li><li><span class='ee-k'>1:</span><span class='ee-v'>0</span></li><li><span class='ee-k'>2:</span><span class='ee-v'>0</span></li><li><span class='ee-k'>3:</span><span class='ee-v'>0</span></li><li><span class='ee-k'>4:</span><span class='ee-v'>-10</span></li><li><span class='ee-k'>5:</span><span class='ee-v'>0</span></li></ul></li><li><label class='ee-shut'>data_type: double<input type='checkbox' class='ee-toggle'></label><ul><li><span class='ee-k'>type:</span><span class='ee-v'>PixelType</span></li><li><span class='ee-k'>max:</span><span class='ee-v'>65535</span></li><li><span class='ee-k'>min:</span><span class='ee-v'>0</span></li><li><span class='ee-k'>precision:</span><span class='ee-v'>double</span></li></ul></li></ul></li><li><label class='ee-shut'>5: \"REdge3\", double, EPSG:3040<input type='checkbox' class='ee-toggle'></label><ul><li><span class='ee-k'>id:</span><span class='ee-v'>REdge3</span></li><li><span class='ee-k'>crs:</span><span class='ee-v'>EPSG:3040</span></li><li><label class='ee-shut'>crs_transform: [10, 0, 0, 0, -10, 0]<input type='checkbox' class='ee-toggle'></label><ul><li><span class='ee-k'>0:</span><span class='ee-v'>10</span></li><li><span class='ee-k'>1:</span><span class='ee-v'>0</span></li><li><span class='ee-k'>2:</span><span class='ee-v'>0</span></li><li><span class='ee-k'>3:</span><span class='ee-v'>0</span></li><li><span class='ee-k'>4:</span><span class='ee-v'>-10</span></li><li><span class='ee-k'>5:</span><span class='ee-v'>0</span></li></ul></li><li><label class='ee-shut'>data_type: double<input type='checkbox' class='ee-toggle'></label><ul><li><span class='ee-k'>type:</span><span class='ee-v'>PixelType</span></li><li><span class='ee-k'>max:</span><span class='ee-v'>65535</span></li><li><span class='ee-k'>min:</span><span class='ee-v'>0</span></li><li><span class='ee-k'>precision:</span><span class='ee-v'>double</span></li></ul></li></ul></li><li><label class='ee-shut'>6: \"NIR\", double, EPSG:3040<input type='checkbox' class='ee-toggle'></label><ul><li><span class='ee-k'>id:</span><span class='ee-v'>NIR</span></li><li><span class='ee-k'>crs:</span><span class='ee-v'>EPSG:3040</span></li><li><label class='ee-shut'>crs_transform: [10, 0, 0, 0, -10, 0]<input type='checkbox' class='ee-toggle'></label><ul><li><span class='ee-k'>0:</span><span class='ee-v'>10</span></li><li><span class='ee-k'>1:</span><span class='ee-v'>0</span></li><li><span class='ee-k'>2:</span><span class='ee-v'>0</span></li><li><span class='ee-k'>3:</span><span class='ee-v'>0</span></li><li><span class='ee-k'>4:</span><span class='ee-v'>-10</span></li><li><span class='ee-k'>5:</span><span class='ee-v'>0</span></li></ul></li><li><label class='ee-shut'>data_type: double<input type='checkbox' class='ee-toggle'></label><ul><li><span class='ee-k'>type:</span><span class='ee-v'>PixelType</span></li><li><span class='ee-k'>max:</span><span class='ee-v'>65535</span></li><li><span class='ee-k'>min:</span><span class='ee-v'>0</span></li><li><span class='ee-k'>precision:</span><span class='ee-v'>double</span></li></ul></li></ul></li><li><label class='ee-shut'>7: \"REdge4\", double, EPSG:3040<input type='checkbox' class='ee-toggle'></label><ul><li><span class='ee-k'>id:</span><span class='ee-v'>REdge4</span></li><li><span class='ee-k'>crs:</span><span class='ee-v'>EPSG:3040</span></li><li><label class='ee-shut'>crs_transform: [10, 0, 0, 0, -10, 0]<input type='checkbox' class='ee-toggle'></label><ul><li><span class='ee-k'>0:</span><span class='ee-v'>10</span></li><li><span class='ee-k'>1:</span><span class='ee-v'>0</span></li><li><span class='ee-k'>2:</span><span class='ee-v'>0</span></li><li><span class='ee-k'>3:</span><span class='ee-v'>0</span></li><li><span class='ee-k'>4:</span><span class='ee-v'>-10</span></li><li><span class='ee-k'>5:</span><span class='ee-v'>0</span></li></ul></li><li><label class='ee-shut'>data_type: double<input type='checkbox' class='ee-toggle'></label><ul><li><span class='ee-k'>type:</span><span class='ee-v'>PixelType</span></li><li><span class='ee-k'>max:</span><span class='ee-v'>65535</span></li><li><span class='ee-k'>min:</span><span class='ee-v'>0</span></li><li><span class='ee-k'>precision:</span><span class='ee-v'>double</span></li></ul></li></ul></li><li><label class='ee-shut'>8: \"SWIR1\", double, EPSG:3040<input type='checkbox' class='ee-toggle'></label><ul><li><span class='ee-k'>id:</span><span class='ee-v'>SWIR1</span></li><li><span class='ee-k'>crs:</span><span class='ee-v'>EPSG:3040</span></li><li><label class='ee-shut'>crs_transform: [10, 0, 0, 0, -10, 0]<input type='checkbox' class='ee-toggle'></label><ul><li><span class='ee-k'>0:</span><span class='ee-v'>10</span></li><li><span class='ee-k'>1:</span><span class='ee-v'>0</span></li><li><span class='ee-k'>2:</span><span class='ee-v'>0</span></li><li><span class='ee-k'>3:</span><span class='ee-v'>0</span></li><li><span class='ee-k'>4:</span><span class='ee-v'>-10</span></li><li><span class='ee-k'>5:</span><span class='ee-v'>0</span></li></ul></li><li><label class='ee-shut'>data_type: double<input type='checkbox' class='ee-toggle'></label><ul><li><span class='ee-k'>type:</span><span class='ee-v'>PixelType</span></li><li><span class='ee-k'>max:</span><span class='ee-v'>65535</span></li><li><span class='ee-k'>min:</span><span class='ee-v'>0</span></li><li><span class='ee-k'>precision:</span><span class='ee-v'>double</span></li></ul></li></ul></li><li><label class='ee-shut'>9: \"SWIR2\", double, EPSG:3040<input type='checkbox' class='ee-toggle'></label><ul><li><span class='ee-k'>id:</span><span class='ee-v'>SWIR2</span></li><li><span class='ee-k'>crs:</span><span class='ee-v'>EPSG:3040</span></li><li><label class='ee-shut'>crs_transform: [10, 0, 0, 0, -10, 0]<input type='checkbox' class='ee-toggle'></label><ul><li><span class='ee-k'>0:</span><span class='ee-v'>10</span></li><li><span class='ee-k'>1:</span><span class='ee-v'>0</span></li><li><span class='ee-k'>2:</span><span class='ee-v'>0</span></li><li><span class='ee-k'>3:</span><span class='ee-v'>0</span></li><li><span class='ee-k'>4:</span><span class='ee-v'>-10</span></li><li><span class='ee-k'>5:</span><span class='ee-v'>0</span></li></ul></li><li><label class='ee-shut'>data_type: double<input type='checkbox' class='ee-toggle'></label><ul><li><span class='ee-k'>type:</span><span class='ee-v'>PixelType</span></li><li><span class='ee-k'>max:</span><span class='ee-v'>65535</span></li><li><span class='ee-k'>min:</span><span class='ee-v'>0</span></li><li><span class='ee-k'>precision:</span><span class='ee-v'>double</span></li></ul></li></ul></li><li><label class='ee-shut'>10: \"NDVI\", float, EPSG:3040<input type='checkbox' class='ee-toggle'></label><ul><li><span class='ee-k'>id:</span><span class='ee-v'>NDVI</span></li><li><span class='ee-k'>crs:</span><span class='ee-v'>EPSG:3040</span></li><li><label class='ee-shut'>crs_transform: [10, 0, 0, 0, -10, 0]<input type='checkbox' class='ee-toggle'></label><ul><li><span class='ee-k'>0:</span><span class='ee-v'>10</span></li><li><span class='ee-k'>1:</span><span class='ee-v'>0</span></li><li><span class='ee-k'>2:</span><span class='ee-v'>0</span></li><li><span class='ee-k'>3:</span><span class='ee-v'>0</span></li><li><span class='ee-k'>4:</span><span class='ee-v'>-10</span></li><li><span class='ee-k'>5:</span><span class='ee-v'>0</span></li></ul></li><li><label class='ee-shut'>data_type: float<input type='checkbox' class='ee-toggle'></label><ul><li><span class='ee-k'>type:</span><span class='ee-v'>PixelType</span></li><li><span class='ee-k'>max:</span><span class='ee-v'>1</span></li><li><span class='ee-k'>min:</span><span class='ee-v'>-1</span></li><li><span class='ee-k'>precision:</span><span class='ee-v'>float</span></li></ul></li></ul></li><li><label class='ee-shut'>11: \"NDWI\", float, EPSG:3040<input type='checkbox' class='ee-toggle'></label><ul><li><span class='ee-k'>id:</span><span class='ee-v'>NDWI</span></li><li><span class='ee-k'>crs:</span><span class='ee-v'>EPSG:3040</span></li><li><label class='ee-shut'>crs_transform: [10, 0, 0, 0, -10, 0]<input type='checkbox' class='ee-toggle'></label><ul><li><span class='ee-k'>0:</span><span class='ee-v'>10</span></li><li><span class='ee-k'>1:</span><span class='ee-v'>0</span></li><li><span class='ee-k'>2:</span><span class='ee-v'>0</span></li><li><span class='ee-k'>3:</span><span class='ee-v'>0</span></li><li><span class='ee-k'>4:</span><span class='ee-v'>-10</span></li><li><span class='ee-k'>5:</span><span class='ee-v'>0</span></li></ul></li><li><label class='ee-shut'>data_type: float<input type='checkbox' class='ee-toggle'></label><ul><li><span class='ee-k'>type:</span><span class='ee-v'>PixelType</span></li><li><span class='ee-k'>max:</span><span class='ee-v'>1</span></li><li><span class='ee-k'>min:</span><span class='ee-v'>-1</span></li><li><span class='ee-k'>precision:</span><span class='ee-v'>float</span></li></ul></li></ul></li><li><label class='ee-shut'>12: \"NDMI\", float, EPSG:3040<input type='checkbox' class='ee-toggle'></label><ul><li><span class='ee-k'>id:</span><span class='ee-v'>NDMI</span></li><li><span class='ee-k'>crs:</span><span class='ee-v'>EPSG:3040</span></li><li><label class='ee-shut'>crs_transform: [10, 0, 0, 0, -10, 0]<input type='checkbox' class='ee-toggle'></label><ul><li><span class='ee-k'>0:</span><span class='ee-v'>10</span></li><li><span class='ee-k'>1:</span><span class='ee-v'>0</span></li><li><span class='ee-k'>2:</span><span class='ee-v'>0</span></li><li><span class='ee-k'>3:</span><span class='ee-v'>0</span></li><li><span class='ee-k'>4:</span><span class='ee-v'>-10</span></li><li><span class='ee-k'>5:</span><span class='ee-v'>0</span></li></ul></li><li><label class='ee-shut'>data_type: float<input type='checkbox' class='ee-toggle'></label><ul><li><span class='ee-k'>type:</span><span class='ee-v'>PixelType</span></li><li><span class='ee-k'>max:</span><span class='ee-v'>1</span></li><li><span class='ee-k'>min:</span><span class='ee-v'>-1</span></li><li><span class='ee-k'>precision:</span><span class='ee-v'>float</span></li></ul></li></ul></li><li><label class='ee-shut'>13: \"Soiltype\", unsigned int16, EPSG:3040<input type='checkbox' class='ee-toggle'></label><ul><li><span class='ee-k'>id:</span><span class='ee-v'>Soiltype</span></li><li><span class='ee-k'>crs:</span><span class='ee-v'>EPSG:3040</span></li><li><label class='ee-shut'>crs_transform: [10, 0, 0, 0, -10, 0]<input type='checkbox' class='ee-toggle'></label><ul><li><span class='ee-k'>0:</span><span class='ee-v'>10</span></li><li><span class='ee-k'>1:</span><span class='ee-v'>0</span></li><li><span class='ee-k'>2:</span><span class='ee-v'>0</span></li><li><span class='ee-k'>3:</span><span class='ee-v'>0</span></li><li><span class='ee-k'>4:</span><span class='ee-v'>-10</span></li><li><span class='ee-k'>5:</span><span class='ee-v'>0</span></li></ul></li><li><label class='ee-shut'>data_type: unsigned int16<input type='checkbox' class='ee-toggle'></label><ul><li><span class='ee-k'>type:</span><span class='ee-v'>PixelType</span></li><li><span class='ee-k'>max:</span><span class='ee-v'>65535</span></li><li><span class='ee-k'>min:</span><span class='ee-v'>0</span></li><li><span class='ee-k'>precision:</span><span class='ee-v'>int</span></li></ul></li></ul></li><li><label class='ee-shut'>14: \"Soilscapes\", signed int32, EPSG:3040<input type='checkbox' class='ee-toggle'></label><ul><li><span class='ee-k'>id:</span><span class='ee-v'>Soilscapes</span></li><li><span class='ee-k'>crs:</span><span class='ee-v'>EPSG:3040</span></li><li><label class='ee-shut'>crs_transform: [10, 0, 0, 0, -10, 0]<input type='checkbox' class='ee-toggle'></label><ul><li><span class='ee-k'>0:</span><span class='ee-v'>10</span></li><li><span class='ee-k'>1:</span><span class='ee-v'>0</span></li><li><span class='ee-k'>2:</span><span class='ee-v'>0</span></li><li><span class='ee-k'>3:</span><span class='ee-v'>0</span></li><li><span class='ee-k'>4:</span><span class='ee-v'>-10</span></li><li><span class='ee-k'>5:</span><span class='ee-v'>0</span></li></ul></li><li><label class='ee-shut'>data_type: signed int32<input type='checkbox' class='ee-toggle'></label><ul><li><span class='ee-k'>type:</span><span class='ee-v'>PixelType</span></li><li><span class='ee-k'>max:</span><span class='ee-v'>2147483647</span></li><li><span class='ee-k'>min:</span><span class='ee-v'>-2147483648</span></li><li><span class='ee-k'>precision:</span><span class='ee-v'>int</span></li></ul></li></ul></li><li><label class='ee-shut'>15: \"AV_STK_150\", float, EPSG:3040<input type='checkbox' class='ee-toggle'></label><ul><li><span class='ee-k'>id:</span><span class='ee-v'>AV_STK_150</span></li><li><span class='ee-k'>crs:</span><span class='ee-v'>EPSG:3040</span></li><li><label class='ee-shut'>crs_transform: [10, 0, 0, 0, -10, 0]<input type='checkbox' class='ee-toggle'></label><ul><li><span class='ee-k'>0:</span><span class='ee-v'>10</span></li><li><span class='ee-k'>1:</span><span class='ee-v'>0</span></li><li><span class='ee-k'>2:</span><span class='ee-v'>0</span></li><li><span class='ee-k'>3:</span><span class='ee-v'>0</span></li><li><span class='ee-k'>4:</span><span class='ee-v'>-10</span></li><li><span class='ee-k'>5:</span><span class='ee-v'>0</span></li></ul></li><li><label class='ee-shut'>data_type: float<input type='checkbox' class='ee-toggle'></label><ul><li><span class='ee-k'>type:</span><span class='ee-v'>PixelType</span></li><li><span class='ee-k'>precision:</span><span class='ee-v'>float</span></li></ul></li></ul></li><li><label class='ee-shut'>16: \"AV_STK_30\", float, EPSG:3040<input type='checkbox' class='ee-toggle'></label><ul><li><span class='ee-k'>id:</span><span class='ee-v'>AV_STK_30</span></li><li><span class='ee-k'>crs:</span><span class='ee-v'>EPSG:3040</span></li><li><label class='ee-shut'>crs_transform: [10, 0, 0, 0, -10, 0]<input type='checkbox' class='ee-toggle'></label><ul><li><span class='ee-k'>0:</span><span class='ee-v'>10</span></li><li><span class='ee-k'>1:</span><span class='ee-v'>0</span></li><li><span class='ee-k'>2:</span><span class='ee-v'>0</span></li><li><span class='ee-k'>3:</span><span class='ee-v'>0</span></li><li><span class='ee-k'>4:</span><span class='ee-v'>-10</span></li><li><span class='ee-k'>5:</span><span class='ee-v'>0</span></li></ul></li><li><label class='ee-shut'>data_type: float<input type='checkbox' class='ee-toggle'></label><ul><li><span class='ee-k'>type:</span><span class='ee-v'>PixelType</span></li><li><span class='ee-k'>precision:</span><span class='ee-v'>float</span></li></ul></li></ul></li><li><label class='ee-shut'>17: \"AV_STK_100\", float, EPSG:3040<input type='checkbox' class='ee-toggle'></label><ul><li><span class='ee-k'>id:</span><span class='ee-v'>AV_STK_100</span></li><li><span class='ee-k'>crs:</span><span class='ee-v'>EPSG:3040</span></li><li><label class='ee-shut'>crs_transform: [10, 0, 0, 0, -10, 0]<input type='checkbox' class='ee-toggle'></label><ul><li><span class='ee-k'>0:</span><span class='ee-v'>10</span></li><li><span class='ee-k'>1:</span><span class='ee-v'>0</span></li><li><span class='ee-k'>2:</span><span class='ee-v'>0</span></li><li><span class='ee-k'>3:</span><span class='ee-v'>0</span></li><li><span class='ee-k'>4:</span><span class='ee-v'>-10</span></li><li><span class='ee-k'>5:</span><span class='ee-v'>0</span></li></ul></li><li><label class='ee-shut'>data_type: float<input type='checkbox' class='ee-toggle'></label><ul><li><span class='ee-k'>type:</span><span class='ee-v'>PixelType</span></li><li><span class='ee-k'>precision:</span><span class='ee-v'>float</span></li></ul></li></ul></li><li><label class='ee-shut'>18: \"Sen1_VV\", double, EPSG:3040<input type='checkbox' class='ee-toggle'></label><ul><li><span class='ee-k'>id:</span><span class='ee-v'>Sen1_VV</span></li><li><span class='ee-k'>crs:</span><span class='ee-v'>EPSG:3040</span></li><li><label class='ee-shut'>crs_transform: [10, 0, 0, 0, -10, 0]<input type='checkbox' class='ee-toggle'></label><ul><li><span class='ee-k'>0:</span><span class='ee-v'>10</span></li><li><span class='ee-k'>1:</span><span class='ee-v'>0</span></li><li><span class='ee-k'>2:</span><span class='ee-v'>0</span></li><li><span class='ee-k'>3:</span><span class='ee-v'>0</span></li><li><span class='ee-k'>4:</span><span class='ee-v'>-10</span></li><li><span class='ee-k'>5:</span><span class='ee-v'>0</span></li></ul></li><li><label class='ee-shut'>data_type: double<input type='checkbox' class='ee-toggle'></label><ul><li><span class='ee-k'>type:</span><span class='ee-v'>PixelType</span></li><li><span class='ee-k'>precision:</span><span class='ee-v'>double</span></li></ul></li></ul></li><li><label class='ee-shut'>19: \"Sen1_VH\", double, EPSG:3040<input type='checkbox' class='ee-toggle'></label><ul><li><span class='ee-k'>id:</span><span class='ee-v'>Sen1_VH</span></li><li><span class='ee-k'>crs:</span><span class='ee-v'>EPSG:3040</span></li><li><label class='ee-shut'>crs_transform: [10, 0, 0, 0, -10, 0]<input type='checkbox' class='ee-toggle'></label><ul><li><span class='ee-k'>0:</span><span class='ee-v'>10</span></li><li><span class='ee-k'>1:</span><span class='ee-v'>0</span></li><li><span class='ee-k'>2:</span><span class='ee-v'>0</span></li><li><span class='ee-k'>3:</span><span class='ee-v'>0</span></li><li><span class='ee-k'>4:</span><span class='ee-v'>-10</span></li><li><span class='ee-k'>5:</span><span class='ee-v'>0</span></li></ul></li><li><label class='ee-shut'>data_type: double<input type='checkbox' class='ee-toggle'></label><ul><li><span class='ee-k'>type:</span><span class='ee-v'>PixelType</span></li><li><span class='ee-k'>precision:</span><span class='ee-v'>double</span></li></ul></li></ul></li><li><label class='ee-shut'>20: \"Sen1_Index1\", double, EPSG:3040<input type='checkbox' class='ee-toggle'></label><ul><li><span class='ee-k'>id:</span><span class='ee-v'>Sen1_Index1</span></li><li><span class='ee-k'>crs:</span><span class='ee-v'>EPSG:3040</span></li><li><label class='ee-shut'>crs_transform: [10, 0, 0, 0, -10, 0]<input type='checkbox' class='ee-toggle'></label><ul><li><span class='ee-k'>0:</span><span class='ee-v'>10</span></li><li><span class='ee-k'>1:</span><span class='ee-v'>0</span></li><li><span class='ee-k'>2:</span><span class='ee-v'>0</span></li><li><span class='ee-k'>3:</span><span class='ee-v'>0</span></li><li><span class='ee-k'>4:</span><span class='ee-v'>-10</span></li><li><span class='ee-k'>5:</span><span class='ee-v'>0</span></li></ul></li><li><label class='ee-shut'>data_type: double<input type='checkbox' class='ee-toggle'></label><ul><li><span class='ee-k'>type:</span><span class='ee-v'>PixelType</span></li><li><span class='ee-k'>precision:</span><span class='ee-v'>double</span></li></ul></li></ul></li><li><label class='ee-shut'>21: \"Sen1_Index2\", double, EPSG:3040<input type='checkbox' class='ee-toggle'></label><ul><li><span class='ee-k'>id:</span><span class='ee-v'>Sen1_Index2</span></li><li><span class='ee-k'>crs:</span><span class='ee-v'>EPSG:3040</span></li><li><label class='ee-shut'>crs_transform: [10, 0, 0, 0, -10, 0]<input type='checkbox' class='ee-toggle'></label><ul><li><span class='ee-k'>0:</span><span class='ee-v'>10</span></li><li><span class='ee-k'>1:</span><span class='ee-v'>0</span></li><li><span class='ee-k'>2:</span><span class='ee-v'>0</span></li><li><span class='ee-k'>3:</span><span class='ee-v'>0</span></li><li><span class='ee-k'>4:</span><span class='ee-v'>-10</span></li><li><span class='ee-k'>5:</span><span class='ee-v'>0</span></li></ul></li><li><label class='ee-shut'>data_type: double<input type='checkbox' class='ee-toggle'></label><ul><li><span class='ee-k'>type:</span><span class='ee-v'>PixelType</span></li><li><span class='ee-k'>precision:</span><span class='ee-v'>double</span></li></ul></li></ul></li><li><label class='ee-shut'>22: \"Sen1_Index3\", double, EPSG:3040<input type='checkbox' class='ee-toggle'></label><ul><li><span class='ee-k'>id:</span><span class='ee-v'>Sen1_Index3</span></li><li><span class='ee-k'>crs:</span><span class='ee-v'>EPSG:3040</span></li><li><label class='ee-shut'>crs_transform: [10, 0, 0, 0, -10, 0]<input type='checkbox' class='ee-toggle'></label><ul><li><span class='ee-k'>0:</span><span class='ee-v'>10</span></li><li><span class='ee-k'>1:</span><span class='ee-v'>0</span></li><li><span class='ee-k'>2:</span><span class='ee-v'>0</span></li><li><span class='ee-k'>3:</span><span class='ee-v'>0</span></li><li><span class='ee-k'>4:</span><span class='ee-v'>-10</span></li><li><span class='ee-k'>5:</span><span class='ee-v'>0</span></li></ul></li><li><label class='ee-shut'>data_type: double<input type='checkbox' class='ee-toggle'></label><ul><li><span class='ee-k'>type:</span><span class='ee-v'>PixelType</span></li><li><span class='ee-k'>precision:</span><span class='ee-v'>double</span></li></ul></li></ul></li><li><label class='ee-shut'>23: \"PALSAR_HH\", unsigned int16, EPSG:3040<input type='checkbox' class='ee-toggle'></label><ul><li><span class='ee-k'>id:</span><span class='ee-v'>PALSAR_HH</span></li><li><span class='ee-k'>crs:</span><span class='ee-v'>EPSG:3040</span></li><li><label class='ee-shut'>crs_transform: [10, 0, 0, 0, -10, 0]<input type='checkbox' class='ee-toggle'></label><ul><li><span class='ee-k'>0:</span><span class='ee-v'>10</span></li><li><span class='ee-k'>1:</span><span class='ee-v'>0</span></li><li><span class='ee-k'>2:</span><span class='ee-v'>0</span></li><li><span class='ee-k'>3:</span><span class='ee-v'>0</span></li><li><span class='ee-k'>4:</span><span class='ee-v'>-10</span></li><li><span class='ee-k'>5:</span><span class='ee-v'>0</span></li></ul></li><li><label class='ee-shut'>data_type: unsigned int16<input type='checkbox' class='ee-toggle'></label><ul><li><span class='ee-k'>type:</span><span class='ee-v'>PixelType</span></li><li><span class='ee-k'>max:</span><span class='ee-v'>65535</span></li><li><span class='ee-k'>min:</span><span class='ee-v'>0</span></li><li><span class='ee-k'>precision:</span><span class='ee-v'>int</span></li></ul></li></ul></li><li><label class='ee-shut'>24: \"PALSAR_HV\", unsigned int16, EPSG:3040<input type='checkbox' class='ee-toggle'></label><ul><li><span class='ee-k'>id:</span><span class='ee-v'>PALSAR_HV</span></li><li><span class='ee-k'>crs:</span><span class='ee-v'>EPSG:3040</span></li><li><label class='ee-shut'>crs_transform: [10, 0, 0, 0, -10, 0]<input type='checkbox' class='ee-toggle'></label><ul><li><span class='ee-k'>0:</span><span class='ee-v'>10</span></li><li><span class='ee-k'>1:</span><span class='ee-v'>0</span></li><li><span class='ee-k'>2:</span><span class='ee-v'>0</span></li><li><span class='ee-k'>3:</span><span class='ee-v'>0</span></li><li><span class='ee-k'>4:</span><span class='ee-v'>-10</span></li><li><span class='ee-k'>5:</span><span class='ee-v'>0</span></li></ul></li><li><label class='ee-shut'>data_type: unsigned int16<input type='checkbox' class='ee-toggle'></label><ul><li><span class='ee-k'>type:</span><span class='ee-v'>PixelType</span></li><li><span class='ee-k'>max:</span><span class='ee-v'>65535</span></li><li><span class='ee-k'>min:</span><span class='ee-v'>0</span></li><li><span class='ee-k'>precision:</span><span class='ee-v'>int</span></li></ul></li></ul></li><li><label class='ee-shut'>25: \"PALSAR_Index1\", float, EPSG:3040<input type='checkbox' class='ee-toggle'></label><ul><li><span class='ee-k'>id:</span><span class='ee-v'>PALSAR_Index1</span></li><li><span class='ee-k'>crs:</span><span class='ee-v'>EPSG:3040</span></li><li><label class='ee-shut'>crs_transform: [10, 0, 0, 0, -10, 0]<input type='checkbox' class='ee-toggle'></label><ul><li><span class='ee-k'>0:</span><span class='ee-v'>10</span></li><li><span class='ee-k'>1:</span><span class='ee-v'>0</span></li><li><span class='ee-k'>2:</span><span class='ee-v'>0</span></li><li><span class='ee-k'>3:</span><span class='ee-v'>0</span></li><li><span class='ee-k'>4:</span><span class='ee-v'>-10</span></li><li><span class='ee-k'>5:</span><span class='ee-v'>0</span></li></ul></li><li><label class='ee-shut'>data_type: float<input type='checkbox' class='ee-toggle'></label><ul><li><span class='ee-k'>type:</span><span class='ee-v'>PixelType</span></li><li><span class='ee-k'>precision:</span><span class='ee-v'>float</span></li></ul></li></ul></li><li><label class='ee-shut'>26: \"PALSAR_Index2\", float, EPSG:3040<input type='checkbox' class='ee-toggle'></label><ul><li><span class='ee-k'>id:</span><span class='ee-v'>PALSAR_Index2</span></li><li><span class='ee-k'>crs:</span><span class='ee-v'>EPSG:3040</span></li><li><label class='ee-shut'>crs_transform: [10, 0, 0, 0, -10, 0]<input type='checkbox' class='ee-toggle'></label><ul><li><span class='ee-k'>0:</span><span class='ee-v'>10</span></li><li><span class='ee-k'>1:</span><span class='ee-v'>0</span></li><li><span class='ee-k'>2:</span><span class='ee-v'>0</span></li><li><span class='ee-k'>3:</span><span class='ee-v'>0</span></li><li><span class='ee-k'>4:</span><span class='ee-v'>-10</span></li><li><span class='ee-k'>5:</span><span class='ee-v'>0</span></li></ul></li><li><label class='ee-shut'>data_type: float<input type='checkbox' class='ee-toggle'></label><ul><li><span class='ee-k'>type:</span><span class='ee-v'>PixelType</span></li><li><span class='ee-k'>max:</span><span class='ee-v'>65535</span></li><li><span class='ee-k'>min:</span><span class='ee-v'>0</span></li><li><span class='ee-k'>precision:</span><span class='ee-v'>float</span></li></ul></li></ul></li><li><label class='ee-shut'>27: \"PALSAR_Index3\", int ∈ [-65535, 65535], EPSG:3040<input type='checkbox' class='ee-toggle'></label><ul><li><span class='ee-k'>id:</span><span class='ee-v'>PALSAR_Index3</span></li><li><span class='ee-k'>crs:</span><span class='ee-v'>EPSG:3040</span></li><li><label class='ee-shut'>crs_transform: [10, 0, 0, 0, -10, 0]<input type='checkbox' class='ee-toggle'></label><ul><li><span class='ee-k'>0:</span><span class='ee-v'>10</span></li><li><span class='ee-k'>1:</span><span class='ee-v'>0</span></li><li><span class='ee-k'>2:</span><span class='ee-v'>0</span></li><li><span class='ee-k'>3:</span><span class='ee-v'>0</span></li><li><span class='ee-k'>4:</span><span class='ee-v'>-10</span></li><li><span class='ee-k'>5:</span><span class='ee-v'>0</span></li></ul></li><li><label class='ee-shut'>data_type: int ∈ [-65535, 65535]<input type='checkbox' class='ee-toggle'></label><ul><li><span class='ee-k'>type:</span><span class='ee-v'>PixelType</span></li><li><span class='ee-k'>max:</span><span class='ee-v'>65535</span></li><li><span class='ee-k'>min:</span><span class='ee-v'>-65535</span></li><li><span class='ee-k'>precision:</span><span class='ee-v'>int</span></li></ul></li></ul></li><li><label class='ee-shut'>28: \"d2_River\", float, EPSG:3040<input type='checkbox' class='ee-toggle'></label><ul><li><span class='ee-k'>id:</span><span class='ee-v'>d2_River</span></li><li><span class='ee-k'>crs:</span><span class='ee-v'>EPSG:3040</span></li><li><label class='ee-shut'>crs_transform: [10, 0, 0, 0, -10, 0]<input type='checkbox' class='ee-toggle'></label><ul><li><span class='ee-k'>0:</span><span class='ee-v'>10</span></li><li><span class='ee-k'>1:</span><span class='ee-v'>0</span></li><li><span class='ee-k'>2:</span><span class='ee-v'>0</span></li><li><span class='ee-k'>3:</span><span class='ee-v'>0</span></li><li><span class='ee-k'>4:</span><span class='ee-v'>-10</span></li><li><span class='ee-k'>5:</span><span class='ee-v'>0</span></li></ul></li><li><label class='ee-shut'>data_type: float<input type='checkbox' class='ee-toggle'></label><ul><li><span class='ee-k'>type:</span><span class='ee-v'>PixelType</span></li><li><span class='ee-k'>precision:</span><span class='ee-v'>float</span></li></ul></li></ul></li><li><label class='ee-shut'>29: \"d2_Watercourse\", float, EPSG:3040<input type='checkbox' class='ee-toggle'></label><ul><li><span class='ee-k'>id:</span><span class='ee-v'>d2_Watercourse</span></li><li><span class='ee-k'>crs:</span><span class='ee-v'>EPSG:3040</span></li><li><label class='ee-shut'>crs_transform: [10, 0, 0, 0, -10, 0]<input type='checkbox' class='ee-toggle'></label><ul><li><span class='ee-k'>0:</span><span class='ee-v'>10</span></li><li><span class='ee-k'>1:</span><span class='ee-v'>0</span></li><li><span class='ee-k'>2:</span><span class='ee-v'>0</span></li><li><span class='ee-k'>3:</span><span class='ee-v'>0</span></li><li><span class='ee-k'>4:</span><span class='ee-v'>-10</span></li><li><span class='ee-k'>5:</span><span class='ee-v'>0</span></li></ul></li><li><label class='ee-shut'>data_type: float<input type='checkbox' class='ee-toggle'></label><ul><li><span class='ee-k'>type:</span><span class='ee-v'>PixelType</span></li><li><span class='ee-k'>precision:</span><span class='ee-v'>float</span></li></ul></li></ul></li><li><label class='ee-shut'>30: \"Landcover\", unsigned int8, EPSG:3040<input type='checkbox' class='ee-toggle'></label><ul><li><span class='ee-k'>id:</span><span class='ee-v'>Landcover</span></li><li><span class='ee-k'>crs:</span><span class='ee-v'>EPSG:3040</span></li><li><label class='ee-shut'>crs_transform: [10, 0, 0, 0, -10, 0]<input type='checkbox' class='ee-toggle'></label><ul><li><span class='ee-k'>0:</span><span class='ee-v'>10</span></li><li><span class='ee-k'>1:</span><span class='ee-v'>0</span></li><li><span class='ee-k'>2:</span><span class='ee-v'>0</span></li><li><span class='ee-k'>3:</span><span class='ee-v'>0</span></li><li><span class='ee-k'>4:</span><span class='ee-v'>-10</span></li><li><span class='ee-k'>5:</span><span class='ee-v'>0</span></li></ul></li><li><label class='ee-shut'>data_type: unsigned int8<input type='checkbox' class='ee-toggle'></label><ul><li><span class='ee-k'>type:</span><span class='ee-v'>PixelType</span></li><li><span class='ee-k'>max:</span><span class='ee-v'>255</span></li><li><span class='ee-k'>min:</span><span class='ee-v'>0</span></li><li><span class='ee-k'>precision:</span><span class='ee-v'>int</span></li></ul></li></ul></li><li><label class='ee-shut'>31: \"Landcover_conf\", unsigned int8, EPSG:3040<input type='checkbox' class='ee-toggle'></label><ul><li><span class='ee-k'>id:</span><span class='ee-v'>Landcover_conf</span></li><li><span class='ee-k'>crs:</span><span class='ee-v'>EPSG:3040</span></li><li><label class='ee-shut'>crs_transform: [10, 0, 0, 0, -10, 0]<input type='checkbox' class='ee-toggle'></label><ul><li><span class='ee-k'>0:</span><span class='ee-v'>10</span></li><li><span class='ee-k'>1:</span><span class='ee-v'>0</span></li><li><span class='ee-k'>2:</span><span class='ee-v'>0</span></li><li><span class='ee-k'>3:</span><span class='ee-v'>0</span></li><li><span class='ee-k'>4:</span><span class='ee-v'>-10</span></li><li><span class='ee-k'>5:</span><span class='ee-v'>0</span></li></ul></li><li><label class='ee-shut'>data_type: unsigned int8<input type='checkbox' class='ee-toggle'></label><ul><li><span class='ee-k'>type:</span><span class='ee-v'>PixelType</span></li><li><span class='ee-k'>max:</span><span class='ee-v'>255</span></li><li><span class='ee-k'>min:</span><span class='ee-v'>0</span></li><li><span class='ee-k'>precision:</span><span class='ee-v'>int</span></li></ul></li></ul></li><li><label class='ee-shut'>32: \"CROPTYPE\", float, EPSG:3040<input type='checkbox' class='ee-toggle'></label><ul><li><span class='ee-k'>id:</span><span class='ee-v'>CROPTYPE</span></li><li><span class='ee-k'>crs:</span><span class='ee-v'>EPSG:3040</span></li><li><label class='ee-shut'>crs_transform: [10, 0, 0, 0, -10, 0]<input type='checkbox' class='ee-toggle'></label><ul><li><span class='ee-k'>0:</span><span class='ee-v'>10</span></li><li><span class='ee-k'>1:</span><span class='ee-v'>0</span></li><li><span class='ee-k'>2:</span><span class='ee-v'>0</span></li><li><span class='ee-k'>3:</span><span class='ee-v'>0</span></li><li><span class='ee-k'>4:</span><span class='ee-v'>-10</span></li><li><span class='ee-k'>5:</span><span class='ee-v'>0</span></li></ul></li><li><label class='ee-shut'>data_type: float<input type='checkbox' class='ee-toggle'></label><ul><li><span class='ee-k'>type:</span><span class='ee-v'>PixelType</span></li><li><span class='ee-k'>precision:</span><span class='ee-v'>float</span></li></ul></li></ul></li><li><label class='ee-shut'>33: \"Elevation\", float, EPSG:3040<input type='checkbox' class='ee-toggle'></label><ul><li><span class='ee-k'>id:</span><span class='ee-v'>Elevation</span></li><li><span class='ee-k'>crs:</span><span class='ee-v'>EPSG:3040</span></li><li><label class='ee-shut'>crs_transform: [10, 0, 0, 0, -10, 0]<input type='checkbox' class='ee-toggle'></label><ul><li><span class='ee-k'>0:</span><span class='ee-v'>10</span></li><li><span class='ee-k'>1:</span><span class='ee-v'>0</span></li><li><span class='ee-k'>2:</span><span class='ee-v'>0</span></li><li><span class='ee-k'>3:</span><span class='ee-v'>0</span></li><li><span class='ee-k'>4:</span><span class='ee-v'>-10</span></li><li><span class='ee-k'>5:</span><span class='ee-v'>0</span></li></ul></li><li><label class='ee-shut'>data_type: float<input type='checkbox' class='ee-toggle'></label><ul><li><span class='ee-k'>type:</span><span class='ee-v'>PixelType</span></li><li><span class='ee-k'>precision:</span><span class='ee-v'>float</span></li></ul></li></ul></li><li><label class='ee-shut'>34: \"MRRTF\", float, EPSG:3040<input type='checkbox' class='ee-toggle'></label><ul><li><span class='ee-k'>id:</span><span class='ee-v'>MRRTF</span></li><li><span class='ee-k'>crs:</span><span class='ee-v'>EPSG:3040</span></li><li><label class='ee-shut'>crs_transform: [10, 0, 0, 0, -10, 0]<input type='checkbox' class='ee-toggle'></label><ul><li><span class='ee-k'>0:</span><span class='ee-v'>10</span></li><li><span class='ee-k'>1:</span><span class='ee-v'>0</span></li><li><span class='ee-k'>2:</span><span class='ee-v'>0</span></li><li><span class='ee-k'>3:</span><span class='ee-v'>0</span></li><li><span class='ee-k'>4:</span><span class='ee-v'>-10</span></li><li><span class='ee-k'>5:</span><span class='ee-v'>0</span></li></ul></li><li><label class='ee-shut'>data_type: float<input type='checkbox' class='ee-toggle'></label><ul><li><span class='ee-k'>type:</span><span class='ee-v'>PixelType</span></li><li><span class='ee-k'>precision:</span><span class='ee-v'>float</span></li></ul></li></ul></li><li><label class='ee-shut'>35: \"MRVBF\", float, EPSG:3040<input type='checkbox' class='ee-toggle'></label><ul><li><span class='ee-k'>id:</span><span class='ee-v'>MRVBF</span></li><li><span class='ee-k'>crs:</span><span class='ee-v'>EPSG:3040</span></li><li><label class='ee-shut'>crs_transform: [10, 0, 0, 0, -10, 0]<input type='checkbox' class='ee-toggle'></label><ul><li><span class='ee-k'>0:</span><span class='ee-v'>10</span></li><li><span class='ee-k'>1:</span><span class='ee-v'>0</span></li><li><span class='ee-k'>2:</span><span class='ee-v'>0</span></li><li><span class='ee-k'>3:</span><span class='ee-v'>0</span></li><li><span class='ee-k'>4:</span><span class='ee-v'>-10</span></li><li><span class='ee-k'>5:</span><span class='ee-v'>0</span></li></ul></li><li><label class='ee-shut'>data_type: float<input type='checkbox' class='ee-toggle'></label><ul><li><span class='ee-k'>type:</span><span class='ee-v'>PixelType</span></li><li><span class='ee-k'>precision:</span><span class='ee-v'>float</span></li></ul></li></ul></li><li><label class='ee-shut'>36: \"TWI\", float, EPSG:3040<input type='checkbox' class='ee-toggle'></label><ul><li><span class='ee-k'>id:</span><span class='ee-v'>TWI</span></li><li><span class='ee-k'>crs:</span><span class='ee-v'>EPSG:3040</span></li><li><label class='ee-shut'>crs_transform: [10, 0, 0, 0, -10, 0]<input type='checkbox' class='ee-toggle'></label><ul><li><span class='ee-k'>0:</span><span class='ee-v'>10</span></li><li><span class='ee-k'>1:</span><span class='ee-v'>0</span></li><li><span class='ee-k'>2:</span><span class='ee-v'>0</span></li><li><span class='ee-k'>3:</span><span class='ee-v'>0</span></li><li><span class='ee-k'>4:</span><span class='ee-v'>-10</span></li><li><span class='ee-k'>5:</span><span class='ee-v'>0</span></li></ul></li><li><label class='ee-shut'>data_type: float<input type='checkbox' class='ee-toggle'></label><ul><li><span class='ee-k'>type:</span><span class='ee-v'>PixelType</span></li><li><span class='ee-k'>precision:</span><span class='ee-v'>float</span></li></ul></li></ul></li></ul></li></ul></li></ul></div><script>function toggleHeader() {\n",
       "    const parent = this.parentElement;\n",
       "    parent.className = parent.className === \"ee-open\" ? \"ee-shut\" : \"ee-open\";\n",
       "}\n",
       "\n",
       "for (let c of document.getElementsByClassName(\"ee-toggle\")) {\n",
       "    c.onclick = toggleHeader;\n",
       "}</script></div>"
      ],
      "text/plain": [
       "<ee.image.Image at 0x7fcce1e64c70>"
      ]
     },
     "execution_count": 203,
     "metadata": {},
     "output_type": "execute_result"
    }
   ],
   "source": [
    "# print the result\n",
    "predictor_stack"
   ]
  },
  {
   "cell_type": "markdown",
   "id": "857e4e3c",
   "metadata": {},
   "source": [
    "# Random Forest Regression"
   ]
  },
  {
   "cell_type": "markdown",
   "id": "26a43228",
   "metadata": {},
   "source": [
    "We need a feature collection containing the predictor data for each of the training depth locations. This means we need to:\n",
    "1. Sample the bands at the ground-truth points\n",
    "2. Inner join the GT data and predictor data using their geometries\n",
    "3. Split the data into 90%-10% split\n",
    "4. Feed this feature collection into the classifier model (regression mode)\n",
    "5. Test the accuracy of the classifier \n",
    "6. Apply the classifier to the whole of the Fens area"
   ]
  },
  {
   "cell_type": "markdown",
   "id": "8d198e28",
   "metadata": {},
   "source": [
    "### 1. Sampling"
   ]
  },
  {
   "cell_type": "code",
   "execution_count": 204,
   "id": "6f7cce5a",
   "metadata": {},
   "outputs": [],
   "source": [
    "# sample the Sentinel data at each of the GT points\n",
    "pred_samples = predictor_stack.sample(depths.geometry(), scale=10, geometries=True) "
   ]
  },
  {
   "cell_type": "markdown",
   "id": "99fc48ab",
   "metadata": {},
   "source": [
    "### 2. Inner Join (and buffering)"
   ]
  },
  {
   "cell_type": "code",
   "execution_count": 205,
   "id": "b865b29e",
   "metadata": {},
   "outputs": [],
   "source": [
    "# define an algorithm to be applied to each predictor sample: we want to buffer the geometry assigned to each sample\n",
    "# by 10m, since the current geometry is approximate i.e. does not match the GT points used to guide sampler exactly\n",
    "def bufferPoints(currentFeature, pastFeatureList):\n",
    "    return ee.List(pastFeatureList).add(currentFeature.buffer(10))\n",
    "\n",
    "# apply the algorithm to each sample in our collection and store the result in a list\n",
    "pred_samples = pred_samples.iterate(bufferPoints, ee.List([]))\n",
    "\n",
    "# convert this list back into a FeatureCollection\n",
    "pred_samples = ee.FeatureCollection(pred_samples.getInfo())"
   ]
  },
  {
   "cell_type": "code",
   "execution_count": 206,
   "id": "2bcd82d9",
   "metadata": {},
   "outputs": [
    {
     "data": {
      "application/vnd.jupyter.widget-view+json": {
       "model_id": "59a72c9ba07f4cbc8cbbf8c24b485fda",
       "version_major": 2,
       "version_minor": 0
      },
      "text/plain": [
       "Map(center=[52.70465287691509, 0.062270855934294995], controls=(WidgetControl(options=['position', 'transparen…"
      ]
     },
     "metadata": {},
     "output_type": "display_data"
    }
   ],
   "source": [
    "# Visualise the process completed\n",
    "Map = geemap.Map()\n",
    "Map.centerObject(fenOutline, 8)\n",
    "Map.addLayer(pred_samples, {}, 'Sentinel buffers')\n",
    "Map"
   ]
  },
  {
   "cell_type": "code",
   "execution_count": 207,
   "id": "7cc8f8a9",
   "metadata": {},
   "outputs": [],
   "source": [
    "# Setup the inner join operation between the Sentinel and GT datasets\n",
    "\n",
    "# make a filter object that assesses intersections of objects. '.geo' specifies that for the 1st (left) and 2nd (right)\n",
    "# objects being considered we want to apply the filter to the geometry fields of each feature instead of a property\n",
    "intersectFilter = ee.Filter.intersects(leftField='.geo', rightField='.geo')\n",
    "\n",
    "# define an inner join operation\n",
    "IJ_operation = ee.Join.inner('predictor_data', 'depth_data')\n",
    "\n",
    "# apply the join\n",
    "combinedDS = IJ_operation.apply(pred_samples, depths, intersectFilter)\n"
   ]
  },
  {
   "cell_type": "code",
   "execution_count": 208,
   "id": "a769022e",
   "metadata": {},
   "outputs": [],
   "source": [
    "# The result has a complex nested structure that isn't useful for the operations we want. Thus, re-define a new dataset\n",
    "# with the same information but an improved structure \n",
    "def extract_depths(feature): \n",
    "    return feature.get('depth_data')\n",
    "\n",
    "def extract_predictors(feature): \n",
    "    return feature.get('predictor_data')\n",
    "\n",
    "# get information associated with the depth subcollection\n",
    "depth_collection = combinedDS.map(extract_depths)\n",
    "\n",
    "# get information associated with the predictor subcollection\n",
    "predictor_collection = combinedDS.map(extract_predictors)\n"
   ]
  },
  {
   "cell_type": "code",
   "execution_count": 216,
   "id": "11b4c4b3",
   "metadata": {},
   "outputs": [],
   "source": [
    "# get the relevant information from the depth dataset subcollection\n",
    "geometries = depth_collection.geometry().getInfo()['coordinates']\n",
    "thicknesses = depth_collection.aggregate_array('Thickness').getInfo()\n",
    "\n",
    "# now deal with the predictor collection\n",
    "predictor_names = predictor_collection.first().propertyNames().getInfo()\n",
    "predictor_names.remove('system:index')\n",
    "\n",
    "# make a list of lists of each predictor's values\n",
    "predictor_values = []\n",
    "for bandName in predictor_names:\n",
    "    predictor_values.append(predictor_collection.aggregate_array(bandName).getInfo())"
   ]
  },
  {
   "cell_type": "code",
   "execution_count": 217,
   "id": "f71ba2ac",
   "metadata": {},
   "outputs": [],
   "source": [
    "# make a new feature collection that stores this information efficiently\n",
    "data = []\n",
    "for sample_idx, coords in enumerate(geometries):\n",
    "    \n",
    "    # get the depth of the sample of interest\n",
    "    sample_data = {'depth': thicknesses[sample_idx]}\n",
    "    \n",
    "    # get the predictor values at this sample\n",
    "    for pred_idx, predictor_name in enumerate(predictor_names):\n",
    "        sample_data[predictor_name] = predictor_values[pred_idx][sample_idx]\n",
    "        \n",
    "    # store the geometry and values of the sample\n",
    "    feature = ee.Feature(ee.Geometry.Point(coords), sample_data)\n",
    "    data.append(feature)\n",
    "    \n",
    "# finally convert the data into a feature collection    \n",
    "dataset = ee.FeatureCollection(data)"
   ]
  },
  {
   "cell_type": "code",
   "execution_count": 218,
   "id": "c8ea2bd4",
   "metadata": {},
   "outputs": [
    {
     "name": "stdout",
     "output_type": "stream",
     "text": [
      "Generating URL ...\n",
      "Downloading data from https://earthengine.googleapis.com/v1alpha/projects/earthengine-legacy/tables/6e1b2a59a0a15754f116df759bb396df-121eccdcc1b54a8b6530dbc0138935b0:getFeatures\n",
      "Please wait ...\n",
      "Data downloaded to /Users/hamishcampbell/Documents/Cambridge/PhD/1st Year/Code/depth-mapping/notebooks/depth_dataset.csv\n"
     ]
    }
   ],
   "source": [
    "# save the predictor/label dataset locally as a csv\n",
    "geemap.ee_to_csv(dataset, filename='depth_dataset.csv')"
   ]
  },
  {
   "cell_type": "markdown",
   "id": "a6a879b8",
   "metadata": {},
   "source": [
    "### 3. Train/test split"
   ]
  },
  {
   "cell_type": "code",
   "execution_count": 219,
   "id": "35cb2a02",
   "metadata": {},
   "outputs": [],
   "source": [
    "# add a column of uniformly distributed numbers between 0 and 1 (we add a seed to get consistent results for testing)\n",
    "withRandom = dataset.randomColumn('random', seed=10)\n",
    "\n",
    "# split the dataset according to this random column (< or >= train_prop)\n",
    "train_prop = 0.9\n",
    "trainingSet = withRandom.filter(ee.Filter.lt('random', train_prop))\n",
    "testingSet = withRandom.filter(ee.Filter.gte('random', train_prop))"
   ]
  },
  {
   "cell_type": "code",
   "execution_count": 220,
   "id": "bdd9c453",
   "metadata": {},
   "outputs": [],
   "source": [
    "# remove irrelevant properties \n",
    "trainingSet = trainingSet.select(predictor_names+['depth'])\n",
    "testingSet = testingSet.select(predictor_names+['depth'])"
   ]
  },
  {
   "cell_type": "code",
   "execution_count": 221,
   "id": "15eb1a30",
   "metadata": {},
   "outputs": [
    {
     "data": {
      "application/vnd.jupyter.widget-view+json": {
       "model_id": "4d0308336e3c483782bf3e1a36ef0aac",
       "version_major": 2,
       "version_minor": 0
      },
      "text/plain": [
       "Map(center=[52.70465287691509, 0.062270855934294995], controls=(WidgetControl(options=['position', 'transparen…"
      ]
     },
     "metadata": {},
     "output_type": "display_data"
    }
   ],
   "source": [
    "# Visualise the training/testing split datasets \n",
    "Map = geemap.Map()\n",
    "\n",
    "# Re-plot the Fens outline\n",
    "style = {\n",
    "    'color': 'red',\n",
    "    'fillColor': '00000000'\n",
    "}\n",
    "Map.centerObject(fenOutline, 8)\n",
    "Map.addLayer(fenOutline.style(**style), {}, 'Fen Outline')\n",
    "\n",
    "# Plot the training dataset in blue\n",
    "style = {\n",
    "    'color': 'blue',\n",
    "    'pointSize': 2,\n",
    "    'pointShape': 'circle'\n",
    "}\n",
    "Map.addLayer(trainingSet.style(**style), {}, 'Training Data')\n",
    "\n",
    "# plot the testing dataset in purple\n",
    "style = {\n",
    "    'color': 'purple',\n",
    "    'pointSize': 2,\n",
    "    'pointShape': 'circle'\n",
    "}\n",
    "Map.addLayer(testingSet.style(**style), {}, 'Testing Data')\n",
    "Map\n"
   ]
  },
  {
   "cell_type": "markdown",
   "id": "e79dbfa4",
   "metadata": {},
   "source": [
    "### 4. Train a classifier "
   ]
  },
  {
   "cell_type": "markdown",
   "id": "c629d178",
   "metadata": {},
   "source": [
    "\"Training\" a classifier in GEE involves setting it up, but it only actually gets trained once we make a prediction using the classifier. Typically the classifiers in GEE are used for categorical variable predictions rather than continuos variable prediction"
   ]
  },
  {
   "cell_type": "code",
   "execution_count": 222,
   "id": "4e6fcf2e",
   "metadata": {},
   "outputs": [],
   "source": [
    "# specify the type of classifier, hyperparameters and output mode of the model\n",
    "classifier_RF = ee.Classifier.smileRandomForest(100).setOutputMode('REGRESSION')"
   ]
  },
  {
   "cell_type": "code",
   "execution_count": 223,
   "id": "4eaeda90",
   "metadata": {},
   "outputs": [],
   "source": [
    "# train the model using the label/feature data specified\n",
    "trainedClassifier = classifier_RF.train(features = trainingSet, \n",
    "                                        classProperty = 'depth', \n",
    "                                        inputProperties = predictor_names)\n"
   ]
  },
  {
   "cell_type": "code",
   "execution_count": 224,
   "id": "c4f8540e",
   "metadata": {},
   "outputs": [
    {
     "data": {
      "text/plain": [
       "{'importance': {'AV_STK_100': 24888247.48163134,\n",
       "  'AV_STK_150': 25053072.480284415,\n",
       "  'AV_STK_30': 2684446.1984126987,\n",
       "  'Blue': 5025662.799897698,\n",
       "  'CROPTYPE': 2554904.7733940966,\n",
       "  'Elevation': 17153775.313240044,\n",
       "  'Green': 4551314.9498442095,\n",
       "  'Landcover': 7214429.877682412,\n",
       "  'Landcover_conf': 7928343.357685918,\n",
       "  'MRRTF': 13161184.653111469,\n",
       "  'MRVBF': 0,\n",
       "  'NDMI': 9684255.982188847,\n",
       "  'NDVI': 6533060.498820054,\n",
       "  'NDWI': 6863410.187504162,\n",
       "  'NIR': 10390473.90165998,\n",
       "  'PALSAR_HH': 11522461.302514361,\n",
       "  'PALSAR_HV': 6627993.723797241,\n",
       "  'PALSAR_Index1': 8008618.998506589,\n",
       "  'PALSAR_Index2': 11649558.697925141,\n",
       "  'PALSAR_Index3': 6991894.359082754,\n",
       "  'REdge1': 10004557.637614159,\n",
       "  'REdge2': 5986350.150453586,\n",
       "  'REdge3': 8564942.4774965,\n",
       "  'REdge4': 7537768.7188046025,\n",
       "  'Red': 6631356.932654665,\n",
       "  'SWIR1': 9011746.290522125,\n",
       "  'SWIR2': 8381065.976072127,\n",
       "  'Sen1_Index1': 5303819.585081288,\n",
       "  'Sen1_Index2': 9667258.587432215,\n",
       "  'Sen1_Index3': 8319281.086256391,\n",
       "  'Sen1_VH': 9474743.54937087,\n",
       "  'Sen1_VV': 5691179.157634062,\n",
       "  'Soilscapes': 733888.6111111111,\n",
       "  'Soiltype': 2907234.579143079,\n",
       "  'TWI': 11452842.48797299,\n",
       "  'd2_River': 9518740.652605897,\n",
       "  'd2_Watercourse': 6133708.164843689},\n",
       " 'numberOfTrees': 100,\n",
       " 'outOfBagErrorEstimate': 32.048253368238356}"
      ]
     },
     "execution_count": 224,
     "metadata": {},
     "output_type": "execute_result"
    }
   ],
   "source": [
    "# provide some basic insights into the trained model (this can be optionally plotted later)\n",
    "trainedClassifier.explain().getInfo()"
   ]
  },
  {
   "cell_type": "code",
   "execution_count": 225,
   "id": "36f7187a",
   "metadata": {},
   "outputs": [
    {
     "data": {
      "image/png": "[encoded data removed]",
      "text/plain": [
       "<Figure size 640x480 with 1 Axes>"
      ]
     },
     "metadata": {},
     "output_type": "display_data"
    }
   ],
   "source": [
    "# get the importances and sort them\n",
    "import operator\n",
    "importances = trainedClassifier.explain().getInfo()['importance']\n",
    "sorted_importances = sorted(importances.items(), key=operator.itemgetter(1), reverse=True)\n",
    "\n",
    "# get the names and importances\n",
    "predictor_names = list(zip(*sorted_importances))[0]\n",
    "importances = list(zip(*sorted_importances))[1]\n",
    "\n",
    "# normalise the importances \n",
    "norm_importances = [float(importance)/sum(importances) for importance in importances]\n",
    "\n",
    "# plot the result\n",
    "plt.bar(predictor_names, norm_importances);\n",
    "plt.xticks(rotation=90);"
   ]
  },
  {
   "cell_type": "code",
   "execution_count": 226,
   "id": "9baccc2d",
   "metadata": {},
   "outputs": [],
   "source": [
    "# use the trained model to make predictions for training and test points\n",
    "trainPredictions = trainingSet.classify(trainedClassifier, 'predicted depth')\n",
    "testPredictions = testingSet.classify(trainedClassifier, 'predicted depth')"
   ]
  },
  {
   "cell_type": "markdown",
   "id": "72b41db6",
   "metadata": {},
   "source": [
    "### 5. Assess model accuracy"
   ]
  },
  {
   "cell_type": "markdown",
   "id": "5a7ff40f",
   "metadata": {},
   "source": [
    "Plot a histogram of training GT depths and a histogram of corresponding predictions"
   ]
  },
  {
   "cell_type": "code",
   "execution_count": 227,
   "id": "01690bb5",
   "metadata": {},
   "outputs": [
    {
     "data": {
      "image/png": "[encoded data removed]",
      "text/plain": [
       "<Figure size 640x480 with 2 Axes>"
      ]
     },
     "metadata": {},
     "output_type": "display_data"
    }
   ],
   "source": [
    "# get the relevant data\n",
    "actual_depths = trainPredictions.aggregate_array('depth').getInfo()\n",
    "predicted_depths = trainPredictions.aggregate_array('predicted depth').getInfo()\n",
    "\n",
    "# plot the GT histogram\n",
    "plt.subplot(1,2,1)\n",
    "plt.hist(actual_depths, bins=18, range=(0,360));\n",
    "plt.xlabel(\"Depth (cm)\")\n",
    "plt.ylabel(\"Num sites\")\n",
    "plt.title(\"Training Data\");\n",
    "ax = plt.gca()\n",
    "ax.set_ylim([0, 100]);\n",
    "\n",
    "# plot the prediction histogram\n",
    "plt.subplot(1,2,2)\n",
    "plt.hist(predicted_depths, bins=18, range=(0,360), color='red');\n",
    "plt.xlabel(\"Depth (cm)\")\n",
    "plt.ylabel(\"Num sites\")\n",
    "plt.title(\"Predicted Depth\");\n",
    "ax = plt.gca()\n",
    "ax.set_ylim([0, 100]);"
   ]
  },
  {
   "cell_type": "markdown",
   "id": "c4a5b949",
   "metadata": {},
   "source": [
    "Plot a scatter plot of the labels vs the predictions for the training data. If the accurate was 100% accurate then we would expect all the data points to line of the y=x curve"
   ]
  },
  {
   "cell_type": "code",
   "execution_count": 228,
   "id": "a75b7a7e",
   "metadata": {},
   "outputs": [
    {
     "data": {
      "image/png": "[encoded data removed]",
      "text/plain": [
       "<Figure size 640x480 with 1 Axes>"
      ]
     },
     "metadata": {},
     "output_type": "display_data"
    }
   ],
   "source": [
    "# add a scatter plot of the data points\n",
    "plt.scatter(actual_depths, predicted_depths, c='black', marker='+');\n",
    "plt.xlabel(\"Labelled Depth (cm)\")\n",
    "plt.ylabel(\"Predicted Depth (cm)\")\n",
    "plt.title(\"Predicted vs Labelled - Training Data\");\n",
    "ax = plt.gca()\n",
    "ax.set_ylim([-10, 360]);\n",
    "ax.set_xlim([-10, 360]);\n",
    "\n",
    "# add a y=x line\n",
    "plt.plot([-10, 360], [-10, 360]);"
   ]
  },
  {
   "cell_type": "code",
   "execution_count": 229,
   "id": "bb1a9871",
   "metadata": {},
   "outputs": [
    {
     "name": "stdout",
     "output_type": "stream",
     "text": [
      "R Squared: 0.9632323310440221\n",
      "RMSE: 18.57931543447952\n"
     ]
    }
   ],
   "source": [
    "# calculate the R-Squared and RMSE error to model evaluation\n",
    "R_squared = r2_score(actual_depths, predicted_depths)\n",
    "print(\"R Squared:\", R_squared)\n",
    "\n",
    "RMSE = mean_squared_error(actual_depths, predicted_depths, squared=False)\n",
    "print(\"RMSE:\", RMSE)"
   ]
  },
  {
   "cell_type": "code",
   "execution_count": 230,
   "id": "c499beee",
   "metadata": {},
   "outputs": [
    {
     "data": {
      "image/png": "[encoded data removed]",
      "text/plain": [
       "<Figure size 640x480 with 2 Axes>"
      ]
     },
     "metadata": {},
     "output_type": "display_data"
    }
   ],
   "source": [
    "# get the relevant data\n",
    "actual_depths = testPredictions.aggregate_array('depth').getInfo()\n",
    "predicted_depths = testPredictions.aggregate_array('predicted depth').getInfo()\n",
    "\n",
    "# plot the GT histogram\n",
    "plt.subplot(1,2,1)\n",
    "plt.hist(actual_depths, bins=18, range=(0,360), color='purple');\n",
    "plt.xlabel(\"Depth (cm)\")\n",
    "plt.ylabel(\"Num sites\")\n",
    "plt.title(\"Test Data\");\n",
    "ax = plt.gca()\n",
    "ax.set_ylim([0, 15]);\n",
    "\n",
    "# plot the prediction histogram\n",
    "plt.subplot(1,2,2)\n",
    "plt.hist(predicted_depths, bins=18, range=(0,360), color='red');\n",
    "plt.xlabel(\"Depth (cm)\")\n",
    "plt.ylabel(\"Num sites\")\n",
    "plt.title(\"Predicted Depth\");\n",
    "ax = plt.gca()\n",
    "ax.set_ylim([0, 15]);"
   ]
  },
  {
   "cell_type": "code",
   "execution_count": 231,
   "id": "312b6621",
   "metadata": {},
   "outputs": [
    {
     "data": {
      "image/png": "[encoded data removed]",
      "text/plain": [
       "<Figure size 640x480 with 1 Axes>"
      ]
     },
     "metadata": {},
     "output_type": "display_data"
    }
   ],
   "source": [
    "# add a scatter plot of the data points\n",
    "plt.scatter(actual_depths, predicted_depths, c='black', marker='+');\n",
    "plt.xlabel(\"Labelled Depth (cm)\")\n",
    "plt.ylabel(\"Predicted Depth (cm)\")\n",
    "plt.title(\"Predicted vs Labelled - Test Data\");\n",
    "ax = plt.gca()\n",
    "ax.set_ylim([-10, 360]);\n",
    "ax.set_xlim([-10, 360]);\n",
    "\n",
    "# add a y=x line\n",
    "plt.plot([-10, 360], [-10, 360], c='purple');"
   ]
  },
  {
   "cell_type": "code",
   "execution_count": 232,
   "id": "099eed3b",
   "metadata": {},
   "outputs": [
    {
     "name": "stdout",
     "output_type": "stream",
     "text": [
      "R Squared: 0.8347470378089805\n",
      "RMSE: 36.58375936453803\n"
     ]
    }
   ],
   "source": [
    "# calculate the R-Squared and RMSE error to model evaluation\n",
    "R_squared = r2_score(actual_depths, predicted_depths)\n",
    "print(\"R Squared:\", R_squared)\n",
    "\n",
    "RMSE = mean_squared_error(actual_depths, predicted_depths, squared=False)\n",
    "print(\"RMSE:\", RMSE)"
   ]
  },
  {
   "cell_type": "markdown",
   "id": "a005c389",
   "metadata": {},
   "source": [
    "### 6. Predict across Fens"
   ]
  },
  {
   "cell_type": "code",
   "execution_count": null,
   "id": "33dabf31",
   "metadata": {},
   "outputs": [],
   "source": [
    "# clip the predictors to only that within the Fens boundary (should be redundant)\n",
    "clipped_preds = predictor_stack.clip(fenOutline)"
   ]
  },
  {
   "cell_type": "code",
   "execution_count": null,
   "id": "2f5ccac2",
   "metadata": {},
   "outputs": [],
   "source": [
    "# make predictions across the Fens using the predictors\n",
    "classified_result = clipped_preds.classify(trainedClassifier, 'prediction')"
   ]
  },
  {
   "cell_type": "code",
   "execution_count": null,
   "id": "252889f8",
   "metadata": {},
   "outputs": [],
   "source": [
    "# find the minimum prediction value\n",
    "#predictedMin = classified_result.reduceRegion(reducer=ee.Reducer.min(), geometry=fenOutline, scale=10, bestEffort=True)\n",
    "#minVal = predictedMin.getNumber('prediction').getInfo()\n",
    "#print(\"Minimum:\", minVal)\n",
    "\n",
    "# find the maximum prediction value\n",
    "#predictedMax = classified_result.reduceRegion(reducer=ee.Reducer.max(), geometry=fenOutline, scale=10, bestEffort=True)\n",
    "#maxVal = predictedMax.getNumber('prediction').getInfo()\n",
    "#print(\"Maximum\", maxVal)"
   ]
  },
  {
   "cell_type": "code",
   "execution_count": null,
   "id": "6554f5c3",
   "metadata": {},
   "outputs": [],
   "source": [
    "# plot the predictions: black = 0cm, red = 302cm\n",
    "Map = geemap.Map()\n",
    "visParams = {\n",
    "    'palette': ['030303', 'd11515'],\n",
    "    'max': 300,\n",
    "    'min': 0,\n",
    "}\n",
    "Map.centerObject(fenOutline, 8)\n",
    "Map.addLayer(classified_result, visParams, 'Peat depth predictions')\n",
    "Map"
   ]
  },
  {
   "cell_type": "code",
   "execution_count": null,
   "id": "1f5890f1",
   "metadata": {},
   "outputs": [],
   "source": []
  }
 ],
 "metadata": {
  "kernelspec": {
   "display_name": "Python 3 (ipykernel)",
   "language": "python",
   "name": "python3"
  },
  "language_info": {
   "codemirror_mode": {
    "name": "ipython",
    "version": 3
   },
   "file_extension": ".py",
   "mimetype": "text/x-python",
   "name": "python",
   "nbconvert_exporter": "python",
   "pygments_lexer": "ipython3",
   "version": "3.8.2"
  }
 },
 "nbformat": 4,
 "nbformat_minor": 5
}
