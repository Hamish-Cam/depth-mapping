{
 "cells": [
  {
   "cell_type": "markdown",
   "id": "4b03d9e9",
   "metadata": {},
   "source": [
    "The aim of this notebook is to use the inbuilt supervised and unsupervised learning capabilities inside gee to train some basic models for predicting peat presence and peat depth. This will form some of the basic building blocks of the more advanced modelling.\n",
    "\n",
    "The first section of the notebook involves obtaining the relevant data to make the models (e.g. Sentinel-2 imagery limited to the Fens and cloud-cover dealt with).\n",
    "\n",
    "I will try to build the following basic models:\n",
    "1. A random forest regression model - model peat depth using the labelled dataset that we have. We will use only Sentinel 2 imagery as the predictor. \n",
    "2. Multi-predictor RF model - build the same model but this time add an additional second layer to the model e.g. lidar data\n",
    "3. Linear regression model - see if we can build models that use linear regression to compare performance (generally we would expect RF to do better). \n",
    "4. Unsupervised model - we should use the inbuilt capabilities to build a basic presence/absence model using Sentinel 2 data only. In the future, to limit runtime, we may need a presence/absence model to limit the prediction area.\n",
    "5. Completion - on completion of these four models, we should start looking at more advanced modelling methods such as AI/ML which will require exploration of the TensorFlow examples given. "
   ]
  },
  {
   "cell_type": "markdown",
   "id": "0bb53f66",
   "metadata": {},
   "source": [
    "## Setup"
   ]
  },
  {
   "cell_type": "code",
   "execution_count": 1,
   "id": "28372d0d",
   "metadata": {},
   "outputs": [],
   "source": [
    "# necessary imports \n",
    "import ee\n",
    "import geemap\n",
    "\n",
    "# if error with geopandas then try running:\n",
    "# pip install --upgrade --force-reinstall shapely"
   ]
  },
  {
   "cell_type": "code",
   "execution_count": 2,
   "id": "de19730f",
   "metadata": {},
   "outputs": [],
   "source": [
    "# data and file paths\n",
    "path_depths = \"/Users/hamishcampbell/Documents/Cambridge/PhD/1st Year/Code/depth-mapping/Data/depth_samples.shp\" \n",
    "path_fenOutline = \"/Users/hamishcampbell/Documents/Cambridge/PhD/1st Year/Code/depth-mapping/Data/NCA_46_The_Fens.shp\""
   ]
  },
  {
   "cell_type": "code",
   "execution_count": 3,
   "id": "7266711c",
   "metadata": {},
   "outputs": [],
   "source": [
    "# initialise Google Earth Engine\n",
    "\n",
    "# NOTE: first run only\n",
    "#ee.Authenticate()\n",
    "\n",
    "ee.Initialize()"
   ]
  },
  {
   "cell_type": "markdown",
   "id": "6a6f973c",
   "metadata": {},
   "source": [
    "## Load data into GEE"
   ]
  },
  {
   "cell_type": "code",
   "execution_count": 4,
   "id": "233ae2a9",
   "metadata": {},
   "outputs": [
    {
     "data": {
      "application/vnd.jupyter.widget-view+json": {
       "model_id": "6f8c1e125ba44d56bee85e1749775cee",
       "version_major": 2,
       "version_minor": 0
      },
      "text/plain": [
       "Map(center=[20, 0], controls=(WidgetControl(options=['position', 'transparent_bg'], widget=HBox(children=(Togg…"
      ]
     },
     "metadata": {},
     "output_type": "display_data"
    }
   ],
   "source": [
    "# setup the base map for adding layers to\n",
    "Map = geemap.Map()\n",
    "Map"
   ]
  },
  {
   "cell_type": "code",
   "execution_count": 6,
   "id": "166322ec",
   "metadata": {},
   "outputs": [],
   "source": [
    "# load the Fens outline shape file into GEE\n",
    "fenOutline = ee.FeatureCollection(geemap.shp_to_ee(path_fenOutline))"
   ]
  },
  {
   "cell_type": "code",
   "execution_count": 7,
   "id": "d90ee537",
   "metadata": {},
   "outputs": [],
   "source": [
    "# get all surface reflectance Sentinel-2 imagery \n",
    "sen = ee.ImageCollection(\"COPERNICUS/S2_SR_HARMONIZED\")\n",
    "\n",
    "# keep only the data that meets some basic criteria\n",
    "sen_filtered = (\n",
    "    sen.filterBounds(fenOutline)                    # spatially limited to tiles overlapping Fens\n",
    "    .filterDate('2022-01-01','2023-01-01')          # temporally limited to 2022 imagery\n",
    "    .sort('CLOUD_COVERAGE_ASSESSMENT', False)       # sort tiles by cloud cover\n",
    "    .select(['B[2-4]','MSK_CLDPRB']))               # only RGB and pixel probability of cloud presence  \n",
    "    "
   ]
  },
  {
   "cell_type": "code",
   "execution_count": 8,
   "id": "e8c7dcf1",
   "metadata": {},
   "outputs": [],
   "source": [
    "# Write a function that alters the pixel validity mask of a tile according to if cloud is present or not\n",
    "\n",
    "# if MSK_CLDPRB less than 10 => low chance of cloud => let mask remain valid at that pixel\n",
    "# if medium-high chance of cloud (>10) => update mask to say pixel is invalid (mask = 0)\n",
    "def check_cloud_absence(tile): \n",
    "    return tile.updateMask(tile.select('MSK_CLDPRB').lte(10))"
   ]
  },
  {
   "cell_type": "code",
   "execution_count": 9,
   "id": "c3e7abee",
   "metadata": {},
   "outputs": [],
   "source": [
    "# obtain a (mostly) cloud-free mosaic for each quarter \n",
    "quarterly_mosaics = []\n",
    "filter_start = ee.Date('2022-01-01')\n",
    "\n",
    "for quarter in range(0,4):\n",
    "    \n",
    "    # keep only tiles from the quarter being studied\n",
    "    quarterly_sen = sen_filtered.filterDate(filter_start, filter_start.advance(3,'month'))\n",
    "    \n",
    "    # Update the pixel validity mask to include condition on cloud absence\n",
    "    quarterly_sen = quarterly_sen.map(check_cloud_absence)\n",
    "    \n",
    "    # stitch the most cloud-free tiles together and replace remaining cloud pixels with those from next tile with presence\n",
    "    # NOTE: by sorting on cloud presence we keep complete image as temporally contiguous as possible\n",
    "    quarterly_mosaic = quarterly_sen.mosaic()\n",
    "    \n",
    "    # store the result\n",
    "    quarterly_mosaics.append(quarterly_mosaic)\n",
    "    \n",
    "    # repeat for next quarter\n",
    "    filter_start = filter_start.advance(3,'month')\n",
    "    "
   ]
  },
  {
   "cell_type": "code",
   "execution_count": 10,
   "id": "2e77b0ae",
   "metadata": {},
   "outputs": [],
   "source": [
    "# select the quarter of the year to use for modelling (1/2/3/4)\n",
    "quarter = 2"
   ]
  },
  {
   "cell_type": "code",
   "execution_count": 15,
   "id": "d99b6b77",
   "metadata": {},
   "outputs": [],
   "source": [
    "# Add the result to the map to check result\n",
    "visParams = {\n",
    "  'bands': ['B4', 'B3', 'B2'],\n",
    "  'max': 3000,\n",
    "  'min': 0,\n",
    "}\n",
    "Map.addLayer(quarterly_mosaics[quarter-1], visParams, 'Sentinel Mosaic')"
   ]
  },
  {
   "cell_type": "code",
   "execution_count": 16,
   "id": "b45b9f0d",
   "metadata": {},
   "outputs": [],
   "source": [
    "# plot the outline in black with a transparent fill\n",
    "style = {\n",
    "    'color': 'red',\n",
    "    'fillColor': '00000000'\n",
    "}\n",
    "Map.centerObject(fenOutline, 8)\n",
    "Map.addLayer(fenOutline.style(**style), {}, 'Fen Outline')"
   ]
  },
  {
   "cell_type": "code",
   "execution_count": 17,
   "id": "9d5aef94",
   "metadata": {},
   "outputs": [
    {
     "data": {
      "application/vnd.jupyter.widget-view+json": {
       "model_id": "6f8c1e125ba44d56bee85e1749775cee",
       "version_major": 2,
       "version_minor": 0
      },
      "text/plain": [
       "Map(bottom=21738.0, center=[52.70465287691509, 0.062270855934294995], controls=(WidgetControl(options=['positi…"
      ]
     },
     "metadata": {},
     "output_type": "display_data"
    }
   ],
   "source": [
    "# load the depth measurements shape file into GEE\n",
    "depths = geemap.shp_to_ee(path_depths)\n",
    "\n",
    "# plot the points at which ground-truth measurements were taken on the map\n",
    "style = {\n",
    "    'color': 'blue',\n",
    "    'pointSize': 2,\n",
    "    'pointShape': 'circle'\n",
    "}\n",
    "Map.addLayer(depths.style(**style), {}, 'Depth Measurements')\n",
    "Map"
   ]
  }
 ],
 "metadata": {
  "kernelspec": {
   "display_name": "Python 3 (ipykernel)",
   "language": "python",
   "name": "python3"
  },
  "language_info": {
   "codemirror_mode": {
    "name": "ipython",
    "version": 3
   },
   "file_extension": ".py",
   "mimetype": "text/x-python",
   "name": "python",
   "nbconvert_exporter": "python",
   "pygments_lexer": "ipython3",
   "version": "3.8.2"
  }
 },
 "nbformat": 4,
 "nbformat_minor": 5
}
