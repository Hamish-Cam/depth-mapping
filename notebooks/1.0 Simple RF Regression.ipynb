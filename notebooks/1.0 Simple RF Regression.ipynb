{
 "cells": [
  {
   "cell_type": "markdown",
   "id": "4b03d9e9",
   "metadata": {},
   "source": [
    "The aim of this notebook is to build a simple random forest regression model that makes predictions of peat depth using only Sentinel-2 imagery.\n",
    "\n",
    "In later notebooks we hope to obtain models for the following experiments: \n",
    "1. A random forest regression model - model peat depth using the labelled dataset that we have. We will use only Sentinel 2 imagery as the predictor. \n",
    "2. Multi-predictor RF model - build the same model but this time add an additional second layer to the model e.g. lidar data\n",
    "3. Linear regression model - see if we can build models that use linear regression to compare performance (generally we would expect RF to do better since its a non-linear model). \n",
    "4. Unsupervised model - we should use the inbuilt capabilities to build a basic presence/absence model using Sentinel 2 data only. In the future, to limit runtime, we may need a presence/absence model to limit the prediction area.\n",
    "5. Completion - on completion of these four models, we should start looking at more advanced modelling methods such as AI/ML which will require exploration of the TensorFlow examples given. \n"
   ]
  },
  {
   "cell_type": "markdown",
   "id": "0bb53f66",
   "metadata": {},
   "source": [
    "# Setup"
   ]
  },
  {
   "cell_type": "code",
   "execution_count": 1,
   "id": "28372d0d",
   "metadata": {},
   "outputs": [
    {
     "name": "stderr",
     "output_type": "stream",
     "text": [
      "/Users/hamishcampbell/opt/miniconda3/envs/geospatial/lib/python3.8/site-packages/scipy/__init__.py:146: UserWarning: A NumPy version >=1.16.5 and <1.23.0 is required for this version of SciPy (detected version 1.24.1\n",
      "  warnings.warn(f\"A NumPy version >={np_minversion} and <{np_maxversion}\"\n"
     ]
    }
   ],
   "source": [
    "# necessary imports \n",
    "import ee\n",
    "import geemap\n",
    "import matplotlib.pyplot as plt\n",
    "from sklearn.metrics import r2_score, mean_squared_error\n",
    "\n",
    "# if error with geopandas then try running:\n",
    "# pip install --upgrade --force-reinstall shapely"
   ]
  },
  {
   "cell_type": "code",
   "execution_count": 2,
   "id": "de19730f",
   "metadata": {},
   "outputs": [],
   "source": [
    "# data and file paths\n",
    "path_depths = \"/Users/hamishcampbell/Documents/Cambridge/PhD/1st Year/Code/depth-mapping/Data/depth_samples.shp\" \n",
    "path_fenOutline = \"/Users/hamishcampbell/Documents/Cambridge/PhD/1st Year/Code/depth-mapping/Data/NCA_46_The_Fens.shp\""
   ]
  },
  {
   "cell_type": "code",
   "execution_count": 3,
   "id": "7266711c",
   "metadata": {},
   "outputs": [],
   "source": [
    "# initialise Google Earth Engine\n",
    "\n",
    "# NOTE: first run only\n",
    "#ee.Authenticate()\n",
    "\n",
    "ee.Initialize()"
   ]
  },
  {
   "cell_type": "markdown",
   "id": "ca29bd1e",
   "metadata": {},
   "source": [
    "# Data Loading"
   ]
  },
  {
   "cell_type": "markdown",
   "id": "6a6f973c",
   "metadata": {},
   "source": [
    "### Sentinel-2"
   ]
  },
  {
   "cell_type": "code",
   "execution_count": 4,
   "id": "233ae2a9",
   "metadata": {},
   "outputs": [
    {
     "data": {
      "application/vnd.jupyter.widget-view+json": {
       "model_id": "007793d558a04976a35f9dc2d1a21d6a",
       "version_major": 2,
       "version_minor": 0
      },
      "text/plain": [
       "Map(center=[20, 0], controls=(WidgetControl(options=['position', 'transparent_bg'], widget=HBox(children=(Togg…"
      ]
     },
     "metadata": {},
     "output_type": "display_data"
    }
   ],
   "source": [
    "# setup the base map for adding layers to\n",
    "Map = geemap.Map()\n",
    "Map"
   ]
  },
  {
   "cell_type": "code",
   "execution_count": 5,
   "id": "166322ec",
   "metadata": {},
   "outputs": [],
   "source": [
    "# load the Fens outline shape file into GEE\n",
    "fenOutline = ee.FeatureCollection(geemap.shp_to_ee(path_fenOutline))"
   ]
  },
  {
   "cell_type": "code",
   "execution_count": 6,
   "id": "d90ee537",
   "metadata": {},
   "outputs": [],
   "source": [
    "# get all surface reflectance Sentinel-2 imagery \n",
    "sen = ee.ImageCollection(\"COPERNICUS/S2_SR_HARMONIZED\")\n",
    "\n",
    "# keep only the data that meets some basic criteria\n",
    "sen_filtered = (\n",
    "    sen.filterBounds(fenOutline)                    # spatially limited to tiles overlapping Fens\n",
    "    .filterDate('2022-01-01','2023-01-01')          # temporally limited to 2022 imagery\n",
    "    .sort('CLOUD_COVERAGE_ASSESSMENT', False)       # sort tiles by cloud cover\n",
    "    .select(['B[2-4]','MSK_CLDPRB']))               # only RGB and pixel probability of cloud presence  \n",
    "    "
   ]
  },
  {
   "cell_type": "code",
   "execution_count": 7,
   "id": "e8c7dcf1",
   "metadata": {},
   "outputs": [],
   "source": [
    "# Write a function that alters the pixel validity mask of a tile according to if cloud is present or not\n",
    "def check_cloud_absence(tile): \n",
    "    # if MSK_CLDPRB less than 10 => low chance of cloud => let mask remain valid at that pixel\n",
    "    # if medium-high chance of cloud (>10) => update mask to say pixel is invalid (mask = 0)\n",
    "    return tile.updateMask(tile.select('MSK_CLDPRB').lte(10))"
   ]
  },
  {
   "cell_type": "code",
   "execution_count": 8,
   "id": "c3e7abee",
   "metadata": {},
   "outputs": [],
   "source": [
    "# obtain a (mostly) cloud-free mosaic for each quarter \n",
    "quarterly_mosaics = []\n",
    "filter_start = ee.Date('2022-01-01')\n",
    "\n",
    "for quarter in range(0,4):\n",
    "    \n",
    "    # keep only tiles from the quarter being studied\n",
    "    quarterly_sen = sen_filtered.filterDate(filter_start, filter_start.advance(3,'month'))\n",
    "    \n",
    "    # Update the pixel validity mask to include condition on cloud absence\n",
    "    quarterly_sen = quarterly_sen.map(check_cloud_absence)\n",
    "        \n",
    "    # stitch the most cloud-free tiles together and replace remaining cloud pixels with those from next tile with presence\n",
    "    # NOTE: by sorting on cloud presence we keep complete image as temporally contiguous as possible\n",
    "    quarterly_mosaic = quarterly_sen.mosaic()\n",
    "    \n",
    "    # store the results required\n",
    "    quarterly_mosaics.append(quarterly_mosaic.select(['B[2-4]']))\n",
    "    \n",
    "    # repeat for next quarter\n",
    "    filter_start = filter_start.advance(3,'month')\n",
    "    "
   ]
  },
  {
   "cell_type": "code",
   "execution_count": 9,
   "id": "2e77b0ae",
   "metadata": {},
   "outputs": [],
   "source": [
    "# select the quarter of the year to use for modelling (1/2/3/4)\n",
    "quarter = 2\n",
    "sen_mosaic = quarterly_mosaics[quarter-1]"
   ]
  },
  {
   "cell_type": "code",
   "execution_count": 10,
   "id": "d99b6b77",
   "metadata": {},
   "outputs": [],
   "source": [
    "# Add the result to the map to check result\n",
    "visParams = {\n",
    "  'bands': ['B4', 'B3', 'B2'],\n",
    "  'max': 3000,\n",
    "  'min': 0,\n",
    "}\n",
    "Map.addLayer(sen_mosaic, visParams, 'Sentinel Mosaic')"
   ]
  },
  {
   "cell_type": "markdown",
   "id": "d26c5f1c",
   "metadata": {},
   "source": [
    "### Fens Outline"
   ]
  },
  {
   "cell_type": "code",
   "execution_count": 11,
   "id": "b45b9f0d",
   "metadata": {},
   "outputs": [],
   "source": [
    "# plot the outline in black with a transparent fill\n",
    "style = {\n",
    "    'color': 'red',\n",
    "    'fillColor': '00000000'\n",
    "}\n",
    "Map.centerObject(fenOutline, 8)\n",
    "Map.addLayer(fenOutline.style(**style), {}, 'Fen Outline')"
   ]
  },
  {
   "cell_type": "markdown",
   "id": "722f5967",
   "metadata": {},
   "source": [
    "### Depth Measurements"
   ]
  },
  {
   "cell_type": "code",
   "execution_count": 12,
   "id": "9d5aef94",
   "metadata": {},
   "outputs": [
    {
     "data": {
      "application/vnd.jupyter.widget-view+json": {
       "model_id": "007793d558a04976a35f9dc2d1a21d6a",
       "version_major": 2,
       "version_minor": 0
      },
      "text/plain": [
       "Map(center=[52.70465287691509, 0.062270855934294995], controls=(WidgetControl(options=['position', 'transparen…"
      ]
     },
     "metadata": {},
     "output_type": "display_data"
    }
   ],
   "source": [
    "# load the depth measurements shape file into GEE\n",
    "depths = geemap.shp_to_ee(path_depths)\n",
    "\n",
    "# plot the points at which ground-truth measurements were taken on the map\n",
    "style = {\n",
    "    'color': 'blue',\n",
    "    'pointSize': 2,\n",
    "    'pointShape': 'circle'\n",
    "}\n",
    "Map.addLayer(depths.style(**style), {}, 'Depth Measurements')\n",
    "Map"
   ]
  },
  {
   "cell_type": "markdown",
   "id": "857e4e3c",
   "metadata": {},
   "source": [
    "# 1. Random Forest Regression"
   ]
  },
  {
   "cell_type": "markdown",
   "id": "26a43228",
   "metadata": {},
   "source": [
    "We need a feature collection containing Sentinel data for each of the training depth locations. This means we need to:\n",
    "1. Sample the Sentinel-2 imagery at the ground-truth points\n",
    "2. Inner join the GT data and Sentinel data using their geometries\n",
    "3. Split the data into 90%-10% split\n",
    "4. Feed this feature collection into the classifier model (regression mode)\n",
    "5. Test the accuracy of the classifier \n",
    "6. Apply the classifier to the rest of the Fens boundary"
   ]
  },
  {
   "cell_type": "markdown",
   "id": "8d198e28",
   "metadata": {},
   "source": [
    "### 1. Sampling"
   ]
  },
  {
   "cell_type": "code",
   "execution_count": 13,
   "id": "6f7cce5a",
   "metadata": {},
   "outputs": [],
   "source": [
    "# sample the Sentinel data at each of the GT points\n",
    "sen_samples = sen_mosaic.sample(depths.geometry(), scale=10, geometries=True) "
   ]
  },
  {
   "cell_type": "code",
   "execution_count": 14,
   "id": "ccea5c02",
   "metadata": {},
   "outputs": [],
   "source": [
    "# To take random samples across the Fens\n",
    "#sen_samples2 = sen_mosaic.sample(fenOutline.geometry(), 10, numPixels=171, geometries=True)"
   ]
  },
  {
   "cell_type": "markdown",
   "id": "99fc48ab",
   "metadata": {},
   "source": [
    "### 2. Inner Join (and buffering)"
   ]
  },
  {
   "cell_type": "code",
   "execution_count": 15,
   "id": "b865b29e",
   "metadata": {},
   "outputs": [],
   "source": [
    "# define an algorithm to be applied to each Sentinel sample: we want to buffer the geometry of assigned to each sample\n",
    "# by 10m, since the current geometry is approximate i.e. does not match the GT points used to guide sampler\n",
    "def bufferPoints(currentFeature, pastFeatureList):\n",
    "    return ee.List(pastFeatureList).add(currentFeature.buffer(10))\n",
    "\n",
    "# apply the algorithm to each sample in our collection and store the result in a list\n",
    "sen_samples = sen_samples.iterate(bufferPoints, ee.List([]))\n",
    "\n",
    "# convert this list back into a FeatureCollection\n",
    "sen_samples = ee.FeatureCollection(sen_samples.getInfo())"
   ]
  },
  {
   "cell_type": "code",
   "execution_count": 16,
   "id": "2bcd82d9",
   "metadata": {},
   "outputs": [
    {
     "data": {
      "application/vnd.jupyter.widget-view+json": {
       "model_id": "007793d558a04976a35f9dc2d1a21d6a",
       "version_major": 2,
       "version_minor": 0
      },
      "text/plain": [
       "Map(center=[52.70465287691509, 0.062270855934294995], controls=(WidgetControl(options=['position', 'transparen…"
      ]
     },
     "metadata": {},
     "output_type": "display_data"
    }
   ],
   "source": [
    "# Visualise the process completed\n",
    "Map.addLayer(sen_samples, {}, 'Sentinel buffers')\n",
    "Map"
   ]
  },
  {
   "cell_type": "code",
   "execution_count": 17,
   "id": "7cc8f8a9",
   "metadata": {},
   "outputs": [],
   "source": [
    "# Setup the inner join operation between the Sentinel and GT datasets\n",
    "\n",
    "# make a filter object that assesses intersections of objects. '.geo' specifies that for the 1st (left) and 2nd (right)\n",
    "# objects being considered we want to apply the filter to the geometry fields of each feature instead of a property\n",
    "intersectFilter = ee.Filter.intersects(leftField='.geo', rightField='.geo')\n",
    "\n",
    "# define an inner join operation\n",
    "IJ_operation = ee.Join.inner('sentinel_data', 'depth_data')\n",
    "\n",
    "# apply the join\n",
    "combinedDS = IJ_operation.apply(sen_samples, depths, intersectFilter)\n"
   ]
  },
  {
   "cell_type": "code",
   "execution_count": 18,
   "id": "a769022e",
   "metadata": {},
   "outputs": [],
   "source": [
    "# The result has a complex nested structure that isn't useful for the operations we want. Thus, re-define a new dataset\n",
    "# with the same information but an improved structure \n",
    "def extract_depths(feature): \n",
    "    return feature.get('depth_data')\n",
    "\n",
    "def extract_sentinel(feature): \n",
    "    return feature.get('sentinel_data')\n",
    "\n",
    "# get information associated with the depth subcollection\n",
    "depth_collection = combinedDS.map(extract_depths)\n",
    "\n",
    "# get information associated with the sentinel subcollection\n",
    "sentinel_collection = combinedDS.map(extract_sentinel)\n"
   ]
  },
  {
   "cell_type": "code",
   "execution_count": 19,
   "id": "11b4c4b3",
   "metadata": {},
   "outputs": [],
   "source": [
    "# get the relevant information from the subcollections\n",
    "geometries = depth_collection.geometry().getInfo()['coordinates']\n",
    "thicknesses = depth_collection.aggregate_array('Thickness').getInfo()\n",
    "B2 = sentinel_collection.aggregate_array('B2').getInfo()\n",
    "B3 = sentinel_collection.aggregate_array('B3').getInfo()\n",
    "B4 = sentinel_collection.aggregate_array('B4').getInfo()"
   ]
  },
  {
   "cell_type": "code",
   "execution_count": 20,
   "id": "c43c9c2a",
   "metadata": {},
   "outputs": [],
   "source": [
    "# make a new feature collection that stores this information efficiently\n",
    "data = []\n",
    "idx = 0\n",
    "for coords in geometries:\n",
    "    feature = ee.Feature(ee.Geometry.Point(coords), \n",
    "                         {'depth': thicknesses[idx], \n",
    "                          'B2': B2[idx],\n",
    "                          'B3': B3[idx],\n",
    "                          'B4': B4[idx]})\n",
    "    data.append(feature)\n",
    "    idx += 1\n",
    "    \n",
    "# finally convert the data into a feature collection    \n",
    "dataset = ee.FeatureCollection(data)"
   ]
  },
  {
   "cell_type": "markdown",
   "id": "a6a879b8",
   "metadata": {},
   "source": [
    "### 3. Train/test split"
   ]
  },
  {
   "cell_type": "code",
   "execution_count": 21,
   "id": "35cb2a02",
   "metadata": {},
   "outputs": [],
   "source": [
    "# add a column of uniformly distributed numbers between 0 and 1\n",
    "withRandom = dataset.randomColumn('random')\n",
    "\n",
    "# split the dataset according to this random column (< or >= train_prop)\n",
    "train_prop = 0.9\n",
    "trainingSet = withRandom.filter(ee.Filter.lt('random', train_prop))\n",
    "testingSet = withRandom.filter(ee.Filter.gte('random', train_prop))"
   ]
  },
  {
   "cell_type": "code",
   "execution_count": 22,
   "id": "bdd9c453",
   "metadata": {},
   "outputs": [],
   "source": [
    "# remove irrelevant properties \n",
    "trainingSet = trainingSet.select(['B[2-4]', 'depth'])\n",
    "testingSet = testingSet.select(['B[2-4]', 'depth'])"
   ]
  },
  {
   "cell_type": "code",
   "execution_count": 23,
   "id": "15eb1a30",
   "metadata": {},
   "outputs": [
    {
     "data": {
      "application/vnd.jupyter.widget-view+json": {
       "model_id": "46581b17b3b948c382280671d72b9328",
       "version_major": 2,
       "version_minor": 0
      },
      "text/plain": [
       "Map(center=[52.70465287691509, 0.062270855934294995], controls=(WidgetControl(options=['position', 'transparen…"
      ]
     },
     "metadata": {},
     "output_type": "display_data"
    }
   ],
   "source": [
    "# Visualise the two datasets \n",
    "Map = geemap.Map()\n",
    "\n",
    "# Re-plot Sentinel-2 imagery\n",
    "visParams = {\n",
    "  'bands': ['B4', 'B3', 'B2'],\n",
    "  'max': 3000,\n",
    "  'min': 0,\n",
    "}\n",
    "Map.addLayer(sen_mosaic, visParams, 'Sentinel Mosaic')\n",
    "\n",
    "# Re-plot the Fens outline\n",
    "style = {\n",
    "    'color': 'red',\n",
    "    'fillColor': '00000000'\n",
    "}\n",
    "Map.centerObject(fenOutline, 8)\n",
    "Map.addLayer(fenOutline.style(**style), {}, 'Fen Outline')\n",
    "\n",
    "# Plot the training dataset in blue\n",
    "style = {\n",
    "    'color': 'blue',\n",
    "    'pointSize': 2,\n",
    "    'pointShape': 'circle'\n",
    "}\n",
    "Map.addLayer(trainingSet.style(**style), {}, 'Training Data')\n",
    "\n",
    "# plot the testing dataset in purple\n",
    "style = {\n",
    "    'color': 'purple',\n",
    "    'pointSize': 2,\n",
    "    'pointShape': 'circle'\n",
    "}\n",
    "Map.addLayer(testingSet.style(**style), {}, 'Testing Data')\n",
    "Map\n"
   ]
  },
  {
   "cell_type": "markdown",
   "id": "e79dbfa4",
   "metadata": {},
   "source": [
    "### 4. Train a classifier "
   ]
  },
  {
   "cell_type": "markdown",
   "id": "c629d178",
   "metadata": {},
   "source": [
    "\"Training\" a classifier in GEE involves setting it up, but it only actually gets trained once we make a prediction using the classifier. Typically the classifiers in GEE are used for categorical variable predictions rather than continuos variable prediction"
   ]
  },
  {
   "cell_type": "code",
   "execution_count": 24,
   "id": "4e6fcf2e",
   "metadata": {},
   "outputs": [],
   "source": [
    "# specify the type of classifier, hyperparameters and output mode of the model\n",
    "classifier_RF = ee.Classifier.smileRandomForest(10).setOutputMode('REGRESSION')"
   ]
  },
  {
   "cell_type": "code",
   "execution_count": 25,
   "id": "4eaeda90",
   "metadata": {},
   "outputs": [],
   "source": [
    "# train the model using the label/feature data specified\n",
    "trainedClassifier = classifier_RF.train(features = trainingSet, \n",
    "                                        classProperty = 'depth', \n",
    "                                        inputProperties = ['B2', 'B3', 'B4'])\n"
   ]
  },
  {
   "cell_type": "code",
   "execution_count": 26,
   "id": "c4f8540e",
   "metadata": {},
   "outputs": [
    {
     "data": {
      "text/plain": [
       "{'importance': {'B2': 7475982.838756263,\n",
       "  'B3': 4773463.014824969,\n",
       "  'B4': 6622450.315366683},\n",
       " 'numberOfTrees': 10,\n",
       " 'outOfBagErrorEstimate': 89.00757447802272}"
      ]
     },
     "execution_count": 26,
     "metadata": {},
     "output_type": "execute_result"
    }
   ],
   "source": [
    "# provide some basic insights into the trained model (this can be optionally plotted later)\n",
    "trainedClassifier.explain().getInfo()"
   ]
  },
  {
   "cell_type": "code",
   "execution_count": 27,
   "id": "9baccc2d",
   "metadata": {},
   "outputs": [],
   "source": [
    "# use the trained model to make predictions for training and test points\n",
    "trainPredictions = trainingSet.classify(trainedClassifier, 'predicted depth')\n",
    "testPredictions = testingSet.classify(trainedClassifier, 'predicted depth')"
   ]
  },
  {
   "cell_type": "markdown",
   "id": "72b41db6",
   "metadata": {},
   "source": [
    "### 5. Assess model accuracy"
   ]
  },
  {
   "cell_type": "markdown",
   "id": "5a7ff40f",
   "metadata": {},
   "source": [
    "Plot a histogram of training GT depths and a histogram of corresponding predictions"
   ]
  },
  {
   "cell_type": "code",
   "execution_count": 28,
   "id": "01690bb5",
   "metadata": {},
   "outputs": [
    {
     "data": {
      "image/png": "[encoded data removed]",
      "text/plain": [
       "<Figure size 640x480 with 2 Axes>"
      ]
     },
     "metadata": {},
     "output_type": "display_data"
    }
   ],
   "source": [
    "# get the relevant data\n",
    "actual_depths = trainPredictions.aggregate_array('depth').getInfo()\n",
    "predicted_depths = trainPredictions.aggregate_array('predicted depth').getInfo()\n",
    "\n",
    "# plot the GT histogram\n",
    "plt.subplot(1,2,1)\n",
    "plt.hist(actual_depths, bins=18, range=(0,360));\n",
    "plt.xlabel(\"Depth (cm)\")\n",
    "plt.ylabel(\"Num sites\")\n",
    "plt.title(\"Training Data\");\n",
    "ax = plt.gca()\n",
    "ax.set_ylim([0, 100]);\n",
    "\n",
    "# plot the prediction histogram\n",
    "plt.subplot(1,2,2)\n",
    "plt.hist(predicted_depths, bins=18, range=(0,360), color='red');\n",
    "plt.xlabel(\"Depth (cm)\")\n",
    "plt.ylabel(\"Num sites\")\n",
    "plt.title(\"Predicted Depth\");\n",
    "ax = plt.gca()\n",
    "ax.set_ylim([0, 100]);"
   ]
  },
  {
   "cell_type": "markdown",
   "id": "c4a5b949",
   "metadata": {},
   "source": [
    "Plot a scatter plot of the labels vs the predictions for the training data. If the accurate was 100% accurate then we would expect all the data points to line of the y=x curve"
   ]
  },
  {
   "cell_type": "code",
   "execution_count": 29,
   "id": "a75b7a7e",
   "metadata": {},
   "outputs": [
    {
     "data": {
      "image/png": "[encoded data removed]",
      "text/plain": [
       "<Figure size 640x480 with 1 Axes>"
      ]
     },
     "metadata": {},
     "output_type": "display_data"
    }
   ],
   "source": [
    "# add a scatter plot of the data points\n",
    "plt.scatter(actual_depths, predicted_depths, c='black', marker='+');\n",
    "plt.xlabel(\"Labelled Depth (cm)\")\n",
    "plt.ylabel(\"Predicted Depth (cm)\")\n",
    "plt.title(\"Predicted vs Labelled - Training Data\");\n",
    "ax = plt.gca()\n",
    "ax.set_ylim([-10, 360]);\n",
    "ax.set_xlim([-10, 360]);\n",
    "\n",
    "# add a y=x line\n",
    "plt.plot([-10, 360], [-10, 360]);"
   ]
  },
  {
   "cell_type": "code",
   "execution_count": 30,
   "id": "bb1a9871",
   "metadata": {},
   "outputs": [
    {
     "name": "stdout",
     "output_type": "stream",
     "text": [
      "R Squared: 0.6380706801150894\n",
      "RMSE: 58.09072263816255\n"
     ]
    }
   ],
   "source": [
    "# calculate the R-Squared and RMSE error to model evaluation\n",
    "R_squared = r2_score(actual_depths, predicted_depths)\n",
    "print(\"R Squared:\", R_squared)\n",
    "\n",
    "RMSE = mean_squared_error(actual_depths, predicted_depths, squared=False)\n",
    "print(\"RMSE:\", RMSE)"
   ]
  },
  {
   "cell_type": "code",
   "execution_count": 31,
   "id": "c499beee",
   "metadata": {},
   "outputs": [
    {
     "data": {
      "image/png": "[encoded data removed]",
      "text/plain": [
       "<Figure size 640x480 with 2 Axes>"
      ]
     },
     "metadata": {},
     "output_type": "display_data"
    }
   ],
   "source": [
    "# get the relevant data\n",
    "actual_depths = testPredictions.aggregate_array('depth').getInfo()\n",
    "predicted_depths = testPredictions.aggregate_array('predicted depth').getInfo()\n",
    "\n",
    "# plot the GT histogram\n",
    "plt.subplot(1,2,1)\n",
    "plt.hist(actual_depths, bins=18, range=(0,360), color='purple');\n",
    "plt.xlabel(\"Depth (cm)\")\n",
    "plt.ylabel(\"Num sites\")\n",
    "plt.title(\"Test Data\");\n",
    "ax = plt.gca()\n",
    "ax.set_ylim([0, 15]);\n",
    "\n",
    "# plot the prediction histogram\n",
    "plt.subplot(1,2,2)\n",
    "plt.hist(predicted_depths, bins=18, range=(0,360), color='red');\n",
    "plt.xlabel(\"Depth (cm)\")\n",
    "plt.ylabel(\"Num sites\")\n",
    "plt.title(\"Predicted Depth\");\n",
    "ax = plt.gca()\n",
    "ax.set_ylim([0, 15]);"
   ]
  },
  {
   "cell_type": "code",
   "execution_count": 32,
   "id": "312b6621",
   "metadata": {},
   "outputs": [
    {
     "data": {
      "image/png": "[encoded data removed]",
      "text/plain": [
       "<Figure size 640x480 with 1 Axes>"
      ]
     },
     "metadata": {},
     "output_type": "display_data"
    }
   ],
   "source": [
    "# add a scatter plot of the data points\n",
    "plt.scatter(actual_depths, predicted_depths, c='black', marker='+');\n",
    "plt.xlabel(\"Labelled Depth (cm)\")\n",
    "plt.ylabel(\"Predicted Depth (cm)\")\n",
    "plt.title(\"Predicted vs Labelled - Test Data\");\n",
    "ax = plt.gca()\n",
    "ax.set_ylim([-10, 360]);\n",
    "ax.set_xlim([-10, 360]);\n",
    "\n",
    "# add a y=x line\n",
    "plt.plot([-10, 360], [-10, 360], c='purple');"
   ]
  },
  {
   "cell_type": "code",
   "execution_count": 33,
   "id": "099eed3b",
   "metadata": {},
   "outputs": [
    {
     "name": "stdout",
     "output_type": "stream",
     "text": [
      "R Squared: 0.588314293314429\n",
      "RMSE: 61.470210792015465\n"
     ]
    }
   ],
   "source": [
    "# calculate the R-Squared and RMSE error to model evaluation\n",
    "R_squared = r2_score(actual_depths, predicted_depths)\n",
    "print(\"R Squared:\", R_squared)\n",
    "\n",
    "RMSE = mean_squared_error(actual_depths, predicted_depths, squared=False)\n",
    "print(\"RMSE:\", RMSE)"
   ]
  },
  {
   "cell_type": "markdown",
   "id": "a005c389",
   "metadata": {},
   "source": [
    "### 6. Predict across Fens"
   ]
  },
  {
   "cell_type": "code",
   "execution_count": 34,
   "id": "33dabf31",
   "metadata": {},
   "outputs": [],
   "source": [
    "# clip the sentinel imagery to only that within the Fens boundary \n",
    "clipped_sen = sen_mosaic.clip(fenOutline)"
   ]
  },
  {
   "cell_type": "code",
   "execution_count": 35,
   "id": "2f5ccac2",
   "metadata": {},
   "outputs": [],
   "source": [
    "# make predictions across the Fens using the Sentinel imagery\n",
    "classified_sen = clipped_sen.classify(trainedClassifier, 'prediction')"
   ]
  },
  {
   "cell_type": "code",
   "execution_count": 36,
   "id": "252889f8",
   "metadata": {},
   "outputs": [
    {
     "name": "stdout",
     "output_type": "stream",
     "text": [
      "Minimum: 0\n",
      "Maximum 254.8\n"
     ]
    }
   ],
   "source": [
    "# find the minimum prediction value\n",
    "predictedMin = classified_sen.reduceRegion(reducer=ee.Reducer.min(), geometry=fenOutline, scale=10, bestEffort=True)\n",
    "minVal = predictedMin.getNumber('prediction').getInfo()\n",
    "print(\"Minimum:\", minVal)\n",
    "\n",
    "# find the maximum prediction value\n",
    "predictedMax = classified_sen.reduceRegion(reducer=ee.Reducer.max(), geometry=fenOutline, scale=10, bestEffort=True)\n",
    "maxVal = predictedMax.getNumber('prediction').getInfo()\n",
    "print(\"Maximum\", maxVal)"
   ]
  },
  {
   "cell_type": "code",
   "execution_count": 39,
   "id": "6554f5c3",
   "metadata": {},
   "outputs": [
    {
     "data": {
      "application/vnd.jupyter.widget-view+json": {
       "model_id": "9913e9488bd248eda4c95b2e97db7683",
       "version_major": 2,
       "version_minor": 0
      },
      "text/plain": [
       "Map(center=[52.70465287691509, 0.062270855934294995], controls=(WidgetControl(options=['position', 'transparen…"
      ]
     },
     "metadata": {},
     "output_type": "display_data"
    }
   ],
   "source": [
    "# plot the predictions: black = 0cm, red = 285cm\n",
    "Map = geemap.Map()\n",
    "visParams = {\n",
    "    'palette': ['030303', 'd11515'],\n",
    "    'max': maxVal,\n",
    "    'min': minVal,\n",
    "}\n",
    "Map.centerObject(fenOutline, 8)\n",
    "Map.addLayer(classified_sen, visParams, 'Peat depth predictions')\n",
    "Map"
   ]
  }
 ],
 "metadata": {
  "kernelspec": {
   "display_name": "Python 3 (ipykernel)",
   "language": "python",
   "name": "python3"
  },
  "language_info": {
   "codemirror_mode": {
    "name": "ipython",
    "version": 3
   },
   "file_extension": ".py",
   "mimetype": "text/x-python",
   "name": "python",
   "nbconvert_exporter": "python",
   "pygments_lexer": "ipython3",
   "version": "3.8.2"
  }
 },
 "nbformat": 4,
 "nbformat_minor": 5
}
